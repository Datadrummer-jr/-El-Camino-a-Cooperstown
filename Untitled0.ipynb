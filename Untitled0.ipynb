{
  "cells": [
    {
      "cell_type": "markdown",
      "metadata": {
        "id": "v8dYDFWrBxgT"
      },
      "source": []
    },
    {
      "cell_type": "code",
      "execution_count": 92,
      "metadata": {
        "colab": {
          "base_uri": "https://localhost:8080/",
          "height": 0
        },
        "id": "VWcutBYpBzPH",
        "outputId": "f35c2bf7-eee0-4c7a-8e6b-1d0792004d23"
      },
      "outputs": [
        {
          "output_type": "stream",
          "name": "stdout",
          "text": [
            "(Reading database ... \r(Reading database ... 5%\r(Reading database ... 10%\r(Reading database ... 15%\r(Reading database ... 20%\r(Reading database ... 25%\r(Reading database ... 30%\r(Reading database ... 35%\r(Reading database ... 40%\r(Reading database ... 45%\r(Reading database ... 50%\r(Reading database ... 55%\r(Reading database ... 60%\r(Reading database ... 65%\r(Reading database ... 70%\r(Reading database ... 75%\r(Reading database ... 80%\r(Reading database ... 85%\r(Reading database ... 90%\r(Reading database ... 95%\r(Reading database ... 100%\r(Reading database ... 126267 files and directories currently installed.)\n",
            "Preparing to unpack google-chrome-stable_current_amd64.deb ...\n",
            "Unpacking google-chrome-stable (137.0.7151.68-1) over (137.0.7151.68-1) ...\n",
            "Setting up google-chrome-stable (137.0.7151.68-1) ...\n",
            "Processing triggers for mailcap (3.70+nmu1ubuntu1) ...\n",
            "Processing triggers for man-db (2.10.2-1) ...\n",
            "Reading package lists... Done\n",
            "Building dependency tree... Done\n",
            "Reading state information... Done\n",
            "0 upgraded, 0 newly installed, 0 to remove and 35 not upgraded.\n",
            "Google Chrome 137.0.7151.68 \n"
          ]
        }
      ],
      "source": [
        "!wget -q https://dl.google.com/linux/direct/google-chrome-stable_current_amd64.deb\n",
        "!dpkg -i google-chrome-stable_current_amd64.deb\n",
        "!apt-get -f install -y\n",
        "!google-chrome --version\n"
      ]
    },
    {
      "cell_type": "code",
      "execution_count": 93,
      "metadata": {
        "colab": {
          "base_uri": "https://localhost:8080/",
          "height": 0
        },
        "id": "gVF-kPxvB7cI",
        "outputId": "4c0312b4-6423-430b-967a-e125448259d2"
      },
      "outputs": [
        {
          "output_type": "stream",
          "name": "stdout",
          "text": [
            "Version: 137.0.7151.68-1\n",
            "chromedriver-linux64.zip: Zip archive data, at least v2.0 to extract, compression method=deflate\n",
            " inflated: chromedriver-linux64/LICENSE.chromedriver\n",
            " inflated: chromedriver-linux64/THIRD_PARTY_NOTICES.chromedriver\n",
            " inflated: chromedriver-linux64/chromedriver\n",
            "mv: cannot stat 'chromedriver-linux64/chromedriver': No such file or directory\n",
            "ChromeDriver 137.0.7151.55 (254bc711794d7ad269495f3d419a209935b78cad-refs/branch-heads/7151@{#1757})\n"
          ]
        }
      ],
      "source": [
        "!dpkg -s google-chrome-stable | grep Version\n",
        "!wget -q https://mirrors.huaweicloud.com/chromedriver/137.0.7151.55/chromedriver-linux64.zip\n",
        "!file chromedriver-linux64.zip\n",
        "!jar xvf chromedriver-linux64.zip\n",
        "!chmod +x chromedriver-linux64/chromedriver\n",
        "!sudo mv chromedriver-linux64/chromedriver /usr/bin/chromedriver\n",
        "!sudo chmod +x /usr/bin/chromedriver\n",
        "!mv chromedriver-linux64/chromedriver /usr/bin/chromedriver\n",
        "!chromedriver --version\n"
      ]
    },
    {
      "cell_type": "code",
      "execution_count": 94,
      "metadata": {
        "id": "jwIyq99fLMUx",
        "colab": {
          "base_uri": "https://localhost:8080/",
          "height": 0
        },
        "outputId": "bfe52aa0-fc9f-4d66-f471-ba8edde5f012"
      },
      "outputs": [
        {
          "output_type": "stream",
          "name": "stdout",
          "text": [
            "Requirement already satisfied: selenium in /usr/local/lib/python3.11/dist-packages (4.33.0)\n",
            "Requirement already satisfied: urllib3~=2.4.0 in /usr/local/lib/python3.11/dist-packages (from urllib3[socks]~=2.4.0->selenium) (2.4.0)\n",
            "Requirement already satisfied: trio~=0.30.0 in /usr/local/lib/python3.11/dist-packages (from selenium) (0.30.0)\n",
            "Requirement already satisfied: trio-websocket~=0.12.2 in /usr/local/lib/python3.11/dist-packages (from selenium) (0.12.2)\n",
            "Requirement already satisfied: certifi>=2025.4.26 in /usr/local/lib/python3.11/dist-packages (from selenium) (2025.4.26)\n",
            "Requirement already satisfied: typing_extensions~=4.13.2 in /usr/local/lib/python3.11/dist-packages (from selenium) (4.13.2)\n",
            "Requirement already satisfied: websocket-client~=1.8.0 in /usr/local/lib/python3.11/dist-packages (from selenium) (1.8.0)\n",
            "Requirement already satisfied: attrs>=23.2.0 in /usr/local/lib/python3.11/dist-packages (from trio~=0.30.0->selenium) (25.3.0)\n",
            "Requirement already satisfied: sortedcontainers in /usr/local/lib/python3.11/dist-packages (from trio~=0.30.0->selenium) (2.4.0)\n",
            "Requirement already satisfied: idna in /usr/local/lib/python3.11/dist-packages (from trio~=0.30.0->selenium) (3.10)\n",
            "Requirement already satisfied: outcome in /usr/local/lib/python3.11/dist-packages (from trio~=0.30.0->selenium) (1.3.0.post0)\n",
            "Requirement already satisfied: sniffio>=1.3.0 in /usr/local/lib/python3.11/dist-packages (from trio~=0.30.0->selenium) (1.3.1)\n",
            "Requirement already satisfied: wsproto>=0.14 in /usr/local/lib/python3.11/dist-packages (from trio-websocket~=0.12.2->selenium) (1.2.0)\n",
            "Requirement already satisfied: pysocks!=1.5.7,<2.0,>=1.5.6 in /usr/local/lib/python3.11/dist-packages (from urllib3[socks]~=2.4.0->selenium) (1.7.1)\n",
            "Requirement already satisfied: h11<1,>=0.9.0 in /usr/local/lib/python3.11/dist-packages (from wsproto>=0.14->trio-websocket~=0.12.2->selenium) (0.16.0)\n"
          ]
        }
      ],
      "source": [
        "!pip install selenium"
      ]
    },
    {
      "cell_type": "code",
      "execution_count": 95,
      "metadata": {
        "id": "ZOgvkge2RsAV"
      },
      "outputs": [],
      "source": [
        "def you_type(cadena: str):\n",
        "  n = len(cadena)\n",
        "  caracteres = [l for l in cadena]\n",
        "  if caracteres[0] == \".\" and cadena[1:n].isdigit():\n",
        "    return float(cadena)\n",
        "  if cadena.isdigit():\n",
        "    return int(cadena)\n",
        "  else:\n",
        "    for i in cadena:\n",
        "      if \".\" in caracteres and i.isdigit():\n",
        "        return float(cadena)\n",
        "      else:\n",
        "        return str(cadena)"
      ]
    },
    {
      "cell_type": "code",
      "execution_count": 96,
      "metadata": {
        "id": "JQv3hTgllbgq"
      },
      "outputs": [],
      "source": [
        "\n",
        "\n",
        "names = []\n",
        "inducciones = []\n",
        "porcents = []\n",
        "links = []\n",
        "nl = len(links)\n",
        "categories =[]\n",
        "\n",
        "\n",
        "from selenium import webdriver\n",
        "from selenium.webdriver.chrome.service import Service\n",
        "from selenium.webdriver.chrome.options import Options\n",
        "from selenium.webdriver.common.by import By\n",
        "from selenium.webdriver.support.ui import WebDriverWait\n",
        "from selenium.webdriver.support import expected_conditions as EC\n",
        "chrome_options = Options()\n",
        "chrome_options.add_argument(\"--headless\")\n",
        "chrome_options.add_argument(\"--no-sandbox\")\n",
        "chrome_options.add_argument(\"--disable-dev-shm-usage\")\n",
        "\n",
        "# Ruta correcta de Google Chrome\n",
        "chrome_options.binary_location = \"/usr/bin/google-chrome\"\n",
        "\n",
        "# Ruta de ChromeDriver\n",
        "service = Service(\"/usr/bin/chromedriver\")\n",
        "\n",
        "# Iniciar WebDriver\n",
        "driver = webdriver.Chrome(service=service, options=chrome_options)\n",
        "try:\n",
        "        driver.get(f\"https://www.baseball-reference.com/awards/hof.shtml\")\n",
        "        wait = WebDriverWait(driver, 45)\n",
        "        lista = wait.until(EC.presence_of_all_elements_located((By.XPATH, \"//tr/td[@data-stat='player']/a\")))\n",
        "\n",
        "        for player_link in lista:\n",
        "            links.append(player_link.get_attribute(\"href\"))\n",
        "\n",
        "\n",
        "\n",
        "        player = driver.find_elements(By.XPATH, \"//tr/td[@data-stat='player']/a\")\n",
        "        for name in player:\n",
        "          if len(names) < len(links):\n",
        "            names.append(you_type(name.text))\n",
        "\n",
        "\n",
        "        years = driver.find_elements(By.XPATH, \"//tr/th[@data-stat='year_ID']/a\")\n",
        "        for year in years:\n",
        "          if len(inducciones) < len(links):\n",
        "              inducciones.append(you_type(year.text))\n",
        "\n",
        "        elementos = driver.find_elements(By.XPATH, '//tr/td[@data-stat=\"category_hof\"]')\n",
        "\n",
        "# Extrae y muestra los textos\n",
        "        for elemento in elementos:\n",
        "          categories.append(elemento.text)\n",
        "\n",
        "\n",
        "# Extraer los valores dentro de varias etiquetas <tr>\n",
        "        porcentajes = driver.find_elements(By.XPATH, '//td[@data-stat=\"votes_pct\"]')\n",
        "\n",
        "# Mostrar los resultados\n",
        "        for td in porcentajes:\n",
        "          porcents.append(td.text)\n",
        "\n",
        "\n",
        "except Exception as e:\n",
        "  print(f\"Error al encontrar los elementos: {e}\")\n",
        "driver.quit()\n",
        "\n",
        "\n",
        "def category(element,  origen , categoria) -> bool:\n",
        "  indice = origen.index(element)\n",
        "  if categories[indice] == categoria:\n",
        "    return True\n",
        "  return False\n",
        "\n",
        "\n",
        "from selenium import webdriver\n",
        "from selenium.webdriver.chrome.service import Service\n",
        "from selenium.webdriver.chrome.options import Options\n",
        "from selenium.webdriver.common.by import By\n",
        "from selenium.webdriver.support.ui import WebDriverWait\n",
        "from selenium.webdriver.support import expected_conditions as EC\n",
        "from selenium.common.exceptions import NoSuchElementException\n",
        "\n",
        "chrome_options = Options()\n",
        "chrome_options.add_argument(\"--headless\")\n",
        "chrome_options.add_argument(\"--no-sandbox\")\n",
        "chrome_options.add_argument(\"--disable-dev-shm-usage\")\n",
        "\n",
        "# Ruta correcta de Google Chrome\n",
        "chrome_options.binary_location = \"/usr/bin/google-chrome\"\n",
        "\n",
        "# Ruta de ChromeDriver\n",
        "service = Service(\"/usr/bin/chromedriver\")\n",
        "\n",
        "# Iniciar WebDriver\n",
        "driver = webdriver.Chrome(service=service, options=chrome_options)\n",
        "\n",
        "\n",
        "\n"
      ]
    },
    {
      "cell_type": "code",
      "source": [
        "names_batting = []\n",
        "war = []\n",
        "ab = []\n",
        "h = []\n",
        "hr = []\n",
        "ba = []\n",
        "rbi = []\n",
        "\n",
        "from selenium import webdriver\n",
        "from selenium.webdriver.chrome.service import Service\n",
        "from selenium.webdriver.chrome.options import Options\n",
        "from selenium.webdriver.common.by import By\n",
        "from selenium.webdriver.support.ui import WebDriverWait\n",
        "from selenium.webdriver.support import expected_conditions as EC\n",
        "chrome_options = Options()\n",
        "chrome_options.add_argument(\"--headless\")\n",
        "chrome_options.add_argument(\"--no-sandbox\")\n",
        "chrome_options.add_argument(\"--disable-dev-shm-usage\")\n",
        "\n",
        "# Ruta correcta de Google Chrome\n",
        "chrome_options.binary_location = \"/usr/bin/google-chrome\"\n",
        "\n",
        "# Ruta de ChromeDriver\n",
        "service = Service(\"/usr/bin/chromedriver\")\n",
        "\n",
        "# Iniciar WebDriver\n",
        "driver = webdriver.Chrome(service=service, options=chrome_options)\n",
        "try:\n",
        "        driver.get(f\"https://www.baseball-reference.com/awards/hof_batting.shtml\")\n",
        "        wait = WebDriverWait(driver, 10)\n",
        "\n",
        "        player = driver.find_elements(By.XPATH, \"//tr/td[@data-stat='player']/a\")\n",
        "        for name in player:\n",
        "            names_batting.append(you_type(name.text))\n",
        "\n",
        "        wars = driver.find_elements(By.XPATH, \"//tr/td[@data-stat='WAR_bat']\")\n",
        "        for w in wars:\n",
        "          war.append(you_type(w.text))\n",
        "\n",
        "        avg = driver.find_elements(By.XPATH, \"//tr/td[@data-stat='WAR_bat']\")\n",
        "        for av in avg:\n",
        "          ba.append(you_type(av.text))\n",
        "\n",
        "        rbis = driver.find_elements(By.XPATH, \"//tr/td[@data-stat='RBI']\")\n",
        "        for r in rbis:\n",
        "          rbi.append(you_type(r.text))\n",
        "\n",
        "        hrs = driver.find_elements(By.XPATH, \"//tr/td[@data-stat='HR']\")\n",
        "        for h in hrs:\n",
        "          hr.append(you_type(h.text))\n",
        "\n",
        "\n",
        "\n",
        "except Exception as e:\n",
        "  print(f\"Error al encontrar los elementos: {e}\")\n",
        "driver.quit()\n",
        "\n",
        "\n",
        "del war[-1]\n",
        "del ba[-1]\n",
        "del rbi[-1]\n",
        "del hr[-1]\n",
        "\n",
        "\n",
        "\n",
        "\n"
      ],
      "metadata": {
        "colab": {
          "base_uri": "https://localhost:8080/",
          "height": 0
        },
        "id": "ZnC75dqOXmzC",
        "outputId": "1e9bb895-a8e2-4282-e903-a66da8585192"
      },
      "execution_count": 112,
      "outputs": [
        {
          "output_type": "stream",
          "name": "stdout",
          "text": [
            "[755, 11, 351, 210, 0, 0, 97, 83, 45, 29, 238, 449, 384, 96, 32, 512, 87, 57, 477, 389, 6, 358, 291, 0, 118, 219, 68, 26, 317, 149, 107, 2, 25, 54, 7, 75, 260, 92, 70, 13, 324, 379, 20, 143, 5, 67, 24, 240, 117, 119, 47, 65, 58, 28, 0, 138, 3, 1, 9, 97, 170, 0, 128, 4, 73, 438, 5, 8, 101, 202, 68, 361, 273, 223, 29, 106, 24, 3, 12, 71, 3, 8, 28, 2, 376, 48, 3, 4, 35, 534, 105, 5, 493, 184, 24, 166, 1, 0, 253, 248, 0, 331, 630, 8, 2, 15, 449, 135, 164, 3, 0, 40, 30, 9, 236, 183, 369, 297, 47, 25, 7, 370, 0, 75, 301, 0, 4, 9, 6, 139, 563, 135, 13, 18, 260, 25, 1, 24, 468, 1, 16, 399, 12, 33, 78, 65, 148, 69, 573, 369, 300, 2, 0, 82, 198, 0, 178, 37, 97, 103, 16, 190, 51, 5, 5, 52, 5, 536, 110, 28, 4, 1, 309, 0, 512, 7, 143, 660, 138, 44, 521, 0, 13, 493, 8, 53, 205, 3, 195, 359, 234, 268, 0, 504, 475, 0, 2, 16, 7, 1, 12, 62, 220, 541, 511, 1, 3, 339, 4, 379, 6, 427, 3, 207, 9, 170, 126, 382, 34, 3, 431, 0, 3, 38, 5, 268, 586, 141, 18, 311, 50, 316, 68, 36, 8, 714, 2, 3, 282, 342, 7, 11, 548, 84, 12, 49, 307, 248, 102, 169, 6, 1, 28, 5, 407, 52, 35, 2, 117, 475, 187, 60, 0, 180, 0, 117, 26, 154, 521, 612, 126, 31, 252, 55, 185, 58, 7, 96, 4, 0, 101, 383, 34, 3, 27, 113, 26, 12, 140, 132, 24, 1, 426, 70, 2, 521, 1, 244, 77, 465, 11, 4, 17, 452, 18, 42, 251]\n"
          ]
        }
      ]
    },
    {
      "cell_type": "code",
      "source": [
        "print(war)"
      ],
      "metadata": {
        "colab": {
          "base_uri": "https://localhost:8080/",
          "height": 0
        },
        "id": "hfVCVT09vsIu",
        "outputId": "8d112770-9f55-41fe-b4f3-314dfb0920bb"
      },
      "execution_count": 110,
      "outputs": [
        {
          "output_type": "stream",
          "name": "stdout",
          "text": [
            "[143.2, 3.1, 58.7, 67.0, 0.0, '-1.2', 94.4, 55.8, 77.2, 64.3, 51.6, 79.9, 38.7, 62.8, 49.9, 67.7, 61.5, 30.9, 93.7, 75.1, 5.2, 59.5, 65.4, '-1.6', 91.4, 35.9, 63.1, 42.1, 88.6, 45.3, 79.8, 1.1, 6.5, 20.2, '-0.9', 62.8, 42.0, 81.2, 55.6, 6.1, 70.1, 50.1, 46.0, 48.4, 0.2, 68.0, '-1.8', 94.9, 151.4, 49.8, 124.3, 53.3, 45.0, 7.7, '-0.6', 84.3, '-0.7', '-5.0', 0.9, 75.4, 64.8, '-2.1', 48.1, 5.2, 84.9, 64.8, 4.0, 2.3, 69.6, 56.4, 12.4, 79.1, 56.7, 51.3, 5.8, 43.1, 4.1, '-0.2', 47.7, 48.0, '-3.6', '-1.8', 30.7, 0.6, 68.4, 52.7, 3.5, 1.4, 49.3, 92.1, 72.0, '-9.8', 113.7, 84.8, 7.5, 38.3, 6.8, '-4.5', 55.6, 65.9, '-0.5', 55.6, 83.8, 3.9, 6.2, '-6.5', 59.5, 69.1, 31.2, '-3.0', '-1.1', 63.2, 18.1, 16.3, 55.5, 72.2, 61.8, 111.2, 57.6, 2.8, 4.2, 43.8, '-0.2', 53.5, 127.1, '-1.8', '-0.4', 35.4, 4.6, 32.1, 74.0, 44.2, 2.0, 42.3, 71.3, 13.6, '-2.5', 12.7, 85.3, '-2.3', 5.3, 92.7, '-2.3', 54.3, 37.6, 50.4, 25.6, 47.0, 60.4, 48.1, 46.7, '-4.2', '-0.6', 106.9, 70.5, '-0.2', 47.6, 10.7, 30.0, 28.5, 13.8, 37.7, 16.4, 3.9, 6.9, 25.8, 1.8, 110.2, 48.2, 43.9, 1.0, '-2.3', 68.4, '-2.2', 96.0, 6.2, 55.6, 156.1, 36.4, 16.2, 64.5, '-2.9', 45.7, 52.6, 3.4, 52.5, 54.5, 2.2, 53.2, 70.5, 75.7, 100.6, '-0.1', 68.7, 128.6, 0.0, 2.7, '-0.4', '-1.1', '-2.6', 2.2, 52.1, 43.0, 55.0, 111.0, 0.0, 0.9, 40.1, 0.8, 53.9, '-3.0', 59.5, 3.3, 51.1, 2.2, 69.4, 68.4, 47.7, 54.3, 0.6, 95.9, 0.0, '-1.4', 42.1, 3.1, 78.3, 107.3, 63.9, 6.7, 68.7, 23.4, 70.1, 45.8, 13.2, 0.6, 162.2, '-2.3', 0.5, 67.9, 70.5, 2.5, 33.0, 106.9, 44.9, 3.9, 54.9, 68.5, 50.4, 54.9, 57.5, 4.1, '-0.5', 76.9, 2.6, 65.9, 21.6, 7.6, 6.8, 135.0, 57.6, 49.8, 20.2, '-0.4', 36.5, '-1.6', 60.0, 17.5, 56.5, 73.8, 73.1, 44.4, 53.2, 57.6, 25.7, 70.6, 38.8, '-2.6', 77.9, '-2.5', 0.0, 131.0, 72.7, 70.4, 2.1, 29.8, 74.7, 34.3, '-0.8', 49.5, 60.4, 45.7, '-2.9', 63.6, 3.4, 0.5, 121.8, '-3.9', 38.7, 33.3, 64.2, 23.2, 0.6, 9.4, 96.5, '-2.0', 32.7, 77.4]\n"
          ]
        }
      ]
    },
    {
      "cell_type": "code",
      "execution_count": 98,
      "metadata": {
        "id": "dcuAvr78XA5r"
      },
      "outputs": [],
      "source": [
        "from selenium import webdriver\n",
        "from selenium.webdriver.chrome.service import Service\n",
        "from selenium.webdriver.chrome.options import Options\n",
        "from selenium.webdriver.common.by import By\n",
        "from selenium.webdriver.support.ui import WebDriverWait\n",
        "from selenium.webdriver.support import expected_conditions as EC\n",
        "from selenium.common.exceptions import NoSuchElementException\n",
        "\n",
        "chrome_options = Options()\n",
        "chrome_options.add_argument(\"--headless\")\n",
        "chrome_options.add_argument(\"--no-sandbox\")\n",
        "chrome_options.add_argument(\"--disable-dev-shm-usage\")\n",
        "\n",
        "# Ruta correcta de Google Chrome\n",
        "chrome_options.binary_location = \"/usr/bin/google-chrome\"\n",
        "\n",
        "# Ruta de ChromeDriver\n",
        "service = Service(\"/usr/bin/chromedriver\")\n",
        "\n",
        "# Iniciar WebDriver\n",
        "driver = webdriver.Chrome(service=service, options=chrome_options)\n",
        "\n",
        "\n",
        "\n",
        "\n"
      ]
    },
    {
      "cell_type": "code",
      "execution_count": 99,
      "metadata": {
        "id": "VawYGs5OQa4X",
        "colab": {
          "base_uri": "https://localhost:8080/",
          "height": 0
        },
        "outputId": "25748cbb-6525-4d20-edcb-1fab7acc8124"
      },
      "outputs": [
        {
          "output_type": "stream",
          "name": "stdout",
          "text": [
            "\n"
          ]
        }
      ],
      "source": [
        "def players(link: str) -> List[List[any]]:\n",
        "  try:\n",
        "        driver.get(link)\n",
        "        wait = WebDriverWait(driver, 45)\n",
        "        elemento = driver.find_element(By.XPATH, '//div/span[@data-tip=\"Runs Scored/Allowed\"]/following-sibling::p')\n",
        "        print(elemento.text)\n",
        "  except:\n",
        "    pass\n",
        "\n",
        "players(\"https://www.baseball-reference.com/players/c/conlajo01.shtml\")"
      ]
    },
    {
      "cell_type": "code",
      "execution_count": 100,
      "metadata": {
        "id": "xjEHvK2NG_ij",
        "colab": {
          "base_uri": "https://localhost:8080/",
          "height": 0
        },
        "outputId": "cab18adf-4e82-4ad6-870d-568daa1cd34d"
      },
      "outputs": [
        {
          "output_type": "stream",
          "name": "stdout",
          "text": [
            "['Player', 'Player', 'Player', 'Player', 'Player', 'Player', 'Player', 'Manager', 'Player', 'Player', 'Player', 'Pioneer/Executive', 'Player', 'Player', 'Player', 'Pioneer/Executive', 'Player', 'Player', 'Player', 'Pioneer/Executive', 'Player', 'Player', 'Player', 'Player', 'Player', 'Player', 'Player', 'Player', 'Player', 'Player', 'Player', 'Player', 'Player', 'Player', 'Player', 'Player', 'Player', 'Pioneer/Executive', 'Pioneer/Executive', 'Player', 'Player', 'Player', 'Player', 'Player', 'Player', 'Manager', 'Player', 'Manager', 'Player', 'Player', 'Manager', 'Umpire', 'Pioneer/Executive', 'Player', 'Player', 'Player', 'Player', 'Player', 'Pioneer/Executive', 'Player', 'Umpire', 'Manager', 'Player', 'Player', 'Player', 'Pioneer/Executive', 'Player', 'Pioneer/Executive', 'Pioneer/Executive', 'Manager', 'Manager', 'Player', 'Player', 'Player', 'Player', 'Player', 'Pioneer/Executive', 'Player', 'Player', 'Pioneer/Executive', 'Player', 'Pioneer/Executive', 'Pioneer/Executive', 'Player', 'Player', 'Player', 'Player', 'Player', 'Pioneer/Executive', 'Pioneer/Executive', 'Player', 'Player', 'Player', 'Player', 'Player', 'Player', 'Player', 'Player', 'Player', 'Player', 'Player', 'Player', 'Manager', 'Player', 'Player', 'Player', 'Player', 'Player', 'Player', 'Umpire', 'Player', 'Manager', 'Player', 'Player', 'Player', 'Player', 'Pioneer/Executive', 'Player', 'Player', 'Player', 'Manager', 'Player', 'Player', 'Player', 'Player', 'Manager', 'Manager', 'Player', 'Player', 'Pioneer/Executive', 'Player', 'Player', 'Player', 'Manager', 'Player', 'Player', 'Player', 'Umpire', 'Player', 'Player', 'Player', 'Player', 'Player', 'Player', 'Pioneer/Executive', 'Player', 'Player', 'Umpire', 'Player', 'Player', 'Player', 'Player', 'Player', 'Player', 'Player', 'Player', 'Player', 'Player', 'Player', 'Player', 'Player', 'Player', 'Player', 'Player', 'Player', 'Player', 'Player', 'Manager', 'Player', 'Player', 'Player', 'Player', 'Pioneer/Executive', 'Player', 'Player', 'Pioneer/Executive', 'Player', 'Player', 'Player', 'Player', 'Player', 'Pioneer/Executive', 'Pioneer/Executive', 'Player', 'Player', 'Player', 'Pioneer/Executive', 'Player', 'Player', 'Player', 'Player', 'Manager', 'Player', 'Player', 'Player', 'Player', 'Umpire', 'Player', 'Player', 'Player', 'Player', 'Manager', 'Player', 'Player', 'Player', 'Player', 'Player', 'Umpire', 'Player', 'Player', 'Player', 'Player', 'Umpire', 'Player', 'Player', 'Player', 'Player', 'Player', 'Player', 'Player', 'Pioneer/Executive', 'Player', 'Player', 'Player', 'Player', 'Player', 'Player', 'Player', 'Player', 'Player', 'Player', 'Player', 'Pioneer/Executive', 'Player', 'Player', 'Pioneer/Executive', 'Player', 'Player', 'Player', 'Player', 'Player', 'Player', 'Player', 'Player', 'Pioneer/Executive', 'Player', 'Player', 'Manager', 'Player', 'Player', 'Player', 'Player', 'Player', 'Manager', 'Player', 'Player', 'Player', 'Player', 'Player', 'Player', 'Player', 'Player', 'Manager', 'Player', 'Player', 'Player', 'Player', 'Player', 'Player', 'Manager', 'Player', 'Player', 'Player', 'Player', 'Player', 'Player', 'Player', 'Player', 'Player', 'Player', 'Player', 'Pioneer/Executive', 'Player', 'Umpire', 'Player', 'Umpire', 'Player', 'Player', 'Pioneer/Executive', 'Player', 'Player', 'Player', 'Player', 'Player', 'Player', 'Player', 'Player', 'Player', 'Player', 'Player', 'Player', 'Player', 'Player', 'Player', 'Player', 'Player', 'Pioneer/Executive', 'Player', 'Player', 'Player', 'Player', 'Player', 'Player', 'Player', 'Player', 'Player', 'Player', 'Player', 'Player', 'Player', 'Player', 'Player', 'Manager', 'Pioneer/Executive', 'Player', 'Player', 'Player', 'Pioneer/Executive', 'Pioneer/Executive', 'Player', 'Player', 'Player', 'Player', 'Player', 'Pioneer/Executive', 'Player', 'Pioneer/Executive', 'Pioneer/Executive', 'Pioneer/Executive', 'Pioneer/Executive', 'Player', 'Manager', 'Manager', 'Player', 'Pioneer/Executive', 'Player', 'Player', 'Player', 'Player', 'Player', 'Player']\n"
          ]
        }
      ],
      "source": [
        "\n",
        "\n",
        "names = []\n",
        "inducciones = []\n",
        "porcents = []\n",
        "links = []\n",
        "nl = len(links)\n",
        "category = []\n",
        "\n",
        "from selenium import webdriver\n",
        "from selenium.webdriver.chrome.service import Service\n",
        "from selenium.webdriver.chrome.options import Options\n",
        "from selenium.webdriver.common.by import By\n",
        "from selenium.webdriver.support.ui import WebDriverWait\n",
        "from selenium.webdriver.support import expected_conditions as EC\n",
        "chrome_options = Options()\n",
        "chrome_options.add_argument(\"--headless\")\n",
        "chrome_options.add_argument(\"--no-sandbox\")\n",
        "chrome_options.add_argument(\"--disable-dev-shm-usage\")\n",
        "\n",
        "# Ruta correcta de Google Chrome\n",
        "chrome_options.binary_location = \"/usr/bin/google-chrome\"\n",
        "\n",
        "# Ruta de ChromeDriver\n",
        "service = Service(\"/usr/bin/chromedriver\")\n",
        "\n",
        "# Iniciar WebDriver\n",
        "driver = webdriver.Chrome(service=service, options=chrome_options)\n",
        "try:\n",
        "        driver.get(f\"https://www.baseball-reference.com/awards/hof.shtml\")\n",
        "        wait = WebDriverWait(driver, 45)\n",
        "        lista = wait.until(EC.presence_of_all_elements_located((By.XPATH, \"//tr/td[@data-stat='player']/a\")))\n",
        "\n",
        "        for player_link in lista:\n",
        "            links.append(player_link.get_attribute(\"href\"))\n",
        "\n",
        "\n",
        "        player = driver.find_elements(By.XPATH, \"//tr/td[@data-stat='player']/a\")\n",
        "        for name in player:\n",
        "          if len(names) < len(links):\n",
        "            names.append(you_type(name.text))\n",
        "\n",
        "\n",
        "        years = driver.find_elements(By.XPATH, \"//tr/th[@data-stat='year_ID']/a\")\n",
        "        for year in years:\n",
        "          if len(inducciones) < len(links):\n",
        "              inducciones.append(you_type(year.text))\n",
        "\n",
        "        elementos = driver.find_elements(By.XPATH, '//tr/td[@data-stat=\"category_hof\"]')\n",
        "\n",
        "# Extrae y muestra los textos\n",
        "        for elemento in elementos:\n",
        "          category.append(elemento.text)\n",
        "\n",
        "        filas = driver.find_elements(By.CSS_SELECTOR, 'tr')\n",
        "\n",
        "# Itera sobre cada fila y busca la celda con \"votes_pct\"\n",
        "        porcentajes = []\n",
        "        for fila in filas:\n",
        "          try:\n",
        "            celda = fila.find_element(By.XPATH, '//td[@data-stat=\"votes_pct\"]/td')\n",
        "            print(celda.txt)\n",
        "          except:\n",
        "            porcentajes.append(\"\")  # Si no hay celda en la fila, agrega un valor vacío\n",
        "\n",
        "\n",
        "except Exception as e:\n",
        "  print(f\"Error al encontrar los elementos: {e}\")\n",
        "driver.quit()\n",
        "\n",
        "\n",
        "\n",
        "print((category))\n",
        "\n",
        "\n",
        "\n"
      ]
    },
    {
      "cell_type": "code",
      "execution_count": 101,
      "metadata": {
        "id": "INhrfNW-gl-R",
        "colab": {
          "base_uri": "https://localhost:8080/",
          "height": 0
        },
        "outputId": "e002407e-0bf7-4914-8457-a77f48f74503"
      },
      "outputs": [
        {
          "output_type": "stream",
          "name": "stderr",
          "text": [
            "WARNING:urllib3.connectionpool:Retrying (Retry(total=2, connect=None, read=None, redirect=None, status=None)) after connection broken by 'NewConnectionError('<urllib3.connection.HTTPConnection object at 0x7f07d1311d50>: Failed to establish a new connection: [Errno 111] Connection refused')': /session/8298dcee1dd44aed1271e04d07af4212/element\n",
            "WARNING:urllib3.connectionpool:Retrying (Retry(total=1, connect=None, read=None, redirect=None, status=None)) after connection broken by 'NewConnectionError('<urllib3.connection.HTTPConnection object at 0x7f079bce92d0>: Failed to establish a new connection: [Errno 111] Connection refused')': /session/8298dcee1dd44aed1271e04d07af4212/element\n",
            "WARNING:urllib3.connectionpool:Retrying (Retry(total=0, connect=None, read=None, redirect=None, status=None)) after connection broken by 'NewConnectionError('<urllib3.connection.HTTPConnection object at 0x7f079bceb050>: Failed to establish a new connection: [Errno 111] Connection refused')': /session/8298dcee1dd44aed1271e04d07af4212/element\n"
          ]
        },
        {
          "output_type": "stream",
          "name": "stdout",
          "text": [
            "Error al obtener el porcentaje: HTTPConnectionPool(host='localhost', port=50877): Max retries exceeded with url: /session/8298dcee1dd44aed1271e04d07af4212/element (Caused by NewConnectionError('<urllib3.connection.HTTPConnection object at 0x7f079bd56c10>: Failed to establish a new connection: [Errno 111] Connection refused'))\n"
          ]
        }
      ],
      "source": [
        "try:\n",
        "    celda = driver.find_element(By.CSS_SELECTOR, 'td.single')\n",
        "    texto = celda.text  # Extrae el contenido textual\n",
        "    porcentaje = texto.split(\"(\")[-1].strip(\")%\")  # Extrae solo el número del porcentaje\n",
        "    print(f\"Porcentaje extraído: {porcentaje}%\")\n",
        "except Exception as e:\n",
        "    print(f\"Error al obtener el porcentaje: {e}\")"
      ]
    },
    {
      "cell_type": "code",
      "execution_count": 102,
      "metadata": {
        "id": "OzbxmOypF88G",
        "colab": {
          "base_uri": "https://localhost:8080/",
          "height": 0
        },
        "outputId": "87da01be-a3ff-4b0f-c3f1-2b7d4c80c1af"
      },
      "outputs": [
        {
          "output_type": "stream",
          "name": "stdout",
          "text": [
            "[2025, 2025, 2025, 2025, 2025, 2024, 2024, 2024, 2024, 2023, 2023, 2022, 2022, 2022, 2022, 2022, 2022, 2022, 2020, 2020, 2020, 2020, 2019, 2019, 2019, 2019, 2019, 2019, 2018, 2018, 2018, 2018, 2018, 2018, 2017, 2017, 2017, 2017, 2017, 2016, 2016, 2015, 2015, 2015, 2015, 2014, 2014, 2014, 2014, 2014, 2014, 2013, 2013, 2013, 2012, 2012, 2011, 2011, 2011, 2010, 2010, 2010, 2009, 2009, 2009, 2008, 2008, 2008, 2008, 2008, 2008, 2007, 2007, 2006, 2006, 2006, 2006, 2006, 2006, 2006, 2006, 2006, 2006, 2006, 2006, 2006, 2006, 2006, 2006, 2006, 2006, 2005, 2005, 2004, 2004, 2003, 2003, 2002, 2001, 2001, 2001, 2001, 2000, 2000, 2000, 2000, 2000, 1999, 1999, 1999, 1999, 1999, 1999, 1999, 1998, 1998, 1998, 1998, 1998, 1997, 1997, 1997, 1997, 1996, 1996, 1996, 1996, 1995, 1995, 1995, 1995, 1995, 1994, 1994, 1994, 1993, 1992, 1992, 1992, 1992, 1991, 1991, 1991, 1991, 1991, 1990, 1990, 1989, 1989, 1989, 1989, 1988, 1987, 1987, 1987, 1986, 1986, 1986, 1985, 1985, 1985, 1985, 1984, 1984, 1984, 1984, 1984, 1983, 1983, 1983, 1983, 1982, 1982, 1982, 1982, 1981, 1981, 1981, 1980, 1980, 1980, 1980, 1979, 1979, 1979, 1978, 1978, 1978, 1977, 1977, 1977, 1977, 1977, 1977, 1976, 1976, 1976, 1976, 1976, 1976, 1975, 1975, 1975, 1975, 1975, 1974, 1974, 1974, 1974, 1974, 1974, 1973, 1973, 1973, 1973, 1973, 1973, 1972, 1972, 1972, 1972, 1972, 1972, 1972, 1972, 1971, 1971, 1971, 1971, 1971, 1971, 1971, 1971, 1970, 1970, 1970, 1970, 1969, 1969, 1969, 1969, 1968, 1968, 1968, 1967, 1967, 1967, 1966, 1966, 1965, 1964, 1964, 1964, 1964, 1964, 1964, 1964, 1963, 1963, 1963, 1963, 1962, 1962, 1962, 1962, 1961, 1961, 1959, 1957, 1957, 1956, 1956, 1955, 1955, 1955, 1955, 1955, 1955, 1954, 1954, 1954, 1953, 1953, 1953, 1953, 1953, 1953, 1953, 1953, 1952, 1952, 1951, 1951, 1949, 1949, 1949, 1948, 1948, 1947, 1947, 1947, 1947, 1946, 1946, 1946, 1946, 1946, 1946, 1946, 1946, 1946, 1946, 1946, 1945, 1945, 1945, 1945, 1945, 1945, 1945, 1945, 1945, 1945, 1944, 1942, 1939, 1939, 1939, 1939, 1939, 1939, 1939, 1939, 1939, 1939, 1938, 1938, 1938, 1937, 1937, 1937, 1937, 1937, 1937, 1937, 1937, 1936, 1936, 1936, 1936, 1936]\n"
          ]
        }
      ],
      "source": [
        "porcent_clear = list(map(lambda x: 0 if x == '' else x, porcents))\n",
        "print((inducciones))\n"
      ]
    },
    {
      "cell_type": "code",
      "execution_count": 103,
      "metadata": {
        "id": "eyRO2mIZfz-a",
        "colab": {
          "base_uri": "https://localhost:8080/",
          "height": 455
        },
        "outputId": "28e870a7-0c92-4e29-fd4d-6abefae2e943"
      },
      "outputs": [
        {
          "output_type": "stream",
          "name": "stdout",
          "text": [
            "[143.2, 3.1, 58.7, 67.0, 0.0, '-1.2', 94.4, 55.8, 77.2, 64.3, 51.6, 79.9, 38.7, 62.8, 49.9, 67.7, 61.5, 30.9, 93.7, 75.1, 5.2, 59.5, 65.4, '-1.6', 91.4, 35.9, 63.1, 42.1, 88.6, 45.3, 79.8, 1.1, 6.5, 20.2, '-0.9', 62.8, 42.0, 81.2, 55.6, 6.1, 70.1, 50.1, 46.0, 48.4, 0.2, 68.0, '-1.8', 94.9, 151.4, 49.8, 124.3, 53.3, 45.0, 7.7, '-0.6', 84.3, '-0.7', '-5.0', 0.9, 75.4, 64.8, '-2.1', 48.1, 5.2, 84.9, 64.8, 4.0, 2.3, 69.6, 56.4, 12.4, 79.1, 56.7, 51.3, 5.8, 43.1, 4.1, '-0.2', 47.7, 48.0, '-3.6', '-1.8', 30.7, 0.6, 68.4, 52.7, 3.5, 1.4, 49.3, 92.1, 72.0, '-9.8', 113.7, 84.8, 7.5, 38.3, 6.8, '-4.5', 55.6, 65.9, '-0.5', 55.6, 83.8, 3.9, 6.2, '-6.5', 59.5, 69.1, 31.2, '-3.0', '-1.1', 63.2, 18.1, 16.3, 55.5, 72.2, 61.8, 111.2, 57.6, 2.8, 4.2, 43.8, '-0.2', 53.5, 127.1, '-1.8', '-0.4', 35.4, 4.6, 32.1, 74.0, 44.2, 2.0, 42.3, 71.3, 13.6, '-2.5', 12.7, 85.3, '-2.3', 5.3, 92.7, '-2.3', 54.3, 37.6, 50.4, 25.6, 47.0, 60.4, 48.1, 46.7, '-4.2', '-0.6', 106.9, 70.5, '-0.2', 47.6, 10.7, 30.0, 28.5, 13.8, 37.7, 16.4, 3.9, 6.9, 25.8, 1.8, 110.2, 48.2, 43.9, 1.0, '-2.3', 68.4, '-2.2', 96.0, 6.2, 55.6, 156.1, 36.4, 16.2, 64.5, '-2.9', 45.7, 52.6, 3.4, 52.5, 54.5, 2.2, 53.2, 70.5, 75.7, 100.6, '-0.1', 68.7, 128.6, 0.0, 2.7, '-0.4', '-1.1', '-2.6', 2.2, 52.1, 43.0, 55.0, 111.0, 0.0, 0.9, 40.1, 0.8, 53.9, '-3.0', 59.5, 3.3, 51.1, 2.2, 69.4, 68.4, 47.7, 54.3, 0.6, 95.9, 0.0, '-1.4', 42.1, 3.1, 78.3, 107.3, 63.9, 6.7, 68.7, 23.4, 70.1, 45.8, 13.2, 0.6, 162.2, '-2.3', 0.5, 67.9, 70.5, 2.5, 33.0, 106.9, 44.9, 3.9, 54.9, 68.5, 50.4, 54.9, 57.5, 4.1, '-0.5', 76.9, 2.6, 65.9, 21.6, 7.6, 6.8, 135.0, 57.6, 49.8, 20.2, '-0.4', 36.5, '-1.6', 60.0, 17.5, 56.5, 73.8, 73.1, 44.4, 53.2, 57.6, 25.7, 70.6, 38.8, '-2.6', 77.9, '-2.5', 0.0, 131.0, 72.7, 70.4, 2.1, 29.8, 74.7, 34.3, '-0.8', 49.5, 60.4, 45.7, '-2.9', 63.6, 3.4, 0.5, 121.8, '-3.9', 38.7, 33.3, 64.2, 23.2, 0.6, 9.4, 96.5, '-2.0', 32.7, 77.4, 67]\n",
            "[]\n",
            "[]\n",
            "[]\n",
            "[143.2, 3.1, 58.7, 67.0, 0.0, '-1.2', 94.4, 55.8, 77.2, 64.3, 51.6, 79.9, 38.7, 62.8, 49.9, 67.7, 61.5, 30.9, 93.7, 75.1, 5.2, 59.5, 65.4, '-1.6', 91.4, 35.9, 63.1, 42.1, 88.6, 45.3, 79.8, 1.1, 6.5, 20.2, '-0.9', 62.8, 42.0, 81.2, 55.6, 6.1, 70.1, 50.1, 46.0, 48.4, 0.2, 68.0, '-1.8', 94.9, 151.4, 49.8, 124.3, 53.3, 45.0, 7.7, '-0.6', 84.3, '-0.7', '-5.0', 0.9, 75.4, 64.8, '-2.1', 48.1, 5.2, 84.9, 64.8, 4.0, 2.3, 69.6, 56.4, 12.4, 79.1, 56.7, 51.3, 5.8, 43.1, 4.1, '-0.2', 47.7, 48.0, '-3.6', '-1.8', 30.7, 0.6, 68.4, 52.7, 3.5, 1.4, 49.3, 92.1, 72.0, '-9.8', 113.7, 84.8, 7.5, 38.3, 6.8, '-4.5', 55.6, 65.9, '-0.5', 55.6, 83.8, 3.9, 6.2, '-6.5', 59.5, 69.1, 31.2, '-3.0', '-1.1', 63.2, 18.1, 16.3, 55.5, 72.2, 61.8, 111.2, 57.6, 2.8, 4.2, 43.8, '-0.2', 53.5, 127.1, '-1.8', '-0.4', 35.4, 4.6, 32.1, 74.0, 44.2, 2.0, 42.3, 71.3, 13.6, '-2.5', 12.7, 85.3, '-2.3', 5.3, 92.7, '-2.3', 54.3, 37.6, 50.4, 25.6, 47.0, 60.4, 48.1, 46.7, '-4.2', '-0.6', 106.9, 70.5, '-0.2', 47.6, 10.7, 30.0, 28.5, 13.8, 37.7, 16.4, 3.9, 6.9, 25.8, 1.8, 110.2, 48.2, 43.9, 1.0, '-2.3', 68.4, '-2.2', 96.0, 6.2, 55.6, 156.1, 36.4, 16.2, 64.5, '-2.9', 45.7, 52.6, 3.4, 52.5, 54.5, 2.2, 53.2, 70.5, 75.7, 100.6, '-0.1', 68.7, 128.6, 0.0, 2.7, '-0.4', '-1.1', '-2.6', 2.2, 52.1, 43.0, 55.0, 111.0, 0.0, 0.9, 40.1, 0.8, 53.9, '-3.0', 59.5, 3.3, 51.1, 2.2, 69.4, 68.4, 47.7, 54.3, 0.6, 95.9, 0.0, '-1.4', 42.1, 3.1, 78.3, 107.3, 63.9, 6.7, 68.7, 23.4, 70.1, 45.8, 13.2, 0.6, 162.2, '-2.3', 0.5, 67.9, 70.5, 2.5, 33.0, 106.9, 44.9, 3.9, 54.9, 68.5, 50.4, 54.9, 57.5, 4.1, '-0.5', 76.9, 2.6, 65.9, 21.6, 7.6, 6.8, 135.0, 57.6, 49.8, 20.2, '-0.4', 36.5, '-1.6', 60.0, 17.5, 56.5, 73.8, 73.1, 44.4, 53.2, 57.6, 25.7, 70.6, 38.8, '-2.6', 77.9, '-2.5', 0.0, 131.0, 72.7, 70.4, 2.1, 29.8, 74.7, 34.3, '-0.8', 49.5, 60.4, 45.7, '-2.9', 63.6, 3.4, 0.5, 121.8, '-3.9', 38.7, 33.3, 64.2, 23.2, 0.6, 9.4, 96.5, '-2.0', 32.7, 77.4, 67]\n"
          ]
        },
        {
          "output_type": "error",
          "ename": "IndexError",
          "evalue": "list index out of range",
          "traceback": [
            "\u001b[0;31m---------------------------------------------------------------------------\u001b[0m",
            "\u001b[0;31mIndexError\u001b[0m                                Traceback (most recent call last)",
            "\u001b[0;32m<ipython-input-103-e35fd8128872>\u001b[0m in \u001b[0;36m<cell line: 0>\u001b[0;34m()\u001b[0m\n\u001b[1;32m      7\u001b[0m \u001b[0mprint\u001b[0m\u001b[0;34m(\u001b[0m\u001b[0mba\u001b[0m\u001b[0;34m)\u001b[0m\u001b[0;34m\u001b[0m\u001b[0;34m\u001b[0m\u001b[0m\n\u001b[1;32m      8\u001b[0m \u001b[0;34m\u001b[0m\u001b[0m\n\u001b[0;32m----> 9\u001b[0;31m \u001b[0mpersonas\u001b[0m \u001b[0;34m=\u001b[0m \u001b[0;34m{\u001b[0m\u001b[0mnames\u001b[0m\u001b[0;34m[\u001b[0m\u001b[0mi\u001b[0m\u001b[0;34m]\u001b[0m\u001b[0;34m:\u001b[0m \u001b[0;34m{\u001b[0m\u001b[0;34m\"induccion\"\u001b[0m\u001b[0;34m:\u001b[0m \u001b[0minducciones\u001b[0m\u001b[0;34m[\u001b[0m\u001b[0mi\u001b[0m\u001b[0;34m]\u001b[0m\u001b[0;34m,\u001b[0m \u001b[0;34m\"war\"\u001b[0m\u001b[0;34m:\u001b[0m \u001b[0mwar\u001b[0m\u001b[0;34m[\u001b[0m\u001b[0mi\u001b[0m\u001b[0;34m]\u001b[0m\u001b[0;34m,\u001b[0m \u001b[0;34m\"ab\"\u001b[0m\u001b[0;34m:\u001b[0m \u001b[0mab\u001b[0m\u001b[0;34m[\u001b[0m\u001b[0mi\u001b[0m\u001b[0;34m]\u001b[0m\u001b[0;34m,\u001b[0m \u001b[0;34m\"h\"\u001b[0m\u001b[0;34m:\u001b[0m \u001b[0mh\u001b[0m\u001b[0;34m[\u001b[0m\u001b[0mi\u001b[0m\u001b[0;34m]\u001b[0m\u001b[0;34m,\u001b[0m \u001b[0;34m\"hr\"\u001b[0m\u001b[0;34m:\u001b[0m \u001b[0mhr\u001b[0m\u001b[0;34m[\u001b[0m\u001b[0mi\u001b[0m\u001b[0;34m]\u001b[0m\u001b[0;34m,\u001b[0m \u001b[0;34m\"ba\"\u001b[0m\u001b[0;34m:\u001b[0m \u001b[0mba\u001b[0m\u001b[0;34m[\u001b[0m\u001b[0mi\u001b[0m\u001b[0;34m]\u001b[0m\u001b[0;34m}\u001b[0m \u001b[0;32mfor\u001b[0m \u001b[0mi\u001b[0m \u001b[0;32min\u001b[0m \u001b[0mrange\u001b[0m\u001b[0;34m(\u001b[0m\u001b[0mlen\u001b[0m\u001b[0;34m(\u001b[0m\u001b[0mlinks\u001b[0m\u001b[0;34m)\u001b[0m\u001b[0;34m)\u001b[0m\u001b[0;34m}\u001b[0m\u001b[0;34m\u001b[0m\u001b[0;34m\u001b[0m\u001b[0m\n\u001b[0m\u001b[1;32m     10\u001b[0m \u001b[0;34m\u001b[0m\u001b[0m\n\u001b[1;32m     11\u001b[0m \u001b[0;31m# Guardar el JSON en un archivo\u001b[0m\u001b[0;34m\u001b[0m\u001b[0;34m\u001b[0m\u001b[0m\n",
            "\u001b[0;32m<ipython-input-103-e35fd8128872>\u001b[0m in \u001b[0;36m<dictcomp>\u001b[0;34m(.0)\u001b[0m\n\u001b[1;32m      7\u001b[0m \u001b[0mprint\u001b[0m\u001b[0;34m(\u001b[0m\u001b[0mba\u001b[0m\u001b[0;34m)\u001b[0m\u001b[0;34m\u001b[0m\u001b[0;34m\u001b[0m\u001b[0m\n\u001b[1;32m      8\u001b[0m \u001b[0;34m\u001b[0m\u001b[0m\n\u001b[0;32m----> 9\u001b[0;31m \u001b[0mpersonas\u001b[0m \u001b[0;34m=\u001b[0m \u001b[0;34m{\u001b[0m\u001b[0mnames\u001b[0m\u001b[0;34m[\u001b[0m\u001b[0mi\u001b[0m\u001b[0;34m]\u001b[0m\u001b[0;34m:\u001b[0m \u001b[0;34m{\u001b[0m\u001b[0;34m\"induccion\"\u001b[0m\u001b[0;34m:\u001b[0m \u001b[0minducciones\u001b[0m\u001b[0;34m[\u001b[0m\u001b[0mi\u001b[0m\u001b[0;34m]\u001b[0m\u001b[0;34m,\u001b[0m \u001b[0;34m\"war\"\u001b[0m\u001b[0;34m:\u001b[0m \u001b[0mwar\u001b[0m\u001b[0;34m[\u001b[0m\u001b[0mi\u001b[0m\u001b[0;34m]\u001b[0m\u001b[0;34m,\u001b[0m \u001b[0;34m\"ab\"\u001b[0m\u001b[0;34m:\u001b[0m \u001b[0mab\u001b[0m\u001b[0;34m[\u001b[0m\u001b[0mi\u001b[0m\u001b[0;34m]\u001b[0m\u001b[0;34m,\u001b[0m \u001b[0;34m\"h\"\u001b[0m\u001b[0;34m:\u001b[0m \u001b[0mh\u001b[0m\u001b[0;34m[\u001b[0m\u001b[0mi\u001b[0m\u001b[0;34m]\u001b[0m\u001b[0;34m,\u001b[0m \u001b[0;34m\"hr\"\u001b[0m\u001b[0;34m:\u001b[0m \u001b[0mhr\u001b[0m\u001b[0;34m[\u001b[0m\u001b[0mi\u001b[0m\u001b[0;34m]\u001b[0m\u001b[0;34m,\u001b[0m \u001b[0;34m\"ba\"\u001b[0m\u001b[0;34m:\u001b[0m \u001b[0mba\u001b[0m\u001b[0;34m[\u001b[0m\u001b[0mi\u001b[0m\u001b[0;34m]\u001b[0m\u001b[0;34m}\u001b[0m \u001b[0;32mfor\u001b[0m \u001b[0mi\u001b[0m \u001b[0;32min\u001b[0m \u001b[0mrange\u001b[0m\u001b[0;34m(\u001b[0m\u001b[0mlen\u001b[0m\u001b[0;34m(\u001b[0m\u001b[0mlinks\u001b[0m\u001b[0;34m)\u001b[0m\u001b[0;34m)\u001b[0m\u001b[0;34m}\u001b[0m\u001b[0;34m\u001b[0m\u001b[0;34m\u001b[0m\u001b[0m\n\u001b[0m\u001b[1;32m     10\u001b[0m \u001b[0;34m\u001b[0m\u001b[0m\n\u001b[1;32m     11\u001b[0m \u001b[0;31m# Guardar el JSON en un archivo\u001b[0m\u001b[0;34m\u001b[0m\u001b[0;34m\u001b[0m\u001b[0m\n",
            "\u001b[0;31mIndexError\u001b[0m: list index out of range"
          ]
        }
      ],
      "source": [
        "import json\n",
        "\n",
        "print(war)\n",
        "print(ab)\n",
        "print(h)\n",
        "print(hr)\n",
        "print(ba)\n",
        "\n",
        "personas = {names[i]: {\"induccion\": inducciones[i], \"war\": war[i], \"ab\": ab[i], \"h\": h[i], \"hr\": hr[i], \"ba\": ba[i]} for i in range(len(links))}\n",
        "\n",
        "# Guardar el JSON en un archivo\n",
        "with open(\"players.json\", \"w\",encoding=\"utf-8\") as archivo:\n",
        "    json.dump(personas, archivo, indent=4,ensure_ascii=False)"
      ]
    }
  ],
  "metadata": {
    "colab": {
      "provenance": []
    },
    "kernelspec": {
      "display_name": "Python 3",
      "name": "python3"
    },
    "language_info": {
      "name": "python"
    }
  },
  "nbformat": 4,
  "nbformat_minor": 0
}