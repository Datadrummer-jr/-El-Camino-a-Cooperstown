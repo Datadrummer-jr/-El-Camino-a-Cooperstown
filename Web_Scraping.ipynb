{
  "cells": [
    {
      "cell_type": "markdown",
      "metadata": {
        "id": "v8dYDFWrBxgT"
      },
      "source": []
    },
    {
      "cell_type": "code",
      "execution_count": 1,
      "metadata": {
        "colab": {
          "base_uri": "https://localhost:8080/"
        },
        "id": "VWcutBYpBzPH",
        "outputId": "fa028ea0-18cb-4a39-9baa-2ff1d3578a8c"
      },
      "outputs": [
        {
          "output_type": "stream",
          "name": "stdout",
          "text": [
            "Selecting previously unselected package google-chrome-stable.\n",
            "(Reading database ... 126111 files and directories currently installed.)\n",
            "Preparing to unpack google-chrome-stable_current_amd64.deb ...\n",
            "Unpacking google-chrome-stable (137.0.7151.68-1) ...\n",
            "\u001b[1mdpkg:\u001b[0m dependency problems prevent configuration of google-chrome-stable:\n",
            " google-chrome-stable depends on libvulkan1; however:\n",
            "  Package libvulkan1 is not installed.\n",
            "\n",
            "\u001b[1mdpkg:\u001b[0m error processing package google-chrome-stable (--install):\n",
            " dependency problems - leaving unconfigured\n",
            "Processing triggers for mailcap (3.70+nmu1ubuntu1) ...\n",
            "Processing triggers for man-db (2.10.2-1) ...\n",
            "Errors were encountered while processing:\n",
            " google-chrome-stable\n",
            "Reading package lists... Done\n",
            "Building dependency tree... Done\n",
            "Reading state information... Done\n",
            "Correcting dependencies... Done\n",
            "The following additional packages will be installed:\n",
            "  libvulkan1 mesa-vulkan-drivers\n",
            "The following NEW packages will be installed:\n",
            "  libvulkan1 mesa-vulkan-drivers\n",
            "0 upgraded, 2 newly installed, 0 to remove and 35 not upgraded.\n",
            "1 not fully installed or removed.\n",
            "Need to get 10.9 MB of archives.\n",
            "After this operation, 51.3 MB of additional disk space will be used.\n",
            "Get:1 http://archive.ubuntu.com/ubuntu jammy/main amd64 libvulkan1 amd64 1.3.204.1-2 [128 kB]\n",
            "Get:2 http://archive.ubuntu.com/ubuntu jammy-updates/main amd64 mesa-vulkan-drivers amd64 23.2.1-1ubuntu3.1~22.04.3 [10.7 MB]\n",
            "Fetched 10.9 MB in 2s (5,670 kB/s)\n",
            "Selecting previously unselected package libvulkan1:amd64.\n",
            "(Reading database ... 126229 files and directories currently installed.)\n",
            "Preparing to unpack .../libvulkan1_1.3.204.1-2_amd64.deb ...\n",
            "Unpacking libvulkan1:amd64 (1.3.204.1-2) ...\n",
            "Selecting previously unselected package mesa-vulkan-drivers:amd64.\n",
            "Preparing to unpack .../mesa-vulkan-drivers_23.2.1-1ubuntu3.1~22.04.3_amd64.deb ...\n",
            "Unpacking mesa-vulkan-drivers:amd64 (23.2.1-1ubuntu3.1~22.04.3) ...\n",
            "Setting up libvulkan1:amd64 (1.3.204.1-2) ...\n",
            "Setting up mesa-vulkan-drivers:amd64 (23.2.1-1ubuntu3.1~22.04.3) ...\n",
            "Setting up google-chrome-stable (137.0.7151.68-1) ...\n",
            "update-alternatives: using /usr/bin/google-chrome-stable to provide /usr/bin/x-www-browser (x-www-browser) in auto mode\n",
            "update-alternatives: using /usr/bin/google-chrome-stable to provide /usr/bin/gnome-www-browser (gnome-www-browser) in auto mode\n",
            "update-alternatives: using /usr/bin/google-chrome-stable to provide /usr/bin/google-chrome (google-chrome) in auto mode\n",
            "Processing triggers for libc-bin (2.35-0ubuntu3.8) ...\n",
            "/sbin/ldconfig.real: /usr/local/lib/libtbbbind_2_0.so.3 is not a symbolic link\n",
            "\n",
            "/sbin/ldconfig.real: /usr/local/lib/libtbbmalloc_proxy.so.2 is not a symbolic link\n",
            "\n",
            "/sbin/ldconfig.real: /usr/local/lib/libhwloc.so.15 is not a symbolic link\n",
            "\n",
            "/sbin/ldconfig.real: /usr/local/lib/libur_adapter_opencl.so.0 is not a symbolic link\n",
            "\n",
            "/sbin/ldconfig.real: /usr/local/lib/libur_adapter_level_zero.so.0 is not a symbolic link\n",
            "\n",
            "/sbin/ldconfig.real: /usr/local/lib/libtbb.so.12 is not a symbolic link\n",
            "\n",
            "/sbin/ldconfig.real: /usr/local/lib/libtbbbind.so.3 is not a symbolic link\n",
            "\n",
            "/sbin/ldconfig.real: /usr/local/lib/libtcm_debug.so.1 is not a symbolic link\n",
            "\n",
            "/sbin/ldconfig.real: /usr/local/lib/libtcm.so.1 is not a symbolic link\n",
            "\n",
            "/sbin/ldconfig.real: /usr/local/lib/libur_loader.so.0 is not a symbolic link\n",
            "\n",
            "/sbin/ldconfig.real: /usr/local/lib/libumf.so.0 is not a symbolic link\n",
            "\n",
            "/sbin/ldconfig.real: /usr/local/lib/libtbbmalloc.so.2 is not a symbolic link\n",
            "\n",
            "/sbin/ldconfig.real: /usr/local/lib/libtbbbind_2_5.so.3 is not a symbolic link\n",
            "\n",
            "Google Chrome 137.0.7151.68 \n"
          ]
        }
      ],
      "source": [
        "!wget -q https://dl.google.com/linux/direct/google-chrome-stable_current_amd64.deb\n",
        "!dpkg -i google-chrome-stable_current_amd64.deb\n",
        "!apt-get -f install -y\n",
        "!google-chrome --version\n"
      ]
    },
    {
      "cell_type": "code",
      "execution_count": 2,
      "metadata": {
        "colab": {
          "base_uri": "https://localhost:8080/"
        },
        "id": "gVF-kPxvB7cI",
        "outputId": "cecc9918-1ca8-4f37-d8bb-e9d38f6eeb19"
      },
      "outputs": [
        {
          "output_type": "stream",
          "name": "stdout",
          "text": [
            "Version: 137.0.7151.68-1\n",
            "chromedriver-linux64.zip: Zip archive data, at least v2.0 to extract, compression method=deflate\n",
            " inflated: chromedriver-linux64/LICENSE.chromedriver\n",
            " inflated: chromedriver-linux64/THIRD_PARTY_NOTICES.chromedriver\n",
            " inflated: chromedriver-linux64/chromedriver\n",
            "mv: cannot stat 'chromedriver-linux64/chromedriver': No such file or directory\n",
            "ChromeDriver 137.0.7151.68 (2989ffee9373ea8b8623bd98b3cb350a8e95cadc-refs/branch-heads/7151@{#1873})\n"
          ]
        }
      ],
      "source": [
        "!dpkg -s google-chrome-stable | grep Version\n",
        "!wget -q https://mirrors.huaweicloud.com/chromedriver/137.0.7151.68/chromedriver-linux64.zip\n",
        "!file chromedriver-linux64.zip\n",
        "!jar xvf chromedriver-linux64.zip\n",
        "!chmod +x chromedriver-linux64/chromedriver\n",
        "!sudo mv chromedriver-linux64/chromedriver /usr/bin/chromedriver\n",
        "!sudo chmod +x /usr/bin/chromedriver\n",
        "!mv chromedriver-linux64/chromedriver /usr/bin/chromedriver\n",
        "!chromedriver --version\n"
      ]
    },
    {
      "cell_type": "code",
      "execution_count": 3,
      "metadata": {
        "colab": {
          "base_uri": "https://localhost:8080/"
        },
        "id": "jwIyq99fLMUx",
        "outputId": "5896982f-d145-4847-efa1-9a64a1dbf992"
      },
      "outputs": [
        {
          "output_type": "stream",
          "name": "stdout",
          "text": [
            "Collecting selenium\n",
            "  Downloading selenium-4.33.0-py3-none-any.whl.metadata (7.5 kB)\n",
            "Requirement already satisfied: urllib3~=2.4.0 in /usr/local/lib/python3.11/dist-packages (from urllib3[socks]~=2.4.0->selenium) (2.4.0)\n",
            "Collecting trio~=0.30.0 (from selenium)\n",
            "  Downloading trio-0.30.0-py3-none-any.whl.metadata (8.5 kB)\n",
            "Collecting trio-websocket~=0.12.2 (from selenium)\n",
            "  Downloading trio_websocket-0.12.2-py3-none-any.whl.metadata (5.1 kB)\n",
            "Requirement already satisfied: certifi>=2025.4.26 in /usr/local/lib/python3.11/dist-packages (from selenium) (2025.4.26)\n",
            "Collecting typing_extensions~=4.13.2 (from selenium)\n",
            "  Downloading typing_extensions-4.13.2-py3-none-any.whl.metadata (3.0 kB)\n",
            "Requirement already satisfied: websocket-client~=1.8.0 in /usr/local/lib/python3.11/dist-packages (from selenium) (1.8.0)\n",
            "Requirement already satisfied: attrs>=23.2.0 in /usr/local/lib/python3.11/dist-packages (from trio~=0.30.0->selenium) (25.3.0)\n",
            "Requirement already satisfied: sortedcontainers in /usr/local/lib/python3.11/dist-packages (from trio~=0.30.0->selenium) (2.4.0)\n",
            "Requirement already satisfied: idna in /usr/local/lib/python3.11/dist-packages (from trio~=0.30.0->selenium) (3.10)\n",
            "Collecting outcome (from trio~=0.30.0->selenium)\n",
            "  Downloading outcome-1.3.0.post0-py2.py3-none-any.whl.metadata (2.6 kB)\n",
            "Requirement already satisfied: sniffio>=1.3.0 in /usr/local/lib/python3.11/dist-packages (from trio~=0.30.0->selenium) (1.3.1)\n",
            "Collecting wsproto>=0.14 (from trio-websocket~=0.12.2->selenium)\n",
            "  Downloading wsproto-1.2.0-py3-none-any.whl.metadata (5.6 kB)\n",
            "Requirement already satisfied: pysocks!=1.5.7,<2.0,>=1.5.6 in /usr/local/lib/python3.11/dist-packages (from urllib3[socks]~=2.4.0->selenium) (1.7.1)\n",
            "Requirement already satisfied: h11<1,>=0.9.0 in /usr/local/lib/python3.11/dist-packages (from wsproto>=0.14->trio-websocket~=0.12.2->selenium) (0.16.0)\n",
            "Downloading selenium-4.33.0-py3-none-any.whl (9.4 MB)\n",
            "\u001b[2K   \u001b[90m━━━━━━━━━━━━━━━━━━━━━━━━━━━━━━━━━━━━━━━━\u001b[0m \u001b[32m9.4/9.4 MB\u001b[0m \u001b[31m78.8 MB/s\u001b[0m eta \u001b[36m0:00:00\u001b[0m\n",
            "\u001b[?25hDownloading trio-0.30.0-py3-none-any.whl (499 kB)\n",
            "\u001b[2K   \u001b[90m━━━━━━━━━━━━━━━━━━━━━━━━━━━━━━━━━━━━━━━━\u001b[0m \u001b[32m499.2/499.2 kB\u001b[0m \u001b[31m32.9 MB/s\u001b[0m eta \u001b[36m0:00:00\u001b[0m\n",
            "\u001b[?25hDownloading trio_websocket-0.12.2-py3-none-any.whl (21 kB)\n",
            "Downloading typing_extensions-4.13.2-py3-none-any.whl (45 kB)\n",
            "\u001b[2K   \u001b[90m━━━━━━━━━━━━━━━━━━━━━━━━━━━━━━━━━━━━━━━━\u001b[0m \u001b[32m45.8/45.8 kB\u001b[0m \u001b[31m3.1 MB/s\u001b[0m eta \u001b[36m0:00:00\u001b[0m\n",
            "\u001b[?25hDownloading outcome-1.3.0.post0-py2.py3-none-any.whl (10 kB)\n",
            "Downloading wsproto-1.2.0-py3-none-any.whl (24 kB)\n",
            "Installing collected packages: wsproto, typing_extensions, outcome, trio, trio-websocket, selenium\n",
            "  Attempting uninstall: typing_extensions\n",
            "    Found existing installation: typing_extensions 4.14.0\n",
            "    Uninstalling typing_extensions-4.14.0:\n",
            "      Successfully uninstalled typing_extensions-4.14.0\n",
            "\u001b[31mERROR: pip's dependency resolver does not currently take into account all the packages that are installed. This behaviour is the source of the following dependency conflicts.\n",
            "torch 2.6.0+cu124 requires nvidia-cublas-cu12==12.4.5.8; platform_system == \"Linux\" and platform_machine == \"x86_64\", but you have nvidia-cublas-cu12 12.5.3.2 which is incompatible.\n",
            "torch 2.6.0+cu124 requires nvidia-cuda-cupti-cu12==12.4.127; platform_system == \"Linux\" and platform_machine == \"x86_64\", but you have nvidia-cuda-cupti-cu12 12.5.82 which is incompatible.\n",
            "torch 2.6.0+cu124 requires nvidia-cuda-nvrtc-cu12==12.4.127; platform_system == \"Linux\" and platform_machine == \"x86_64\", but you have nvidia-cuda-nvrtc-cu12 12.5.82 which is incompatible.\n",
            "torch 2.6.0+cu124 requires nvidia-cuda-runtime-cu12==12.4.127; platform_system == \"Linux\" and platform_machine == \"x86_64\", but you have nvidia-cuda-runtime-cu12 12.5.82 which is incompatible.\n",
            "torch 2.6.0+cu124 requires nvidia-cudnn-cu12==9.1.0.70; platform_system == \"Linux\" and platform_machine == \"x86_64\", but you have nvidia-cudnn-cu12 9.3.0.75 which is incompatible.\n",
            "torch 2.6.0+cu124 requires nvidia-cufft-cu12==11.2.1.3; platform_system == \"Linux\" and platform_machine == \"x86_64\", but you have nvidia-cufft-cu12 11.2.3.61 which is incompatible.\n",
            "torch 2.6.0+cu124 requires nvidia-curand-cu12==10.3.5.147; platform_system == \"Linux\" and platform_machine == \"x86_64\", but you have nvidia-curand-cu12 10.3.6.82 which is incompatible.\n",
            "torch 2.6.0+cu124 requires nvidia-cusolver-cu12==11.6.1.9; platform_system == \"Linux\" and platform_machine == \"x86_64\", but you have nvidia-cusolver-cu12 11.6.3.83 which is incompatible.\n",
            "torch 2.6.0+cu124 requires nvidia-cusparse-cu12==12.3.1.170; platform_system == \"Linux\" and platform_machine == \"x86_64\", but you have nvidia-cusparse-cu12 12.5.1.3 which is incompatible.\n",
            "torch 2.6.0+cu124 requires nvidia-nvjitlink-cu12==12.4.127; platform_system == \"Linux\" and platform_machine == \"x86_64\", but you have nvidia-nvjitlink-cu12 12.5.82 which is incompatible.\u001b[0m\u001b[31m\n",
            "\u001b[0mSuccessfully installed outcome-1.3.0.post0 selenium-4.33.0 trio-0.30.0 trio-websocket-0.12.2 typing_extensions-4.13.2 wsproto-1.2.0\n"
          ]
        }
      ],
      "source": [
        "!pip install selenium"
      ]
    },
    {
      "cell_type": "code",
      "execution_count": 31,
      "metadata": {
        "id": "ZOgvkge2RsAV"
      },
      "outputs": [],
      "source": [
        "def you_type(cadena: str):\n",
        "  n = len(cadena)\n",
        "  caracteres = [l for l in cadena]\n",
        "  if caracteres[0] == \".\" and cadena[1:n].isdigit():\n",
        "    return float(cadena)\n",
        "  if cadena.isdigit():\n",
        "    return int(cadena)\n",
        "  else:\n",
        "    for i in cadena:\n",
        "      if \".\" in caracteres and i.isdigit():\n",
        "        return float(cadena)\n",
        "      else:\n",
        "        return str(cadena)\n",
        ""
      ]
    },
    {
      "cell_type": "code",
      "execution_count": 5,
      "metadata": {
        "id": "gCR0onPgApGP"
      },
      "outputs": [],
      "source": [
        "def ordenar(x, listax, listay,multi_lista):\n",
        "  indice1 = listax.index(x)\n",
        "  indice2 = listay.index(x)\n",
        "  for lista in multi_lista:\n",
        "    lista[indice1] , lista[indice2] = lista[indice2] , lista[indice1]\n",
        "  return\n",
        "\n",
        "def multi_orden(lista_independiente, listas_dependientes):\n",
        "  for i in lista_independiente:\n",
        "    ordenar(i,lista_independiente,listas_dependientes[0], listas_dependientes)"
      ]
    },
    {
      "cell_type": "code",
      "execution_count": 6,
      "metadata": {
        "id": "PSRpfKMID4Wn"
      },
      "outputs": [],
      "source": [
        "def del_diferencia(listax, listay, listaz):\n",
        "  indices = []\n",
        "  for i in listay:\n",
        "    if i not in listax:\n",
        "      indices.append(listay.index(i))\n",
        "\n",
        "  for a,elemento in zip(indices, listaz):\n",
        "    del elemento[a]\n",
        "\n",
        "\n"
      ]
    },
    {
      "cell_type": "code",
      "execution_count": 7,
      "metadata": {
        "colab": {
          "base_uri": "https://localhost:8080/"
        },
        "id": "RbzNapaHD3Oi",
        "outputId": "f4703a8e-a5f2-4007-fe9f-df0bee2d7ec6"
      },
      "outputs": [
        {
          "output_type": "stream",
          "name": "stdout",
          "text": [
            "['cuba', 'españa', 'casa']\n",
            "['casa', 'cuba', 'españa']\n"
          ]
        }
      ],
      "source": [
        "lista = [\"casa\",\"cuba\",\"españa\"]\n",
        "lista2 = [\"cuba\",\"españa\",\"casa\",\"Angola\",\"Colombia\"]\n",
        "lista3 = [53,34,54,0,65]\n",
        "\n",
        "for v in range(2):\n",
        "  del_diferencia(lista, lista2, [lista2,lista3])\n",
        "\n",
        "print(lista2)\n",
        "multi_orden(lista, [lista2,lista3])\n",
        "\n",
        "print(lista2)"
      ]
    },
    {
      "cell_type": "code",
      "execution_count": 37,
      "metadata": {
        "id": "JQv3hTgllbgq"
      },
      "outputs": [],
      "source": [
        "\n",
        "\n",
        "names = []\n",
        "porcents = []\n",
        "links = []\n",
        "categories =[]\n",
        "\n",
        "\n",
        "from selenium import webdriver\n",
        "from selenium.webdriver.chrome.service import Service\n",
        "from selenium.webdriver.chrome.options import Options\n",
        "from selenium.webdriver.common.by import By\n",
        "from selenium.webdriver.support.ui import WebDriverWait\n",
        "from selenium.webdriver.support import expected_conditions as EC\n",
        "chrome_options = Options()\n",
        "chrome_options.add_argument(\"--headless\")\n",
        "chrome_options.add_argument(\"--no-sandbox\")\n",
        "chrome_options.add_argument(\"--disable-dev-shm-usage\")\n",
        "\n",
        "chrome_options.binary_location = \"/usr/bin/google-chrome\"\n",
        "\n",
        "service = Service(\"/usr/bin/chromedriver\")\n",
        "\n",
        "driver = webdriver.Chrome(service=service, options=chrome_options)\n",
        "try:\n",
        "        driver.get(f\"https://www.baseball-reference.com/awards/hof.shtml\")\n",
        "        wait = WebDriverWait(driver, 45)\n",
        "        lista = wait.until(EC.presence_of_all_elements_located((By.XPATH, \"//tr/td[@data-stat='player']/a\")))\n",
        "\n",
        "        for player_link in lista:\n",
        "            links.append(player_link.get_attribute(\"href\"))\n",
        "\n",
        "\n",
        "\n",
        "        player = driver.find_elements(By.XPATH, \"//tr/td[@data-stat='player']/a\")\n",
        "        for name in player:\n",
        "            names.append(you_type(name.text))\n",
        "\n",
        "        elementos = driver.find_elements(By.XPATH, '//tr/td[@data-stat=\"category_hof\"]')\n",
        "\n",
        "        for elemento in elementos:\n",
        "          categories.append(elemento.text)\n",
        "\n",
        "\n",
        "        porcentajes = driver.find_elements(By.XPATH, '//td[@data-stat=\"votes_pct\"]')\n",
        "\n",
        "\n",
        "        for td in porcentajes:\n",
        "          porcents.append(td.text)\n",
        "\n",
        "\n",
        "except Exception as e:\n",
        "  print(f\"Error al encontrar los elementos: {e}\")\n",
        "driver.quit()\n",
        "\n",
        "\n",
        "\n",
        "porcents = list(map(lambda x: None if x == '' else you_type(x[:4]), porcents))\n"
      ]
    },
    {
      "cell_type": "code",
      "execution_count": 38,
      "metadata": {
        "id": "ZnC75dqOXmzC"
      },
      "outputs": [],
      "source": [
        "names_batting = []\n",
        "war = []\n",
        "ab = []\n",
        "h = []\n",
        "hr = []\n",
        "ba = []\n",
        "rbi = []\n",
        "experiencia = []\n",
        "year_max = []\n",
        "inducciones = []\n",
        "\n",
        "\n",
        "from selenium import webdriver\n",
        "from selenium.webdriver.chrome.service import Service\n",
        "from selenium.webdriver.chrome.options import Options\n",
        "from selenium.webdriver.common.by import By\n",
        "from selenium.webdriver.support.ui import WebDriverWait\n",
        "from selenium.webdriver.support import expected_conditions as EC\n",
        "chrome_options = Options()\n",
        "chrome_options.add_argument(\"--headless\")\n",
        "chrome_options.add_argument(\"--no-sandbox\")\n",
        "chrome_options.add_argument(\"--disable-dev-shm-usage\")\n",
        "\n",
        "\n",
        "chrome_options.binary_location = \"/usr/bin/google-chrome\"\n",
        "\n",
        "\n",
        "service = Service(\"/usr/bin/chromedriver\")\n",
        "\n",
        "\n",
        "driver = webdriver.Chrome(service=service, options=chrome_options)\n",
        "try:\n",
        "        driver.get(f\"https://www.baseball-reference.com/awards/hof_batting.shtml\")\n",
        "        wait = WebDriverWait(driver, 10)\n",
        "\n",
        "        player = driver.find_elements(By.XPATH, \"//tr/td[@data-stat='player']/a\")\n",
        "        for name in player:\n",
        "            names_batting.append(you_type(name.text))\n",
        "\n",
        "        wars = driver.find_elements(By.XPATH, \"//tr/td[@data-stat='WAR_bat']\")\n",
        "        for w in wars:\n",
        "          war.append(float(w.text))\n",
        "\n",
        "        avg = driver.find_elements(By.XPATH, \"//tr/td[@data-stat='batting_avg']\")\n",
        "        for av in avg:\n",
        "          ba.append(you_type(av.text))\n",
        "\n",
        "        rbis = driver.find_elements(By.XPATH, \"//tr/td[@data-stat='RBI']\")\n",
        "        for r in rbis:\n",
        "          rbi.append(you_type(r.text))\n",
        "\n",
        "        hrs = driver.find_elements(By.XPATH, \"//tr/td[@data-stat='HR']\")\n",
        "        for r in hrs:\n",
        "          hr.append(you_type(r.text))\n",
        "\n",
        "        hs =  driver.find_elements(By.XPATH, \"//tr/td[@data-stat='H']\")\n",
        "        for j in hs:\n",
        "          h.append(you_type(j.text))\n",
        "\n",
        "        time = driver.find_elements(By.XPATH, \"//tr/td[@data-stat='experience']\")\n",
        "        for t in time:\n",
        "          experiencia.append(you_type(t.text))\n",
        "\n",
        "        retiros = driver.find_elements(By.XPATH, \"//tr/td[@data-stat='year_max']\")\n",
        "        for last in retiros:\n",
        "          year_max.append(you_type(last.text))\n",
        "\n",
        "        induction = driver.find_elements(By.XPATH, \"//tr/td[@data-stat='year_induction']\")\n",
        "        del induction[-1]\n",
        "        for ind in induction:\n",
        "          inducciones.append(you_type(ind.text))\n",
        "\n",
        "        abs = driver.find_elements(By.XPATH, \"//tr/td[@data-stat='AB']\")\n",
        "        for bs in abs:\n",
        "          ab.append(you_type(bs.text))\n",
        "\n",
        "\n",
        "except Exception as e:\n",
        "  print(f\"Error al encontrar los elementos: {e}\")\n",
        "driver.quit()\n",
        "\n",
        "\n",
        "del war[-1]\n",
        "del ba[-1]\n",
        "del ab[-1]\n",
        "del rbi[-1]\n",
        "del hr[-1]\n",
        "del h[-1]\n",
        "del year_max[-1]\n",
        "del experiencia[-1]\n"
      ]
    },
    {
      "cell_type": "code",
      "execution_count": 39,
      "metadata": {
        "colab": {
          "base_uri": "https://localhost:8080/"
        },
        "id": "1U21q0eF6OLI",
        "outputId": "6686ef67-e56e-4d20-88ea-ae337f4f602b"
      },
      "outputs": [
        {
          "output_type": "stream",
          "name": "stdout",
          "text": [
            "[6, 8, 48, 7, 47, 41, 42, 11, 14, 33, 34, 12, 18, 33, 41, 6, 64, 28, 6, 6, 28, 7, 8, 19, 6, 37, 18, 30, 6, 6, 41, 33, 61, 58, 25, 41, 12, 6, 32, 6, 11, 25, 32, 35, 37, 30, 69, 1, 8, 10, 9, 37, 35, 45, 39, 79, 67, 41, 45, 40, 11, 62, 30, 43, 89, 14, 49, 6, 42, 8, 32, 4, 39, 35, 15, 39, 49, 6, 17, 42, 31, 6, 37, 7, 7, 53, 7, 59, 32, 6, 10, 73, 0, 7, 6, 26, 6, 29, 59, 30, 14, 9, 6, 32, 30, 6, 7, 6, 34, 33, 6, 60, 104, 44, 14, 20, 11, 6, 28, 47, 81, 59, 8, 46, 5, 31, 4, 48, 8, 17, 6, 46, 8, 27, 6, 39, 6, 9, 6, 68, 39, 6, 71, 29, 26, 63, 41, 52, 9, 20, 36, 6, 41, 21, 8, 41, 52, 18, 24, 40, 48, 39, 30, 9, 41, 59, 6, 6, 25, 19, 8, 46, 15, 6, 10, 20, 6, 6, 29, 50, 6, 38, 30, 19, 42, 101, 20, 80, 42, 28, 6, 6, 24, 6, 6, 11, 37, 43, 10, 123, 74, 41, 46, 6, 4, 6, 6, 34, 14, 14, 8, 9, 29, 6, 48, 15, 26, 20, 29, 53, 6, 6, 30, 38, 10, 6, 6, 6, 43, 6, 60, 11, 31, 20, 76, 1, 6, 6, 8, 38, 80, 26, 6, 26, 6, 44, 9, 32, 9, 26, 53, 22, 6, 6, 16, 79, 8, 61, 9, 6, 60, 41, 18, 62, 10, 6, 77, 18, 6, 6, 68, 30, 37, 74, 22, 11, 20, 37, 36, 15, 19, 15, 35, 29, 22, 7, 70, 81, 49, 32, 123, 13, 11, 44, 67, 6, 85, 45, 61, 6, 55, 76, 9, 6, 26, 46, 6]\n"
          ]
        }
      ],
      "source": [
        "demora = [0 for _ in range(len(inducciones))]\n",
        "\n",
        "demora = [ inducciones[d] - year_max[d] for d in range(len(inducciones))]\n",
        "\n",
        "print((demora))"
      ]
    },
    {
      "cell_type": "code",
      "source": [
        "for i in names_batting:\n",
        "  if i not in names:\n",
        "    print(i)\n",
        "print(\"No hay ningun elemento que no este en batting que no este en mames\")"
      ],
      "metadata": {
        "colab": {
          "base_uri": "https://localhost:8080/"
        },
        "id": "euA0oATTWBIa",
        "outputId": "7ba954a8-43a6-4ec3-f957-62b75b678f85"
      },
      "execution_count": 27,
      "outputs": [
        {
          "output_type": "stream",
          "name": "stdout",
          "text": [
            "No hay ningun elemento que no este en batting que no este en mames\n"
          ]
        }
      ]
    },
    {
      "cell_type": "code",
      "execution_count": 28,
      "metadata": {
        "colab": {
          "base_uri": "https://localhost:8080/"
        },
        "id": "K11PAci4AinA",
        "outputId": "5e647d6b-0341-45c4-81c8-7651d239de26"
      },
      "outputs": [
        {
          "output_type": "stream",
          "name": "stdout",
          "text": [
            "LENS:\n",
            "general\n",
            "351\n",
            "351\n",
            "351\n",
            "351\n",
            "bateo\n",
            "307\n",
            "307\n",
            "307\n",
            "307\n",
            "307\n",
            "307\n",
            "307\n",
            "307\n",
            "307\n",
            "307\n",
            "307\n"
          ]
        }
      ],
      "source": [
        "print(\"LENS:\")\n",
        "print(\"general\")\n",
        "print(len(names))\n",
        "print(len(categories))\n",
        "print(len(porcents))\n",
        "print(len(links))\n",
        "print(\"bateo\")\n",
        "print(len(names_batting))\n",
        "print(len(war))\n",
        "print(len(h))\n",
        "print(len(hr))\n",
        "print(len(ab))\n",
        "print(len(ba))\n",
        "print(len(rbi))\n",
        "print(len(inducciones))\n",
        "print(len(demora))\n",
        "print(len(experiencia))\n",
        "print(len(year_max))"
      ]
    },
    {
      "cell_type": "code",
      "source": [
        "\n",
        "import json\n",
        "\n",
        "\n",
        "players = { names[x]: { \"name\": names[x], \"inducted_as\": categories[x], \"% of Ballots\": porcents[x] ,\"link\": links[x]} for x in range(len(names))}\n",
        "\n",
        "with open(\"hof.json\", \"w\", encoding= \"utf-8\") as filex:\n",
        "  json.dump(players,filex, indent=4, ensure_ascii= False)\n",
        "\n",
        "\n",
        "with open(\"hof.json\", \"r\", encoding= \"utf-8\") as filey:\n",
        "  data = json.load(filey)\n",
        "\n",
        "for js in range(len(names_batting)):\n",
        "  data[names_batting[js]][\"war\"] = war[js]\n",
        "  data[names_batting[js]][\"h\"] = h[js]\n",
        "  data[names_batting[js]][\"hr\"] = hr[js]\n",
        "  data[names_batting[js]][\"ab\"] = ab[js]\n",
        "  data[names_batting[js]][\"ba\"] = ba[js]\n",
        "  data[names_batting[js]][\"rbi\"] = rbi[js]\n",
        "  data[names_batting[js]][\"induction\"] = inducciones[js]\n",
        "  data[names_batting[js]][\"last_game\"] = year_max[js]\n",
        "  data[names_batting[js]][\"years_of_waiting_to_enter\"] = demora[js]\n",
        "  data[names_batting[js]][\"years_of_experience\"] = experiencia[js]\n",
        "\n",
        "with open(\"hof.json\", \"w\", encoding= \"utf-8\") as filez:\n",
        "  json.dump(data,filez, indent=4, ensure_ascii= False)\n",
        "\n"
      ],
      "metadata": {
        "id": "HA9kqVo5HaB_"
      },
      "execution_count": 42,
      "outputs": []
    },
    {
      "cell_type": "code",
      "source": [
        "#\"Summary\": {\"WAR\": war[x], \"H\": h[x]}"
      ],
      "metadata": {
        "id": "UajBgnxjKKMN"
      },
      "execution_count": null,
      "outputs": []
    }
  ],
  "metadata": {
    "colab": {
      "provenance": []
    },
    "kernelspec": {
      "display_name": "Python 3",
      "name": "python3"
    },
    "language_info": {
      "name": "python"
    }
  },
  "nbformat": 4,
  "nbformat_minor": 0
}