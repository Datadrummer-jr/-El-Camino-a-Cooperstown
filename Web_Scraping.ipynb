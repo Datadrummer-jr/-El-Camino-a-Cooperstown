{
  "cells": [
    {
      "cell_type": "markdown",
      "metadata": {
        "id": "v8dYDFWrBxgT"
      },
      "source": []
    },
    {
      "cell_type": "code",
      "execution_count": 92,
      "metadata": {
        "colab": {
          "base_uri": "https://localhost:8080/",
          "height": 0
        },
        "id": "VWcutBYpBzPH",
        "outputId": "f35c2bf7-eee0-4c7a-8e6b-1d0792004d23"
      },
      "outputs": [
        {
          "output_type": "stream",
          "name": "stdout",
          "text": [
            "(Reading database ... \r(Reading database ... 5%\r(Reading database ... 10%\r(Reading database ... 15%\r(Reading database ... 20%\r(Reading database ... 25%\r(Reading database ... 30%\r(Reading database ... 35%\r(Reading database ... 40%\r(Reading database ... 45%\r(Reading database ... 50%\r(Reading database ... 55%\r(Reading database ... 60%\r(Reading database ... 65%\r(Reading database ... 70%\r(Reading database ... 75%\r(Reading database ... 80%\r(Reading database ... 85%\r(Reading database ... 90%\r(Reading database ... 95%\r(Reading database ... 100%\r(Reading database ... 126267 files and directories currently installed.)\n",
            "Preparing to unpack google-chrome-stable_current_amd64.deb ...\n",
            "Unpacking google-chrome-stable (137.0.7151.68-1) over (137.0.7151.68-1) ...\n",
            "Setting up google-chrome-stable (137.0.7151.68-1) ...\n",
            "Processing triggers for mailcap (3.70+nmu1ubuntu1) ...\n",
            "Processing triggers for man-db (2.10.2-1) ...\n",
            "Reading package lists... Done\n",
            "Building dependency tree... Done\n",
            "Reading state information... Done\n",
            "0 upgraded, 0 newly installed, 0 to remove and 35 not upgraded.\n",
            "Google Chrome 137.0.7151.68 \n"
          ]
        }
      ],
      "source": [
        "!wget -q https://dl.google.com/linux/direct/google-chrome-stable_current_amd64.deb\n",
        "!dpkg -i google-chrome-stable_current_amd64.deb\n",
        "!apt-get -f install -y\n",
        "!google-chrome --version\n"
      ]
    },
    {
      "cell_type": "code",
      "execution_count": 93,
      "metadata": {
        "colab": {
          "base_uri": "https://localhost:8080/",
          "height": 0
        },
        "id": "gVF-kPxvB7cI",
        "outputId": "4c0312b4-6423-430b-967a-e125448259d2"
      },
      "outputs": [
        {
          "output_type": "stream",
          "name": "stdout",
          "text": [
            "Version: 137.0.7151.68-1\n",
            "chromedriver-linux64.zip: Zip archive data, at least v2.0 to extract, compression method=deflate\n",
            " inflated: chromedriver-linux64/LICENSE.chromedriver\n",
            " inflated: chromedriver-linux64/THIRD_PARTY_NOTICES.chromedriver\n",
            " inflated: chromedriver-linux64/chromedriver\n",
            "mv: cannot stat 'chromedriver-linux64/chromedriver': No such file or directory\n",
            "ChromeDriver 137.0.7151.55 (254bc711794d7ad269495f3d419a209935b78cad-refs/branch-heads/7151@{#1757})\n"
          ]
        }
      ],
      "source": [
        "!dpkg -s google-chrome-stable | grep Version\n",
        "!wget -q https://mirrors.huaweicloud.com/chromedriver/137.0.7151.55/chromedriver-linux64.zip\n",
        "!file chromedriver-linux64.zip\n",
        "!jar xvf chromedriver-linux64.zip\n",
        "!chmod +x chromedriver-linux64/chromedriver\n",
        "!sudo mv chromedriver-linux64/chromedriver /usr/bin/chromedriver\n",
        "!sudo chmod +x /usr/bin/chromedriver\n",
        "!mv chromedriver-linux64/chromedriver /usr/bin/chromedriver\n",
        "!chromedriver --version\n"
      ]
    },
    {
      "cell_type": "code",
      "execution_count": 94,
      "metadata": {
        "id": "jwIyq99fLMUx",
        "colab": {
          "base_uri": "https://localhost:8080/",
          "height": 0
        },
        "outputId": "bfe52aa0-fc9f-4d66-f471-ba8edde5f012"
      },
      "outputs": [
        {
          "output_type": "stream",
          "name": "stdout",
          "text": [
            "Requirement already satisfied: selenium in /usr/local/lib/python3.11/dist-packages (4.33.0)\n",
            "Requirement already satisfied: urllib3~=2.4.0 in /usr/local/lib/python3.11/dist-packages (from urllib3[socks]~=2.4.0->selenium) (2.4.0)\n",
            "Requirement already satisfied: trio~=0.30.0 in /usr/local/lib/python3.11/dist-packages (from selenium) (0.30.0)\n",
            "Requirement already satisfied: trio-websocket~=0.12.2 in /usr/local/lib/python3.11/dist-packages (from selenium) (0.12.2)\n",
            "Requirement already satisfied: certifi>=2025.4.26 in /usr/local/lib/python3.11/dist-packages (from selenium) (2025.4.26)\n",
            "Requirement already satisfied: typing_extensions~=4.13.2 in /usr/local/lib/python3.11/dist-packages (from selenium) (4.13.2)\n",
            "Requirement already satisfied: websocket-client~=1.8.0 in /usr/local/lib/python3.11/dist-packages (from selenium) (1.8.0)\n",
            "Requirement already satisfied: attrs>=23.2.0 in /usr/local/lib/python3.11/dist-packages (from trio~=0.30.0->selenium) (25.3.0)\n",
            "Requirement already satisfied: sortedcontainers in /usr/local/lib/python3.11/dist-packages (from trio~=0.30.0->selenium) (2.4.0)\n",
            "Requirement already satisfied: idna in /usr/local/lib/python3.11/dist-packages (from trio~=0.30.0->selenium) (3.10)\n",
            "Requirement already satisfied: outcome in /usr/local/lib/python3.11/dist-packages (from trio~=0.30.0->selenium) (1.3.0.post0)\n",
            "Requirement already satisfied: sniffio>=1.3.0 in /usr/local/lib/python3.11/dist-packages (from trio~=0.30.0->selenium) (1.3.1)\n",
            "Requirement already satisfied: wsproto>=0.14 in /usr/local/lib/python3.11/dist-packages (from trio-websocket~=0.12.2->selenium) (1.2.0)\n",
            "Requirement already satisfied: pysocks!=1.5.7,<2.0,>=1.5.6 in /usr/local/lib/python3.11/dist-packages (from urllib3[socks]~=2.4.0->selenium) (1.7.1)\n",
            "Requirement already satisfied: h11<1,>=0.9.0 in /usr/local/lib/python3.11/dist-packages (from wsproto>=0.14->trio-websocket~=0.12.2->selenium) (0.16.0)\n"
          ]
        }
      ],
      "source": [
        "!pip install selenium"
      ]
    },
    {
      "cell_type": "code",
      "execution_count": 95,
      "metadata": {
        "id": "ZOgvkge2RsAV"
      },
      "outputs": [],
      "source": [
        "def you_type(cadena: str):\n",
        "  n = len(cadena)\n",
        "  caracteres = [l for l in cadena]\n",
        "  if caracteres[0] == \".\" and cadena[1:n].isdigit():\n",
        "    return float(cadena)\n",
        "  if cadena.isdigit():\n",
        "    return int(cadena)\n",
        "  else:\n",
        "    for i in cadena:\n",
        "      if \".\" in caracteres and i.isdigit():\n",
        "        return float(cadena)\n",
        "      else:\n",
        "        return str(cadena)"
      ]
    },
    {
      "cell_type": "code",
      "execution_count": 96,
      "metadata": {
        "id": "JQv3hTgllbgq"
      },
      "outputs": [],
      "source": [
        "\n",
        "\n",
        "names = []\n",
        "inducciones = []\n",
        "porcents = []\n",
        "links = []\n",
        "nl = len(links)\n",
        "categories =[]\n",
        "\n",
        "\n",
        "from selenium import webdriver\n",
        "from selenium.webdriver.chrome.service import Service\n",
        "from selenium.webdriver.chrome.options import Options\n",
        "from selenium.webdriver.common.by import By\n",
        "from selenium.webdriver.support.ui import WebDriverWait\n",
        "from selenium.webdriver.support import expected_conditions as EC\n",
        "chrome_options = Options()\n",
        "chrome_options.add_argument(\"--headless\")\n",
        "chrome_options.add_argument(\"--no-sandbox\")\n",
        "chrome_options.add_argument(\"--disable-dev-shm-usage\")\n",
        "\n",
        "# Ruta correcta de Google Chrome\n",
        "chrome_options.binary_location = \"/usr/bin/google-chrome\"\n",
        "\n",
        "# Ruta de ChromeDriver\n",
        "service = Service(\"/usr/bin/chromedriver\")\n",
        "\n",
        "# Iniciar WebDriver\n",
        "driver = webdriver.Chrome(service=service, options=chrome_options)\n",
        "try:\n",
        "        driver.get(f\"https://www.baseball-reference.com/awards/hof.shtml\")\n",
        "        wait = WebDriverWait(driver, 45)\n",
        "        lista = wait.until(EC.presence_of_all_elements_located((By.XPATH, \"//tr/td[@data-stat='player']/a\")))\n",
        "\n",
        "        for player_link in lista:\n",
        "            links.append(player_link.get_attribute(\"href\"))\n",
        "\n",
        "\n",
        "\n",
        "        player = driver.find_elements(By.XPATH, \"//tr/td[@data-stat='player']/a\")\n",
        "        for name in player:\n",
        "          if len(names) < len(links):\n",
        "            names.append(you_type(name.text))\n",
        "\n",
        "\n",
        "        years = driver.find_elements(By.XPATH, \"//tr/th[@data-stat='year_ID']/a\")\n",
        "        for year in years:\n",
        "          if len(inducciones) < len(links):\n",
        "              inducciones.append(you_type(year.text))\n",
        "\n",
        "        elementos = driver.find_elements(By.XPATH, '//tr/td[@data-stat=\"category_hof\"]')\n",
        "\n",
        "# Extrae y muestra los textos\n",
        "        for elemento in elementos:\n",
        "          categories.append(elemento.text)\n",
        "\n",
        "\n",
        "# Extraer los valores dentro de varias etiquetas <tr>\n",
        "        porcentajes = driver.find_elements(By.XPATH, '//td[@data-stat=\"votes_pct\"]')\n",
        "\n",
        "# Mostrar los resultados\n",
        "        for td in porcentajes:\n",
        "          porcents.append(td.text)\n",
        "\n",
        "\n",
        "except Exception as e:\n",
        "  print(f\"Error al encontrar los elementos: {e}\")\n",
        "driver.quit()\n",
        "\n",
        "\n",
        "def category(element,  origen , categoria) -> bool:\n",
        "  indice = origen.index(element)\n",
        "  if categories[indice] == categoria:\n",
        "    return True\n",
        "  return False\n",
        "\n",
        "\n",
        "from selenium import webdriver\n",
        "from selenium.webdriver.chrome.service import Service\n",
        "from selenium.webdriver.chrome.options import Options\n",
        "from selenium.webdriver.common.by import By\n",
        "from selenium.webdriver.support.ui import WebDriverWait\n",
        "from selenium.webdriver.support import expected_conditions as EC\n",
        "from selenium.common.exceptions import NoSuchElementException\n",
        "\n",
        "chrome_options = Options()\n",
        "chrome_options.add_argument(\"--headless\")\n",
        "chrome_options.add_argument(\"--no-sandbox\")\n",
        "chrome_options.add_argument(\"--disable-dev-shm-usage\")\n",
        "\n",
        "# Ruta correcta de Google Chrome\n",
        "chrome_options.binary_location = \"/usr/bin/google-chrome\"\n",
        "\n",
        "# Ruta de ChromeDriver\n",
        "service = Service(\"/usr/bin/chromedriver\")\n",
        "\n",
        "# Iniciar WebDriver\n",
        "driver = webdriver.Chrome(service=service, options=chrome_options)\n",
        "\n",
        "\n",
        "\n"
      ]
    },
    {
      "cell_type": "code",
      "source": [
        "names_batting = []\n",
        "war = []\n",
        "ab = []\n",
        "h = []\n",
        "hr = []\n",
        "ba = []\n",
        "rbi = []\n",
        "experiencia = []\n",
        "\n",
        "from selenium import webdriver\n",
        "from selenium.webdriver.chrome.service import Service\n",
        "from selenium.webdriver.chrome.options import Options\n",
        "from selenium.webdriver.common.by import By\n",
        "from selenium.webdriver.support.ui import WebDriverWait\n",
        "from selenium.webdriver.support import expected_conditions as EC\n",
        "chrome_options = Options()\n",
        "chrome_options.add_argument(\"--headless\")\n",
        "chrome_options.add_argument(\"--no-sandbox\")\n",
        "chrome_options.add_argument(\"--disable-dev-shm-usage\")\n",
        "\n",
        "# Ruta correcta de Google Chrome\n",
        "chrome_options.binary_location = \"/usr/bin/google-chrome\"\n",
        "\n",
        "# Ruta de ChromeDriver\n",
        "service = Service(\"/usr/bin/chromedriver\")\n",
        "\n",
        "# Iniciar WebDriver\n",
        "driver = webdriver.Chrome(service=service, options=chrome_options)\n",
        "try:\n",
        "        driver.get(f\"https://www.baseball-reference.com/awards/hof_batting.shtml\")\n",
        "        wait = WebDriverWait(driver, 10)\n",
        "\n",
        "        player = driver.find_elements(By.XPATH, \"//tr/td[@data-stat='player']/a\")\n",
        "        for name in player:\n",
        "            names_batting.append(you_type(name.text))\n",
        "\n",
        "        wars = driver.find_elements(By.XPATH, \"//tr/td[@data-stat='WAR_bat']\")\n",
        "        for w in wars:\n",
        "          war.append(you_type(w.text))\n",
        "\n",
        "        avg = driver.find_elements(By.XPATH, \"//tr/td[@data-stat='WAR_bat']\")\n",
        "        for av in avg:\n",
        "          ba.append(you_type(av.text))\n",
        "\n",
        "        rbis = driver.find_elements(By.XPATH, \"//tr/td[@data-stat='RBI']\")\n",
        "        for r in rbis:\n",
        "          rbi.append(you_type(r.text))\n",
        "\n",
        "        hrs = driver.find_elements(By.XPATH, \"//tr/td[@data-stat='HR']\")\n",
        "        for h in hrs:\n",
        "          hr.append(you_type(h.text))\n",
        "\n",
        "        time = driver.find_elements(By.XPATH, \"//tr/td[@data-stat='experience']\")\n",
        "        for t in time:\n",
        "          experiencia.append(you_type(t.text))\n",
        "\n",
        "\n",
        "\n",
        "\n",
        "except Exception as e:\n",
        "  print(f\"Error al encontrar los elementos: {e}\")\n",
        "driver.quit()\n",
        "\n",
        "\n",
        "del war[-1]\n",
        "del ba[-1]\n",
        "del rbi[-1]\n",
        "del hr[-1]\n",
        "del experiencia[-1]\n",
        "\n",
        "\n",
        "\n",
        "print(experiencia)\n"
      ],
      "metadata": {
        "colab": {
          "base_uri": "https://localhost:8080/"
        },
        "id": "ZnC75dqOXmzC",
        "outputId": "fddd521e-9cfc-4f61-a2ec-b218090ab16f"
      },
      "execution_count": 113,
      "outputs": [
        {
          "output_type": "stream",
          "name": "stdout",
          "text": [
            "[23, 20, 15, 17, 1, 1, 27, 18, 20, 15, 13, 15, 22, 13, 16, 19, 20, 21, 21, 17, 16, 19, 20, 22, 18, 16, 15, 17, 21, 19, 19, 14, 14, 11, 17, 16, 18, 19, 20, 24, 19, 17, 17, 18, 11, 21, 12, 18, 24, 13, 25, 14, 12, 13, 2, 18, 14, 14, 2, 19, 20, 6, 18, 8, 20, 21, 10, 12, 16, 17, 9, 13, 17, 14, 14, 17, 17, 24, 18, 18, 20, 18, 18, 17, 24, 13, 16, 14, 19, 20, 19, 15, 17, 19, 17, 14, 22, 14, 11, 18, 22, 13, 22, 21, 19, 17, 16, 20, 13, 19, 16, 14, 13, 12, 20, 17, 17, 25, 15, 8, 5, 18, 18, 17, 23, 21, 16, 13, 15, 18, 21, 15, 19, 18, 20, 11, 22, 21, 19, 9, 25, 22, 14, 19, 15, 17, 16, 16, 22, 10, 17, 12, 6, 21, 19, 3, 14, 15, 14, 13, 8, 17, 19, 21, 11, 22, 23, 18, 17, 23, 16, 18, 18, 18, 17, 17, 15, 23, 17, 13, 22, 10, 17, 19, 11, 18, 17, 7, 20, 15, 21, 22, 18, 21, 22, 18, 17, 15, 24, 7, 10, 23, 15, 20, 22, 22, 19, 19, 22, 23, 22, 16, 17, 12, 12, 23, 16, 16, 20, 4, 21, 19, 21, 13, 19, 23, 21, 11, 17, 21, 13, 17, 18, 22, 10, 22, 27, 19, 16, 15, 4, 18, 18, 19, 20, 14, 20, 21, 15, 19, 13, 18, 19, 21, 18, 13, 21, 8, 22, 21, 18, 14, 12, 21, 23, 19, 10, 14, 19, 22, 15, 15, 18, 10, 20, 17, 16, 14, 13, 16, 21, 17, 25, 14, 18, 20, 17, 13, 21, 19, 20, 21, 18, 13, 4, 19, 13, 12, 21, 22, 12, 7, 23, 23, 22, 10, 20]\n"
          ]
        }
      ]
    },
    {
      "cell_type": "code",
      "source": [
        "print(war)"
      ],
      "metadata": {
        "colab": {
          "base_uri": "https://localhost:8080/",
          "height": 0
        },
        "id": "hfVCVT09vsIu",
        "outputId": "8d112770-9f55-41fe-b4f3-314dfb0920bb"
      },
      "execution_count": 110,
      "outputs": [
        {
          "output_type": "stream",
          "name": "stdout",
          "text": [
            "[143.2, 3.1, 58.7, 67.0, 0.0, '-1.2', 94.4, 55.8, 77.2, 64.3, 51.6, 79.9, 38.7, 62.8, 49.9, 67.7, 61.5, 30.9, 93.7, 75.1, 5.2, 59.5, 65.4, '-1.6', 91.4, 35.9, 63.1, 42.1, 88.6, 45.3, 79.8, 1.1, 6.5, 20.2, '-0.9', 62.8, 42.0, 81.2, 55.6, 6.1, 70.1, 50.1, 46.0, 48.4, 0.2, 68.0, '-1.8', 94.9, 151.4, 49.8, 124.3, 53.3, 45.0, 7.7, '-0.6', 84.3, '-0.7', '-5.0', 0.9, 75.4, 64.8, '-2.1', 48.1, 5.2, 84.9, 64.8, 4.0, 2.3, 69.6, 56.4, 12.4, 79.1, 56.7, 51.3, 5.8, 43.1, 4.1, '-0.2', 47.7, 48.0, '-3.6', '-1.8', 30.7, 0.6, 68.4, 52.7, 3.5, 1.4, 49.3, 92.1, 72.0, '-9.8', 113.7, 84.8, 7.5, 38.3, 6.8, '-4.5', 55.6, 65.9, '-0.5', 55.6, 83.8, 3.9, 6.2, '-6.5', 59.5, 69.1, 31.2, '-3.0', '-1.1', 63.2, 18.1, 16.3, 55.5, 72.2, 61.8, 111.2, 57.6, 2.8, 4.2, 43.8, '-0.2', 53.5, 127.1, '-1.8', '-0.4', 35.4, 4.6, 32.1, 74.0, 44.2, 2.0, 42.3, 71.3, 13.6, '-2.5', 12.7, 85.3, '-2.3', 5.3, 92.7, '-2.3', 54.3, 37.6, 50.4, 25.6, 47.0, 60.4, 48.1, 46.7, '-4.2', '-0.6', 106.9, 70.5, '-0.2', 47.6, 10.7, 30.0, 28.5, 13.8, 37.7, 16.4, 3.9, 6.9, 25.8, 1.8, 110.2, 48.2, 43.9, 1.0, '-2.3', 68.4, '-2.2', 96.0, 6.2, 55.6, 156.1, 36.4, 16.2, 64.5, '-2.9', 45.7, 52.6, 3.4, 52.5, 54.5, 2.2, 53.2, 70.5, 75.7, 100.6, '-0.1', 68.7, 128.6, 0.0, 2.7, '-0.4', '-1.1', '-2.6', 2.2, 52.1, 43.0, 55.0, 111.0, 0.0, 0.9, 40.1, 0.8, 53.9, '-3.0', 59.5, 3.3, 51.1, 2.2, 69.4, 68.4, 47.7, 54.3, 0.6, 95.9, 0.0, '-1.4', 42.1, 3.1, 78.3, 107.3, 63.9, 6.7, 68.7, 23.4, 70.1, 45.8, 13.2, 0.6, 162.2, '-2.3', 0.5, 67.9, 70.5, 2.5, 33.0, 106.9, 44.9, 3.9, 54.9, 68.5, 50.4, 54.9, 57.5, 4.1, '-0.5', 76.9, 2.6, 65.9, 21.6, 7.6, 6.8, 135.0, 57.6, 49.8, 20.2, '-0.4', 36.5, '-1.6', 60.0, 17.5, 56.5, 73.8, 73.1, 44.4, 53.2, 57.6, 25.7, 70.6, 38.8, '-2.6', 77.9, '-2.5', 0.0, 131.0, 72.7, 70.4, 2.1, 29.8, 74.7, 34.3, '-0.8', 49.5, 60.4, 45.7, '-2.9', 63.6, 3.4, 0.5, 121.8, '-3.9', 38.7, 33.3, 64.2, 23.2, 0.6, 9.4, 96.5, '-2.0', 32.7, 77.4]\n"
          ]
        }
      ]
    }
  ],
  "metadata": {
    "colab": {
      "provenance": []
    },
    "kernelspec": {
      "display_name": "Python 3",
      "name": "python3"
    },
    "language_info": {
      "name": "python"
    }
  },
  "nbformat": 4,
  "nbformat_minor": 0
}