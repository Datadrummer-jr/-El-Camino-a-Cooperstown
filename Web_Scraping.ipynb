{
  "cells": [
    {
      "cell_type": "markdown",
      "metadata": {
        "id": "v8dYDFWrBxgT"
      },
      "source": []
    },
    {
      "cell_type": "code",
      "execution_count": 188,
      "metadata": {
        "colab": {
          "base_uri": "https://localhost:8080/"
        },
        "id": "VWcutBYpBzPH",
        "outputId": "5db3bb54-3916-4521-f58b-c99a27e76f2e"
      },
      "outputs": [
        {
          "output_type": "stream",
          "name": "stdout",
          "text": [
            "(Reading database ... \r(Reading database ... 5%\r(Reading database ... 10%\r(Reading database ... 15%\r(Reading database ... 20%\r(Reading database ... 25%\r(Reading database ... 30%\r(Reading database ... 35%\r(Reading database ... 40%\r(Reading database ... 45%\r(Reading database ... 50%\r(Reading database ... 55%\r(Reading database ... 60%\r(Reading database ... 65%\r(Reading database ... 70%\r(Reading database ... 75%\r(Reading database ... 80%\r(Reading database ... 85%\r(Reading database ... 90%\r(Reading database ... 95%\r(Reading database ... 100%\r(Reading database ... 126267 files and directories currently installed.)\n",
            "Preparing to unpack google-chrome-stable_current_amd64.deb ...\n",
            "Unpacking google-chrome-stable (137.0.7151.68-1) over (137.0.7151.68-1) ...\n",
            "Setting up google-chrome-stable (137.0.7151.68-1) ...\n",
            "Processing triggers for mailcap (3.70+nmu1ubuntu1) ...\n",
            "Processing triggers for man-db (2.10.2-1) ...\n",
            "Reading package lists... Done\n",
            "Building dependency tree... Done\n",
            "Reading state information... Done\n",
            "0 upgraded, 0 newly installed, 0 to remove and 35 not upgraded.\n",
            "Google Chrome 137.0.7151.68 \n"
          ]
        }
      ],
      "source": [
        "!wget -q https://dl.google.com/linux/direct/google-chrome-stable_current_amd64.deb\n",
        "!dpkg -i google-chrome-stable_current_amd64.deb\n",
        "!apt-get -f install -y\n",
        "!google-chrome --version\n"
      ]
    },
    {
      "cell_type": "code",
      "execution_count": null,
      "metadata": {
        "colab": {
          "base_uri": "https://localhost:8080/"
        },
        "id": "gVF-kPxvB7cI",
        "outputId": "bcb6adec-edbc-4e72-d005-30fef6e30f9e"
      },
      "outputs": [
        {
          "output_type": "stream",
          "name": "stdout",
          "text": [
            "Version: 137.0.7151.68-1\n"
          ]
        }
      ],
      "source": [
        "!dpkg -s google-chrome-stable | grep Version\n",
        "!wget -q https://mirrors.huaweicloud.com/chromedriver/137.0.7151.55/chromedriver-linux64.zip\n",
        "!file chromedriver-linux64.zip\n",
        "!jar xvf chromedriver-linux64.zip\n",
        "!chmod +x chromedriver-linux64/chromedriver\n",
        "!sudo mv chromedriver-linux64/chromedriver /usr/bin/chromedriver\n",
        "!sudo chmod +x /usr/bin/chromedriver\n",
        "!mv chromedriver-linux64/chromedriver /usr/bin/chromedriver\n",
        "!chromedriver --version\n"
      ]
    },
    {
      "cell_type": "code",
      "execution_count": null,
      "metadata": {
        "id": "jwIyq99fLMUx"
      },
      "outputs": [],
      "source": [
        "!pip install selenium"
      ]
    },
    {
      "cell_type": "code",
      "execution_count": null,
      "metadata": {
        "id": "ZOgvkge2RsAV"
      },
      "outputs": [],
      "source": [
        "def you_type(cadena: str):\n",
        "  n = len(cadena)\n",
        "  caracteres = [l for l in cadena]\n",
        "  if caracteres[0] == \".\" and cadena[1:n].isdigit():\n",
        "    return float(cadena)\n",
        "  if cadena.isdigit():\n",
        "    return int(cadena)\n",
        "  else:\n",
        "    for i in cadena:\n",
        "      if \".\" in caracteres and i.isdigit():\n",
        "        return float(cadena)\n",
        "      else:\n",
        "        return str(cadena)"
      ]
    },
    {
      "cell_type": "code",
      "source": [
        "def ordenar(x, listax, listay,multi_lista):\n",
        "  indice1 = listax.index(x)\n",
        "  indice2 = listay.index(x)\n",
        "  for lista in multi_lista:\n",
        "    lista[indice1] , lista[indice2] = lista[indice2] , lista[indice1]\n",
        "  return\n",
        "\n",
        "def multi_orden(lista_independiente, listas_dependientes):\n",
        "  for i in lista_independiente:\n",
        "    ordenar(i,lista_independiente,listas_dependientes[0], listas_dependientes)"
      ],
      "metadata": {
        "id": "gCR0onPgApGP"
      },
      "execution_count": null,
      "outputs": []
    },
    {
      "cell_type": "code",
      "source": [
        "def del_diferencia(listax, listay, listaz):\n",
        "  indices = []\n",
        "  for i in listay:\n",
        "    if i not in listax:\n",
        "      indices.append(listay.index(i))\n",
        "\n",
        "  for a,elemento in zip(indices, listaz):\n",
        "    del elemento[a]\n",
        "\n",
        "\n"
      ],
      "metadata": {
        "id": "PSRpfKMID4Wn"
      },
      "execution_count": null,
      "outputs": []
    },
    {
      "cell_type": "code",
      "source": [
        "lista = [\"casa\",\"cuba\",\"españa\"]\n",
        "lista2 = [\"cuba\",\"españa\",\"casa\",\"Angola\",\"Colombia\"]\n",
        "lista3 = [53,34,54,0,65]\n",
        "\n",
        "for v in range(2):\n",
        "  del_diferencia(lista, lista2, [lista2,lista3])\n",
        "\n",
        "print(lista2)\n",
        "multi_orden(lista, [lista2,lista3])\n",
        "\n",
        "print(lista2)"
      ],
      "metadata": {
        "id": "RbzNapaHD3Oi"
      },
      "execution_count": null,
      "outputs": []
    },
    {
      "cell_type": "code",
      "execution_count": null,
      "metadata": {
        "id": "JQv3hTgllbgq"
      },
      "outputs": [],
      "source": [
        "\n",
        "\n",
        "names = []\n",
        "porcents = []\n",
        "links = []\n",
        "categories =[]\n",
        "\n",
        "\n",
        "from selenium import webdriver\n",
        "from selenium.webdriver.chrome.service import Service\n",
        "from selenium.webdriver.chrome.options import Options\n",
        "from selenium.webdriver.common.by import By\n",
        "from selenium.webdriver.support.ui import WebDriverWait\n",
        "from selenium.webdriver.support import expected_conditions as EC\n",
        "chrome_options = Options()\n",
        "chrome_options.add_argument(\"--headless\")\n",
        "chrome_options.add_argument(\"--no-sandbox\")\n",
        "chrome_options.add_argument(\"--disable-dev-shm-usage\")\n",
        "\n",
        "# Ruta correcta de Google Chrome\n",
        "chrome_options.binary_location = \"/usr/bin/google-chrome\"\n",
        "\n",
        "# Ruta de ChromeDriver\n",
        "service = Service(\"/usr/bin/chromedriver\")\n",
        "\n",
        "# Iniciar WebDriver\n",
        "driver = webdriver.Chrome(service=service, options=chrome_options)\n",
        "try:\n",
        "        driver.get(f\"https://www.baseball-reference.com/awards/hof.shtml\")\n",
        "        wait = WebDriverWait(driver, 45)\n",
        "        lista = wait.until(EC.presence_of_all_elements_located((By.XPATH, \"//tr/td[@data-stat='player']/a\")))\n",
        "\n",
        "        for player_link in lista:\n",
        "            links.append(player_link.get_attribute(\"href\"))\n",
        "\n",
        "\n",
        "\n",
        "        player = driver.find_elements(By.XPATH, \"//tr/td[@data-stat='player']/a\")\n",
        "        for name in player:\n",
        "            names.append(you_type(name.text))\n",
        "\n",
        "        elementos = driver.find_elements(By.XPATH, '//tr/td[@data-stat=\"category_hof\"]')\n",
        "\n",
        "# Extrae y muestra los textos\n",
        "        for elemento in elementos:\n",
        "          categories.append(elemento.text)\n",
        "\n",
        "\n",
        "# Extraer los valores dentro de varias etiquetas <tr>\n",
        "        porcentajes = driver.find_elements(By.XPATH, '//td[@data-stat=\"votes_pct\"]')\n",
        "\n",
        "# Mostrar los resultados\n",
        "        for td in porcentajes:\n",
        "          porcents.append(td.text)\n",
        "\n",
        "\n",
        "except Exception as e:\n",
        "  print(f\"Error al encontrar los elementos: {e}\")\n",
        "driver.quit()\n",
        "\n",
        "\n",
        "def category(element,  origen , categoria) -> bool:\n",
        "  indice = origen.index(element)\n",
        "  if categories[indice] == categoria:\n",
        "    return True\n",
        "  return False\n",
        "\n",
        "\n",
        "porcents = list(map(lambda x: None if x == '' else x, porcents))\n",
        "print(porcents)\n"
      ]
    },
    {
      "cell_type": "code",
      "source": [],
      "metadata": {
        "id": "hqoPSPpTTC1p"
      },
      "execution_count": null,
      "outputs": []
    },
    {
      "cell_type": "code",
      "source": [
        "names_batting = []\n",
        "war = []\n",
        "ab = []\n",
        "h = []\n",
        "hr = []\n",
        "ba = []\n",
        "rbi = []\n",
        "experiencia = []\n",
        "year_max = []\n",
        "inducciones = []\n",
        "\n",
        "\n",
        "from selenium import webdriver\n",
        "from selenium.webdriver.chrome.service import Service\n",
        "from selenium.webdriver.chrome.options import Options\n",
        "from selenium.webdriver.common.by import By\n",
        "from selenium.webdriver.support.ui import WebDriverWait\n",
        "from selenium.webdriver.support import expected_conditions as EC\n",
        "chrome_options = Options()\n",
        "chrome_options.add_argument(\"--headless\")\n",
        "chrome_options.add_argument(\"--no-sandbox\")\n",
        "chrome_options.add_argument(\"--disable-dev-shm-usage\")\n",
        "\n",
        "# Ruta correcta de Google Chrome\n",
        "chrome_options.binary_location = \"/usr/bin/google-chrome\"\n",
        "\n",
        "# Ruta de ChromeDriver\n",
        "service = Service(\"/usr/bin/chromedriver\")\n",
        "\n",
        "# Iniciar WebDriver\n",
        "driver = webdriver.Chrome(service=service, options=chrome_options)\n",
        "try:\n",
        "        driver.get(f\"https://www.baseball-reference.com/awards/hof_batting.shtml\")\n",
        "        wait = WebDriverWait(driver, 10)\n",
        "\n",
        "        player = driver.find_elements(By.XPATH, \"//tr/td[@data-stat='player']/a\")\n",
        "        for name in player:\n",
        "            names_batting.append(you_type(name.text))\n",
        "\n",
        "        wars = driver.find_elements(By.XPATH, \"//tr/td[@data-stat='WAR_bat']\")\n",
        "        for w in wars:\n",
        "          war.append(you_type(w.text))\n",
        "\n",
        "        avg = driver.find_elements(By.XPATH, \"//tr/td[@data-stat='batting_avg']\")\n",
        "        for av in avg:\n",
        "          ba.append(you_type(av.text))\n",
        "\n",
        "        rbis = driver.find_elements(By.XPATH, \"//tr/td[@data-stat='RBI']\")\n",
        "        for r in rbis:\n",
        "          rbi.append(you_type(r.text))\n",
        "\n",
        "        hrs = driver.find_elements(By.XPATH, \"//tr/td[@data-stat='HR']\")\n",
        "        for r in hrs:\n",
        "          hr.append(you_type(r.text))\n",
        "\n",
        "        hs =  driver.find_elements(By.XPATH, \"//tr/td[@data-stat='H']\")\n",
        "        for j in hs:\n",
        "          h.append(you_type(j.text))\n",
        "\n",
        "        time = driver.find_elements(By.XPATH, \"//tr/td[@data-stat='experience']\")\n",
        "        for t in time:\n",
        "          experiencia.append(you_type(t.text))\n",
        "\n",
        "        retiros = driver.find_elements(By.XPATH, \"//tr/td[@data-stat='year_max']\")\n",
        "        for last in retiros:\n",
        "          year_max.append(you_type(last.text))\n",
        "\n",
        "        induction = driver.find_elements(By.XPATH, \"//tr/td[@data-stat='year_induction']\")\n",
        "        del induction[-1]\n",
        "        for ind in induction:\n",
        "          inducciones.append(you_type(ind.text))\n",
        "\n",
        "        abs = driver.find_elements(By.XPATH, \"//tr/td[@data-stat='AB']\")\n",
        "        for bs in abs:\n",
        "          ab.append(you_type(bs.text))\n",
        "\n",
        "\n",
        "except Exception as e:\n",
        "  print(f\"Error al encontrar los elementos: {e}\")\n",
        "driver.quit()\n",
        "\n",
        "\n",
        "del war[-1]\n",
        "del ba[-1]\n",
        "del ab[-1]\n",
        "del rbi[-1]\n",
        "del hr[-1]\n",
        "del h[-1]\n",
        "del year_max[-1]\n",
        "del experiencia[-1]\n"
      ],
      "metadata": {
        "id": "ZnC75dqOXmzC"
      },
      "execution_count": null,
      "outputs": []
    },
    {
      "cell_type": "code",
      "source": [
        "print(len(inducciones))\n",
        "print(len(year_max))\n",
        "\n"
      ],
      "metadata": {
        "id": "hgYABW0DRtQ6"
      },
      "execution_count": null,
      "outputs": []
    },
    {
      "cell_type": "code",
      "source": [
        "demora = [0 for _ in range(len(inducciones))]\n",
        "\n",
        "demora = [ inducciones[d] - year_max[d] for d in range(len(inducciones))]\n",
        "\n",
        "print(len(demora))"
      ],
      "metadata": {
        "id": "1U21q0eF6OLI"
      },
      "execution_count": null,
      "outputs": []
    },
    {
      "cell_type": "code",
      "source": [
        "indices = []\n",
        "\n",
        "for i in range(len(categories)):\n",
        "  if categories[i] == \"Manager\" or categories[i] == \"Pioneer/Executive\":\n",
        "    indices.append(i)\n",
        "\n",
        "for indice in indices[::-1]:\n",
        "  del names[indice]\n",
        "  del links[indice]\n",
        "  del porcents[indice]\n",
        "  del categories[indice]\n"
      ],
      "metadata": {
        "id": "3-ys-EBbDBbI"
      },
      "execution_count": null,
      "outputs": []
    },
    {
      "cell_type": "code",
      "source": [
        "print(\"LENS:\")\n",
        "print(\"general\")\n",
        "print(len(names))\n",
        "print(len(categories))\n",
        "print(len(porcents))\n",
        "print(len(links))\n",
        "print(\"bateo\")\n",
        "print(len(names_batting))\n",
        "print(len(war))\n",
        "print(len(h))\n",
        "print(len(hr))\n",
        "print(len(ab))\n",
        "print(len(ba))\n",
        "print(len(rbi))\n",
        "print(len(inducciones))\n",
        "print(len(demora))\n",
        "print(len(experiencia))\n",
        "print(len(year_max))"
      ],
      "metadata": {
        "id": "NMXMiVDXgeUL"
      },
      "execution_count": null,
      "outputs": []
    },
    {
      "cell_type": "code",
      "source": [
        "contador = 0\n",
        "\n",
        "for title in names:\n",
        "  if title not in names_batting:\n",
        "    contador += 1\n",
        "\n",
        "print(contador)\n"
      ],
      "metadata": {
        "id": "idbGGTN7S8aG"
      },
      "execution_count": null,
      "outputs": []
    },
    {
      "cell_type": "code",
      "source": [
        "indices2 = []\n",
        "\n",
        "for ns in names_batting:\n",
        "  if ns not in names:\n",
        "    indices2.append(names_batting.index(ns))\n",
        "    print(ns)\n",
        "\n",
        "for posicion in indices2[::-1]:\n",
        "  del names_batting[posicion]\n",
        "  del war[posicion]\n",
        "  del ba[posicion]\n",
        "  del ab[posicion]\n",
        "  del rbi[posicion]\n",
        "  del hr[posicion]\n",
        "  del h[posicion]\n",
        "  del year_max[posicion]\n",
        "  del experiencia[posicion]\n",
        "  del inducciones[posicion]\n",
        "  del demora[posicion]\n",
        "\n"
      ],
      "metadata": {
        "id": "uHHA68u5g3Pe"
      },
      "execution_count": null,
      "outputs": []
    },
    {
      "cell_type": "code",
      "source": [
        "print(len(names_batting))\n",
        "print(len(war))\n",
        "print(len(h))\n",
        "print(len(hr))\n",
        "print(len(ab))\n",
        "print(len(ba))\n",
        "print(len(rbi))\n",
        "print(len(inducciones))\n",
        "print(len(demora))\n",
        "print(len(experiencia))\n",
        "print(len(year_max))"
      ],
      "metadata": {
        "id": "VZvDhE6mZ0co"
      },
      "execution_count": null,
      "outputs": []
    },
    {
      "cell_type": "code",
      "source": [
        "import pandas as pd\n",
        "import numpy as np\n",
        "from sklearn.model_selection import train_test_split\n",
        "from sklearn.linear_model import LinearRegression\n",
        "from sklearn.metrics import mean_squared_error\n",
        "\n",
        "# Crear un DataFrame de ejemplo\n",
        "data = {\n",
        "    \"X1\": [1, 2, 3, 4, 5],\n",
        "    \"X2\": [2, 4, 6, 8, 10],\n",
        "    \"Y\": [3, 6, 9, 12, 15]\n",
        "}\n",
        "df = pd.DataFrame(data)\n",
        "\n",
        "# Definir variables independientes (X) y dependiente (Y)\n",
        "X = df[[\"X1\", \"X2\"]]  # Variables predictoras\n",
        "Y = df[\"Y\"]  # Variable objetivo\n",
        "\n",
        "# Dividir datos en entrenamiento y prueba\n",
        "X_train, X_test, Y_train, Y_test = train_test_split(X, Y, test_size=0.2, random_state=42)\n",
        "\n",
        "# Crear y entrenar el modelo\n",
        "modelo = LinearRegression()\n",
        "modelo.fit(X_train, Y_train)\n",
        "\n",
        "# Predicciones\n",
        "Y_pred = modelo.predict(X_test)\n",
        "\n",
        "# Evaluación del modelo\n",
        "error = mean_squared_error(Y_test, Y_pred)\n",
        "print(f\"Error cuadrático medio: {error}\")\n",
        "print(f\"Coeficientes: {modelo.coef_}\")\n",
        "print(f\"Intercepto: {modelo.intercept_}\")\n",
        "\n"
      ],
      "metadata": {
        "id": "w1B_N2mcA8hg"
      },
      "execution_count": null,
      "outputs": []
    },
    {
      "cell_type": "code",
      "source": [
        "import numpy as np\n",
        "import pandas as pd\n",
        "import matplotlib.pyplot as plt\n",
        "from sklearn.linear_model import LinearRegression\n",
        "\n",
        "# Datos de ejemplo (dos variables independientes)\n",
        "X = np.array([[1, 2], [2, 3], [3, 5], [4, 7], [5, 8]])  # Variables predictoras\n",
        "y = np.array([2, 3, 5, 6, 8])  # Variable dependiente\n",
        "\n",
        "# Crear y entrenar el modelo\n",
        "modelo = LinearRegression()\n",
        "modelo.fit(X, y)\n",
        "\n",
        "# Predicciones\n",
        "y_pred = modelo.predict(X)\n",
        "\n",
        "# Mostrar coeficientes\n",
        "print(\"Coeficientes:\", modelo.coef_)\n",
        "print(\"Intercepto:\", modelo.intercept_)\n",
        "\n",
        "# Visualización (solo posible si una variable independiente se mantiene fija)\n",
        "plt.scatter(X[:, 0], y, color=\"blue\", label=\"Datos reales\")\n",
        "plt.plot(X[:, 0], y_pred, color=\"red\", label=\"Predicción\")\n",
        "plt.legend()\n",
        "plt.show()\n"
      ],
      "metadata": {
        "id": "j7cDMOOUa4j2"
      },
      "execution_count": null,
      "outputs": []
    }
  ],
  "metadata": {
    "colab": {
      "provenance": []
    },
    "kernelspec": {
      "display_name": "Python 3",
      "name": "python3"
    },
    "language_info": {
      "name": "python"
    }
  },
  "nbformat": 4,
  "nbformat_minor": 0
}