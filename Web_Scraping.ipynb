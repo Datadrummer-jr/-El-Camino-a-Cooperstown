{
 "cells": [
  {
   "cell_type": "code",
   "execution_count": 1,
   "id": "85915c35",
   "metadata": {},
   "outputs": [],
   "source": [
    "import my_library as ml\n",
    "import pandas as pd\n",
    "from sklearn.preprocessing import MinMaxScaler\n",
    "from concurrent.futures import ThreadPoolExecutor\n",
    "from selenium import webdriver\n",
    "from selenium.webdriver.edge.service import Service\n",
    "from selenium.webdriver.edge.options import Options\n",
    "from selenium.webdriver.common.by import By\n",
    "from selenium.webdriver.support.ui import WebDriverWait\n",
    "from selenium.webdriver.support import expected_conditions as EC\n",
    "from typing import List\n",
    "\n"
   ]
  },
  {
   "cell_type": "code",
   "execution_count": 2,
   "id": "3ae898bf",
   "metadata": {},
   "outputs": [],
   "source": [
    "def players_for_year(link, parametro ,origen: List):\n",
    "  lista = []\n",
    "  edge_options = Options()\n",
    "  edge_options.add_argument(\"--headless\")  \n",
    "  edge_options.add_argument(\"--disable-gpu\")  \n",
    "  edge_options.add_argument(\"--disable-dev-shm-usage\")\n",
    "  edge_options.add_argument(\"--no-sandbox\")\n",
    "  service = Service(r\"C:\\Program Files (x86)\\Microsoft\\Edge\\Application\\msedgedriver.exe\")  \n",
    "\n",
    "  driver = webdriver.Edge(service=service, options=edge_options)\n",
    "\n",
    "  try:\n",
    "    driver.get(f\"{link}\")\n",
    "    wait = WebDriverWait(driver, 10)\n",
    "    warmax = wait.until(EC.presence_of_all_elements_located((By.CSS_SELECTOR, f'td[data-stat=\"{parametro}\"]')))\n",
    "    for ap in warmax:\n",
    "      lista.append(ml.you_type(ap.text))\n",
    "  except Exception as e:\n",
    "    pass\n",
    "\n",
    "  driver.quit()\n",
    "  origen.append(lista)\n",
    "  "
   ]
  },
  {
   "cell_type": "code",
   "execution_count": 4,
   "id": "3140c09d",
   "metadata": {},
   "outputs": [],
   "source": [
    "\n",
    "def país(link: str, origen: List[str]) -> None:\n",
    "  edge_options = Options()\n",
    "  edge_options.add_argument(\"--headless\")  \n",
    "  edge_options.add_argument(\"--disable-gpu\")  \n",
    "  edge_options.add_argument(\"--disable-dev-shm-usage\")\n",
    "  edge_options.add_argument(\"--no-sandbox\")\n",
    "  service = Service(r\"C:\\Program Files (x86)\\Microsoft\\Edge\\Application\\msedgedriver.exe\")  \n",
    "\n",
    "  driver = webdriver.Edge(service=service, options=edge_options)\n",
    "\n",
    "  try:\n",
    "    driver.get(f\"{link}\")\n",
    "    wait = WebDriverWait(driver, 10)\n",
    "    pais = wait.until(EC.presence_of_all_elements_located((By.XPATH, \"//span[starts-with(@class, 'f-i f-')]\")))\n",
    "    origen.append(ml.you_type(pais.text))\n",
    "  except Exception:\n",
    "    pass\n"
   ]
  },
  {
   "cell_type": "code",
   "execution_count": 5,
   "id": "3ec49513",
   "metadata": {},
   "outputs": [],
   "source": [
    "def hof_for_year(year: int) -> List[str]:\n",
    "  names = []\n",
    "  edge_options = Options()\n",
    "  edge_options.add_argument(\"--headless\")  \n",
    "  edge_options.add_argument(\"--disable-gpu\")  \n",
    "  edge_options.add_argument(\"--disable-dev-shm-usage\")\n",
    "  edge_options.add_argument(\"--no-sandbox\")\n",
    "  service = Service(r\"C:\\Program Files (x86)\\Microsoft\\Edge\\Application\\msedgedriver.exe\")  \n",
    "\n",
    "  driver = webdriver.Edge(service=service, options=edge_options)\n",
    "  try:\n",
    "    driver.get(f\"https://www.baseball-reference.com/awards/hof_{year}.shtml\")\n",
    "    wait = WebDriverWait(driver, 5)\n",
    "    lista = wait.until(EC.presence_of_all_elements_located((By.XPATH, \"//tr/td[@data-stat='player']/a\")))\n",
    "\n",
    "    for player_name in lista:\n",
    "      names.append(ml.you_type(player_name.text))\n",
    "  except Exception:\n",
    "    pass\n",
    "  return names\n",
    "\n",
    "hof_for_year(2024)\n",
    "\n",
    "aspirantes_hof = { name: hof_for_year(name)  for name in range(1936,2026)}\n",
    "\n"
   ]
  },
  {
   "cell_type": "code",
   "execution_count": 11,
   "id": "723fc676",
   "metadata": {},
   "outputs": [],
   "source": [
    "ml.save_json(aspirantes_hof,\"aspirantes_a_hof.json\")"
   ]
  },
  {
   "cell_type": "code",
   "execution_count": 26,
   "id": "a4ccf9bc",
   "metadata": {},
   "outputs": [],
   "source": [
    "df = pd.read_json(\"hof.json\")\n",
    "pd.set_option(\"display.max_rows\", None)\n",
    "\n",
    "df_total = df.T"
   ]
  },
  {
   "cell_type": "code",
   "execution_count": 29,
   "id": "2b0ab206",
   "metadata": {},
   "outputs": [
    {
     "name": "stdout",
     "output_type": "stream",
     "text": [
      "7.806939501779359\n"
     ]
    }
   ],
   "source": [
    "aspirantes = ml.read_json(\"aspirantes_a_hof.json\")\n",
    "\n",
    "cantidades = list(map(lambda x: len(x), aspirantes.values() ))\n",
    "\n",
    "total = sum(cantidades)\n",
    "\n",
    "inductos = len(df_total['link'].to_list())\n",
    "\n",
    "porciento = (inductos * 100) / total\n",
    "\n",
    "print(porciento)"
   ]
  },
  {
   "cell_type": "code",
   "execution_count": null,
   "id": "835f3474",
   "metadata": {},
   "outputs": [],
   "source": [
    "\n",
    "names = []\n",
    "porcents = []\n",
    "links = []\n",
    "categories =[]\n",
    "\n",
    "edge_options = Options()\n",
    "edge_options.add_argument(\"--headless\")  \n",
    "edge_options.add_argument(\"--disable-gpu\")  \n",
    "edge_options.add_argument(\"--disable-dev-shm-usage\")\n",
    "edge_options.add_argument(\"--no-sandbox\")\n",
    "service = Service(r\"C:\\Program Files (x86)\\Microsoft\\Edge\\Application\\msedgedriver.exe\")  \n",
    "\n",
    "driver = webdriver.Edge(service=service, options=edge_options)\n",
    "\n",
    "try:\n",
    "        driver.get(f\"https://www.baseball-reference.com/awards/hof.shtml\")\n",
    "        wait = WebDriverWait(driver, 45)\n",
    "        lista = wait.until(EC.presence_of_all_elements_located((By.XPATH, \"//tr/td[@data-stat='player']/a\")))\n",
    "\n",
    "        for player_link in lista:\n",
    "            links.append(player_link.get_attribute(\"href\"))\n",
    "\n",
    "        player = driver.find_elements(By.XPATH, \"//tr/td[@data-stat='player']/a\")\n",
    "        for name in player:\n",
    "            names.append(ml.you_type(name.text))\n",
    "\n",
    "        elementos = driver.find_elements(By.XPATH, '//tr/td[@data-stat=\"category_hof\"]')\n",
    "\n",
    "        for elemento in elementos:\n",
    "          categories.append(elemento.text)\n",
    "\n",
    "\n",
    "        porcentajes = driver.find_elements(By.XPATH, '//td[@data-stat=\"votes_pct\"]')\n",
    "\n",
    "        for td in porcentajes:\n",
    "          porcents.append(td.text)\n",
    "\n",
    "\n",
    "except Exception as e:\n",
    "  print(f\"Error al encontrar los elementos: {e}\")\n",
    "\n",
    "driver.quit()\n",
    "\n",
    "porcents = list(map(lambda x: None if x == '' else ml.you_type(x[:4]), porcents))\n"
   ]
  },
  {
   "cell_type": "code",
   "execution_count": null,
   "id": "4a99a12c",
   "metadata": {},
   "outputs": [],
   "source": [
    "names_batting = []\n",
    "war_b = []\n",
    "ab = []\n",
    "h = []\n",
    "hr = []\n",
    "ba = []\n",
    "rbi = []\n",
    "obp = []\n",
    "ops = []\n",
    "slg = []\n",
    "g_bat = []\n",
    "experiencia = []\n",
    "first_year = []\n",
    "year_max = []\n",
    "inducciones = []\n",
    "\n",
    "edge_options = Options()\n",
    "edge_options.add_argument(\"--headless\")  \n",
    "edge_options.add_argument(\"--disable-gpu\")  \n",
    "edge_options.add_argument(\"--disable-dev-shm-usage\")\n",
    "edge_options.add_argument(\"--no-sandbox\")\n",
    "service = Service(r\"C:\\Program Files (x86)\\Microsoft\\Edge\\Application\\msedgedriver.exe\")  \n",
    "\n",
    "driver = webdriver.Edge(service=service, options=edge_options)\n",
    "\n",
    "try:\n",
    "        driver.get(f\"https://www.baseball-reference.com/awards/hof_batting.shtml\")\n",
    "        wait = WebDriverWait(driver, 20)\n",
    "\n",
    "        player_bat = driver.find_elements(By.XPATH, \"//tr/td[@data-stat='player']/a\")\n",
    "        for name in player_bat:\n",
    "            names_batting.append(ml.you_type(name.text))\n",
    "\n",
    "        wars = driver.find_elements(By.XPATH, \"//tr/td[@data-stat='WAR_bat']\")\n",
    "        for w in wars:\n",
    "          war_b.append(float(w.text))\n",
    "\n",
    "        avg = driver.find_elements(By.XPATH, \"//tr/td[@data-stat='batting_avg']\")\n",
    "        for av in avg:\n",
    "          ba.append(ml.you_type(av.text))\n",
    "\n",
    "        rbis = driver.find_elements(By.XPATH, \"//tr/td[@data-stat='RBI']\")\n",
    "        for r in rbis:\n",
    "          rbi.append(ml.you_type(r.text))\n",
    "\n",
    "        hrs = driver.find_elements(By.XPATH, \"//tr/td[@data-stat='HR']\")\n",
    "        for r in hrs:\n",
    "          hr.append(ml.you_type(r.text))\n",
    "\n",
    "        hs =  driver.find_elements(By.XPATH, \"//tr/td[@data-stat='H']\")\n",
    "        for j in hs:\n",
    "          h.append(ml.you_type(j.text))\n",
    "\n",
    "        time = driver.find_elements(By.XPATH, \"//tr/td[@data-stat='experience']\")\n",
    "        for t in time:\n",
    "          experiencia.append(ml.you_type(t.text))\n",
    "\n",
    "        retiros = driver.find_elements(By.XPATH, \"//tr/td[@data-stat='year_max']\")\n",
    "        for last in retiros:\n",
    "          year_max.append(ml.you_type(last.text))\n",
    "\n",
    "        induction = driver.find_elements(By.XPATH, \"//tr/td[@data-stat='year_induction']\")\n",
    "        del induction[-1]\n",
    "        for ind in induction:\n",
    "          inducciones.append(ml.you_type(ind.text))\n",
    "\n",
    "        abs = driver.find_elements(By.XPATH, \"//tr/td[@data-stat='AB']\")\n",
    "        for bs in abs:\n",
    "          ab.append(ml.you_type(bs.text))\n",
    "\n",
    "        obps = driver.find_elements(By.XPATH, \"//tr/td[@data-stat='onbase_perc']\")\n",
    "        for ob in obps:\n",
    "           obp.append(ml.you_type(ob.text))\n",
    "\n",
    "        opss = driver.find_elements(By.XPATH, \"//tr/td[@data-stat='onbase_plus_slugging']\")\n",
    "        for op in opss:\n",
    "           ops.append(ml.you_type(op.text))\n",
    "\n",
    "        slgs = driver.find_elements(By.XPATH, \"//tr/td[@data-stat='slugging_perc']\")\n",
    "        for sl in slgs:\n",
    "           slg.append(ml.you_type(sl.text))\n",
    "\n",
    "        games = driver.find_elements(By.XPATH, \"//tr/td[@data-stat='G']\")\n",
    "        for gm in games:\n",
    "           g_bat.append(ml.you_type(gm.text))\n",
    "           \n",
    "        first = driver.find_elements(By.XPATH, \"//tr/td[@data-stat='year_min']\")\n",
    "        for ft in first:\n",
    "           first_year.append(ml.you_type(ft.text))\n",
    "           \n",
    "except Exception as e:\n",
    "  print(f\"Error al encontrar los elementos: {e}\")\n",
    "\n",
    "driver.quit()"
   ]
  },
  {
   "cell_type": "code",
   "execution_count": null,
   "id": "05739ccf",
   "metadata": {},
   "outputs": [],
   "source": [
    "\n",
    "del war_b[-1]\n",
    "del ba[-1]\n",
    "del ab[-1]\n",
    "del rbi[-1]\n",
    "del hr[-1]\n",
    "del h[-1]\n",
    "del obp[-1]\n",
    "del ops[-1]\n",
    "del slg[-1]\n",
    "del g_bat[-1]\n",
    "del first_year[-1]\n",
    "del year_max[-1]\n",
    "del experiencia[-1]"
   ]
  },
  {
   "cell_type": "code",
   "execution_count": null,
   "id": "b8430a12",
   "metadata": {},
   "outputs": [],
   "source": [
    "\n",
    "demora = [0 for _ in range(len(inducciones))]\n",
    "\n",
    "demora = [ inducciones[d] - year_max[d] for d in range(len(inducciones))]\n"
   ]
  },
  {
   "cell_type": "code",
   "execution_count": null,
   "id": "cde915bc",
   "metadata": {},
   "outputs": [],
   "source": [
    "\n",
    "w = []\n",
    "l = []\n",
    "era = []\n",
    "war_p = []\n",
    "g = []\n",
    "ip = []\n",
    "w_l = []\n",
    "bb = []\n",
    "gf = []\n",
    "names_pitching = []\n",
    "\n",
    "edge_options = Options()\n",
    "edge_options.add_argument(\"--headless\")  \n",
    "edge_options.add_argument(\"--disable-gpu\")  \n",
    "edge_options.add_argument(\"--disable-dev-shm-usage\")\n",
    "edge_options.add_argument(\"--no-sandbox\")\n",
    "service = Service(r\"C:\\Program Files (x86)\\Microsoft\\Edge\\Application\\msedgedriver.exe\")  \n",
    "\n",
    "driver = webdriver.Edge(service=service, options=edge_options)\n",
    "\n",
    "try:\n",
    "        driver.get(f\"https://www.baseball-reference.com/awards/hof_pitching.shtml\")\n",
    "        wait = WebDriverWait(driver, 10)\n",
    "\n",
    "        player_pitch = driver.find_elements(By.XPATH, \"//tr/td[@data-stat='player']/a\")\n",
    "        for nm in player_pitch:\n",
    "            names_pitching.append(ml.you_type(nm.text))\n",
    "        \n",
    "        ls = driver.find_elements(By.XPATH, \"//tr/td[@data-stat='L']\")\n",
    "        for a in ls:\n",
    "            l.append(ml.you_type(a.text))\n",
    "\n",
    "        ws = driver.find_elements(By.XPATH, \"//tr/td[@data-stat='W']\")\n",
    "        for b in ws:\n",
    "          w.append(ml.you_type(b.text))\n",
    "\n",
    "        eras = driver.find_elements(By.XPATH, \"//td[@data-stat='earned_run_avg']\")\n",
    "        for c in eras:\n",
    "          era.append(ml.you_type(c.text))\n",
    "        \n",
    "        war_pitch =  driver.find_elements(By.XPATH, \"//td[@data-stat='WAR_pitch']\")\n",
    "        for wp in war_pitch:\n",
    "             war_p.append(ml.you_type(wp.text))\n",
    "        gs = driver.find_elements(By.XPATH, \"//td[@data-stat='G']\")\n",
    "        for mg in gs:\n",
    "            g.append(ml.you_type(mg.text))\n",
    "        \n",
    "        ips = driver.find_elements(By.XPATH, \"//td[@data-stat='IP']\")\n",
    "        for ps in ips:\n",
    "            ip.append(ml.you_type(ps.text))\n",
    "\n",
    "        wls = driver.find_elements(By.XPATH, \"//td[@data-stat='win_loss_perc']\")\n",
    "        for ls in wls:\n",
    "            w_l.append(ml.you_type(ls.text))\n",
    "\n",
    "        bbs = driver.find_elements(By.XPATH, \"//td[@data-stat='BB']\")\n",
    "        for bs in bbs:\n",
    "            bb.append(ml.you_type(bs.text))\n",
    "        \n",
    "        ibbs = driver.find_elements(By.XPATH, \"//td[@data-stat='GF']\")\n",
    "        for ib in ibbs:\n",
    "            gf.append(ml.you_type(ib.text))\n",
    "\n",
    "except Exception as e:\n",
    "  print(f\"Error al encontrar los elementos: {e}\")\n",
    "\n",
    "driver.quit()"
   ]
  },
  {
   "cell_type": "code",
   "execution_count": null,
   "id": "71e3dd45",
   "metadata": {},
   "outputs": [],
   "source": [
    "del w[-1]\n",
    "del l[-1]\n",
    "del war_p[-1]\n",
    "del era[-1]\n",
    "del g[-1]\n",
    "del w_l[-1]\n",
    "del ip[-1]\n",
    "del bb[-1]\n",
    "del gf[-1]\n"
   ]
  },
  {
   "cell_type": "code",
   "execution_count": null,
   "id": "34d5b010",
   "metadata": {},
   "outputs": [
    {
     "name": "stdout",
     "output_type": "stream",
     "text": [
      "LENS:\n",
      "general\n",
      "351\n",
      "351\n",
      "351\n",
      "351\n",
      "bateo\n",
      "307\n",
      "307\n",
      "307\n",
      "307\n",
      "307\n",
      "307\n",
      "307\n",
      "307\n",
      "307\n",
      "307\n",
      "307\n",
      "307\n",
      "307\n",
      "307\n",
      "307\n",
      "PITCHING\n",
      "89\n",
      "89\n",
      "89\n",
      "89\n",
      "89\n",
      "89\n",
      "89\n",
      "89\n",
      "89\n",
      "89\n"
     ]
    }
   ],
   "source": [
    "print(\"LENS:\")\n",
    "print(\"general\")\n",
    "print(len(names))\n",
    "print(len(categories))\n",
    "print(len(porcents))\n",
    "print(len(links))\n",
    "print(\"bateo\")\n",
    "print(len(names_batting))\n",
    "print(len(war_b))\n",
    "print(len(h))\n",
    "print(len(hr))\n",
    "print(len(ab))\n",
    "print(len(ba))\n",
    "print(len(rbi))\n",
    "print(len(obp))\n",
    "print(len(ops))\n",
    "print(len(slg))\n",
    "print(len(g_bat))\n",
    "print(len(inducciones))\n",
    "print(len(demora))\n",
    "print(len(experiencia))\n",
    "print(len(year_max))\n",
    "print('PITCHING')\n",
    "print(len(l))\n",
    "print(len(w))\n",
    "print(len(war_p))\n",
    "print(len(era))\n",
    "print(len(g))\n",
    "print(len(names_pitching))\n",
    "print(len(bb))\n",
    "print(len(gf))\n",
    "print(len(ip))\n",
    "print(len(w_l))\n"
   ]
  },
  {
   "cell_type": "code",
   "execution_count": null,
   "id": "e5f65734",
   "metadata": {},
   "outputs": [],
   "source": [
    "\n",
    "players = { names[x]: {\"inducted_as\": categories[x], \"% of Ballots\": porcents[x] ,\"link\": links[x]} for x in range(len(names))}\n",
    "\n",
    "ml.save_json(players,\"hof.json\")\n",
    "\n",
    "data = ml.read_json(\"hof.json\")\n",
    "\n",
    "for bjs in range(len(names_batting)):\n",
    "  data[names_batting[bjs]][\"induction\"] = inducciones[bjs]\n",
    "  data[names_batting[bjs]][\"first_game\"] = first_year[bjs]\n",
    "  data[names_batting[bjs]][\"last_game\"] = year_max[bjs]\n",
    "  data[names_batting[bjs]][\"years_of_waiting_to_enter\"] = demora[bjs]\n",
    "  data[names_batting[bjs]][\"years_of_experience\"] = experiencia[bjs]\n",
    "\n",
    "\n",
    "for js in range(len(names_batting)):\n",
    "  data[names_batting[js]][\"war\"] = war_b[js]\n",
    "  data[names_batting[js]]['g_bat'] = g_bat[js]\n",
    "  data[names_batting[js]][\"h\"] = h[js]\n",
    "  data[names_batting[js]][\"hr\"] = hr[js]\n",
    "  data[names_batting[js]][\"ab\"] = ab[js]\n",
    "  data[names_batting[js]][\"ba\"] = ba[js]\n",
    "  data[names_batting[js]][\"rbi\"] = rbi[js]\n",
    "  data[names_batting[js]][\"obp\"] = obp[js]\n",
    "  data[names_batting[js]][\"ops\"] = ops[js]\n",
    "  data[names_batting[js]][\"slg\"] = slg[js]\n",
    "\n",
    "for pjs in range(len(names_pitching)):\n",
    "  data[names_pitching[pjs]][\"l\"] = l[pjs]\n",
    "  data[names_pitching[pjs]][\"w\"] = w[pjs]\n",
    "  data[names_pitching[pjs]][\"era\"] = era[pjs]\n",
    "  data[names_pitching[pjs]][\"war_p\"] = war_p[pjs]\n",
    "  data[names_pitching[pjs]][\"g\"] = g[pjs] \n",
    "  data[names_pitching[pjs]][\"bb\"] = bb[pjs]\n",
    "  data[names_pitching[pjs]][\"gf\"] = gf[pjs]\n",
    "  data[names_pitching[pjs]][\"w_l\"] = w_l[pjs]\n",
    "  data[names_pitching[pjs]][\"ip\"] = ip[pjs]\n",
    "\n",
    "for nulo in range(len(names)):\n",
    "  try:\n",
    "    if data[names[nulo]][\"war\"]:\n",
    "      pass\n",
    "  except KeyError:\n",
    "    data[names[nulo]][\"war\"] = None\n",
    "  try:\n",
    "    if data[names[nulo]][\"g_bat\"]:\n",
    "      pass\n",
    "  except KeyError:\n",
    "    data[names[nulo]][\"g_bat\"] = None\n",
    "  try:\n",
    "    if data[names[nulo]][\"h\"]:\n",
    "      pass\n",
    "  except KeyError:\n",
    "    data[names[nulo]][\"h\"] = None\n",
    "  try:\n",
    "    if data[names[nulo]][\"hr\"]:\n",
    "      pass\n",
    "  except KeyError:\n",
    "    data[names[nulo]][\"hr\"] = None\n",
    "  try:\n",
    "    if data[names[nulo]][\"ab\"]:\n",
    "      pass\n",
    "  except KeyError:\n",
    "    data[names[nulo]][\"ab\"] = None\n",
    "  try:\n",
    "    if data[names[nulo]][\"ba\"]:\n",
    "      pass\n",
    "  except KeyError:\n",
    "    data[names[nulo]][\"ba\"] = None\n",
    "  try:\n",
    "    if data[names[nulo]][\"war\"]:\n",
    "      pass\n",
    "  except KeyError:\n",
    "    data[names[nulo]][\"war\"] = None\n",
    "  try:\n",
    "    if data[names[nulo]][\"rbi\"]:\n",
    "      pass\n",
    "  except KeyError:\n",
    "    data[names[nulo]][\"rbi\"] = None\n",
    "  try:\n",
    "    if data[names[nulo]][\"ops\"]:\n",
    "      pass\n",
    "  except KeyError:\n",
    "    data[names[nulo]][\"ops\"] = None\n",
    "  try:\n",
    "    if data[names[nulo]][\"obp\"]:\n",
    "      pass\n",
    "  except KeyError:\n",
    "    data[names[nulo]][\"obp\"] = None\n",
    "  try:\n",
    "    if data[names[nulo]][\"slg\"]:\n",
    "      pass\n",
    "  except KeyError:\n",
    "    data[names[nulo]][\"slg\"] = None\n",
    "  try:\n",
    "    if data[names[nulo]][\"w\"]:\n",
    "      pass\n",
    "  except KeyError:\n",
    "    data[names[nulo]][\"w\"] = None\n",
    "  try:\n",
    "    if data[names[nulo]][\"l\"]:\n",
    "      pass\n",
    "  except KeyError:\n",
    "    data[names[nulo]][\"l\"] = None\n",
    "  try:\n",
    "    if data[names[nulo]][\"war_p\"]:\n",
    "      pass\n",
    "  except KeyError:\n",
    "    data[names[nulo]][\"war_p\"] = None\n",
    "  try:\n",
    "    if data[names[nulo]][\"era\"]:\n",
    "      pass\n",
    "  except KeyError:\n",
    "    data[names[nulo]][\"era\"] = None\n",
    "  try:\n",
    "    if data[names[nulo]][\"g\"]:\n",
    "      pass\n",
    "  except KeyError:\n",
    "    data[names[nulo]][\"g\"] = None\n",
    "  try:\n",
    "    if data[names[nulo]][\"bb\"]:\n",
    "      pass\n",
    "  except KeyError:\n",
    "    data[names[nulo]][\"bb\"] = None\n",
    "  try:\n",
    "    if data[names[nulo]][\"w_l\"]:\n",
    "      pass\n",
    "  except KeyError:\n",
    "    data[names[nulo]][\"w_l\"] = None\n",
    "  try:\n",
    "    if data[names[nulo]][\"ip\"]:\n",
    "      pass\n",
    "  except KeyError:\n",
    "    data[names[nulo]][\"ip\"] = None\n",
    "  try:\n",
    "    if data[names[nulo]][\"gf\"]:\n",
    "      pass\n",
    "  except KeyError:\n",
    "    data[names[nulo]][\"gf\"] = None\n",
    "  try:\n",
    "    if data[names[nulo]][\"years_of_experience\"]:\n",
    "      pass\n",
    "  except KeyError:\n",
    "    data[names[nulo]][\"years_of_experience\"] = None\n",
    "\n",
    "ml.save_json(data,\"hof.json\")"
   ]
  },
  {
   "cell_type": "code",
   "execution_count": 6,
   "id": "69ce54cc",
   "metadata": {},
   "outputs": [],
   "source": [
    "df = pd.read_json(\"hof.json\")\n",
    "pd.set_option(\"display.max_rows\", None)\n",
    "\n",
    "df_total = df.T\n",
    "\n",
    "df_players = df.T[~df.T[\"inducted_as\"].isin([\"Manager\", \"Pioneer/Executive\", \"Umpire\"])]\n",
    "\n",
    "\n",
    "columnas_pitcher= [\"era\", \"war_p\",\"g\" ,\"l\",\"w\",'ip','bb','w_l','years_of_experience','gf']\n",
    "df_pitcher = df_players.dropna(subset=columnas_pitcher)\n",
    "\n",
    "names_pitcher= df_pitcher.index.to_list()\n",
    "era_pitcher= df_pitcher['era'].to_list()\n",
    "war_pitcher=  df_pitcher[\"war_p\"].to_list()\n",
    "g_pitcher=  df_pitcher[\"g\"].to_list()\n",
    "l_pitcher=  df_pitcher[\"l\"].to_list()\n",
    "w_pitcher=  df_pitcher[\"w\"].to_list()\n",
    "ip_pitcher=  df_pitcher['ip'].to_list()\n",
    "bb_pitcher=  df_pitcher['bb'].to_list()\n",
    "w_l_pitcher=  df_pitcher['w_l'].to_list()\n",
    "gf_pitcher=  df_pitcher['gf'].to_list()\n",
    "experience_pitcher=  df_pitcher['years_of_experience'].to_list()\n",
    "link_p = df_pitcher[\"link\"].to_list()\n",
    "inicio_p = df_pitcher[\"first_game\"].to_list()\n",
    "final_p = df_pitcher[\"last_game\"].to_list()\n",
    "seasons_p = ml.range_in_lists(inicio_p,final_p)\n",
    "\n",
    "\n",
    "columnas_batting= ['years_of_experience', \"war\", \"g_bat\", \"h\", \"hr\", \"ba\",\"ab\" ,\"rbi\",\"obp\",\"ops\" ]\n",
    "df_batting= df_players.dropna(subset=columnas_batting)\n",
    "\n",
    "name_batting= df_batting.index.to_list()\n",
    "war_batting= df_batting[\"war\"].to_list()\n",
    "h_batting= df_batting[\"h\"].to_list()\n",
    "hr_batting= df_batting[\"hr\"].to_list()\n",
    "ba_batting= df_batting[\"ba\"].to_list()\n",
    "ab_batting= df_batting[\"ab\"].to_list()\n",
    "rbi_batting= df_batting[\"rbi\"].to_list()\n",
    "obp_batting= df_batting[\"obp\"].to_list()\n",
    "ops_batting= df_batting[\"ops\"].to_list()\n",
    "experience_batting= df_batting[\"years_of_experience\"].to_list()\n",
    "link_b = df_batting[\"link\"].to_list()\n",
    "inicio_b = df_batting[\"first_game\"].to_list()\n",
    "final_b = df_batting[\"last_game\"].to_list()\n",
    "seasons_b = ml.range_in_lists(inicio_b,final_b)\n",
    "\n",
    "df_player_batting= pd.DataFrame({\n",
    "    \"Jugador\": name_batting,\n",
    "    \"WAR\": war_batting,\n",
    "    \"HR\": hr_batting,\n",
    "    \"BA\": ba_batting,\n",
    "    \"OPS\": ops_batting,\n",
    "    \"OBP\": obp_batting,\n",
    "    \"RBI\": rbi_batting,\n",
    "    \"H\": h_batting,\n",
    "    \"Seasons\": experience_batting\n",
    "})\n",
    "\n",
    "# Crear métricas por temporada\n",
    "df_player_batting[\"HR_temp\"] = df_player_batting[\"HR\"] / df_player_batting[\"Seasons\"]\n",
    "df_player_batting[\"WAR_temp\"] = df_player_batting[\"WAR\"] / df_player_batting[\"Seasons\"]\n",
    "df_player_batting[\"RBI_temp\"] = df_player_batting[\"RBI\"] / df_player_batting[\"Seasons\"]\n",
    "df_player_batting[\"H_temp\"] = df_player_batting[\"H\"] / df_player_batting[\"Seasons\"]\n",
    "\n",
    "# Seleccionar métricas a normalizar\n",
    "metricas_batting= [\"HR_temp\", \"WAR_temp\", \"RBI_temp\", \"H_temp\", \"BA\", \"OPS\", \"OBP\"]\n",
    "\n",
    "# Normalizar con Min-Max (puedes probar StandardScaler o RobustScaler también)\n",
    "scaler_batting= MinMaxScaler()\n",
    "df_bat_norm = df_player_batting.copy()\n",
    "df_bat_norm[metricas_batting] = scaler_batting.fit_transform(df_player_batting[metricas_batting])\n",
    "\n",
    "# Calcular Score para Batting\n",
    "df_bat_norm[\"Score\"] = (\n",
    "    0.4 * df_bat_norm[\"WAR_temp\"] +\n",
    "    0.2 * df_bat_norm[\"HR_temp\"] +\n",
    "    0.1 * df_bat_norm[\"RBI_temp\"] +\n",
    "    0.1 * df_bat_norm[\"OPS\"] +\n",
    "    0.1 * df_bat_norm[\"OBP\"] +\n",
    "    0.1 * df_bat_norm[\"BA\"]\n",
    ")\n",
    "\n",
    "# Ranking para Batting\n",
    "ranking_batting= df_bat_norm.sort_values(\"Score\", ascending=False)\n",
    "\n",
    "df_player_pitcher= pd.DataFrame({\n",
    "    \"Jugador\": names_pitcher,\n",
    "    \"WAR\": war_pitcher,\n",
    "    \"ERA\": era_pitcher,\n",
    "    \"BB\": bb_pitcher,\n",
    "    \"IP\": ip_pitcher,\n",
    "    \"Seasons\": experience_pitcher\n",
    "})\n",
    "\n",
    "df_player_pitcher[\"WAR_temp\"] = df_player_pitcher[\"WAR\"] / df_player_pitcher[\"Seasons\"]\n",
    "df_player_pitcher[\"ERA_temp\"] = df_player_pitcher[\"ERA\"] / df_player_pitcher[\"Seasons\"]\n",
    "df_player_pitcher[\"BB_temp\"] = df_player_pitcher[\"BB\"] / df_player_pitcher[\"Seasons\"]\n",
    "df_player_pitcher[\"IP_temp\"] = df_player_pitcher[\"IP\"] / df_player_pitcher[\"Seasons\"]\n",
    "\n",
    "metricas_pitcher= [\"WAR_temp\", \"ERA_temp\",\"BB_temp\",\"IP_temp\"]\n",
    "\n",
    "scaler_pitcher= MinMaxScaler()\n",
    "df_pit_norm = df_player_pitcher.copy()\n",
    "df_pit_norm[metricas_pitcher] = scaler_pitcher.fit_transform(df_pit_norm[metricas_pitcher])\n",
    "\n",
    "df_pit_norm[\"Score\"] = (\n",
    "    0.2 * df_pit_norm[\"WAR_temp\"] +\n",
    "    0.1 * df_pit_norm[\"BB_temp\"] +\n",
    "    0.3 * df_pit_norm[\"ERA_temp\"] +\n",
    "    0.4 * df_pit_norm[\"IP_temp\"]\n",
    ")\n",
    "\n",
    "ranking_pitcher= df_pit_norm.sort_values(\"Score\",ascending=False)\n",
    "\n",
    "# Links de los mejores score en pitching y batting\n",
    "\n",
    "link_best_pit_score = link_p[int(ranking_pitcher.index.to_list()[0])]\n",
    "\n",
    "link_best_bat_score = link_b[int(ranking_batting.index.to_list()[0])]\n",
    "\n"
   ]
  },
  {
   "cell_type": "code",
   "execution_count": 17,
   "id": "4cd8e4d7",
   "metadata": {},
   "outputs": [],
   "source": [
    "\n",
    "year_war_b = []\n",
    "year_ba_b = []\n",
    "year_hr_b = []\n",
    "year_rbi_b = []\n",
    "year_ops_b = []\n",
    "year_obp_b = []\n",
    "    "
   ]
  },
  {
   "cell_type": "code",
   "execution_count": null,
   "id": "492773a3",
   "metadata": {},
   "outputs": [],
   "source": [
    "\n",
    "def scraping_b(link):\n",
    "    players_for_year(link, \"b_war\", year_war_b)\n",
    "    players_for_year(link, \"b_hr\", year_rbi_b)\n",
    "    players_for_year(link, \"b_rbi\", year_rbi_b)\n",
    "\n",
    "with ThreadPoolExecutor(max_workers=10) as executor:\n",
    "    executor.map(scraping_b, link_b)\n"
   ]
  },
  {
   "cell_type": "code",
   "execution_count": null,
   "id": "4e0aac60",
   "metadata": {},
   "outputs": [],
   "source": [
    "ml.save_json(year_war_b,\"year_batting_war.json\")\n",
    "ml.save_json(year_hr_b,\"year_batting_hr.json\")\n",
    "ml.save_json(year_rbi_b,\"year_batting_rbi.json\")"
   ]
  },
  {
   "cell_type": "code",
   "execution_count": null,
   "id": "6f3ca059",
   "metadata": {},
   "outputs": [
    {
     "name": "stdout",
     "output_type": "stream",
     "text": [
      "556\n",
      "277\n",
      "277\n",
      "278\n"
     ]
    }
   ],
   "source": [
    "print(len(year_war_b))\n",
    "print(len(year_hr_b))\n",
    "print(len(year_rbi_b))\n",
    "print(len(link_b))"
   ]
  },
  {
   "cell_type": "code",
   "execution_count": 4,
   "id": "51410ff9",
   "metadata": {},
   "outputs": [],
   "source": [
    "\n",
    "year_war_p = []\n",
    "year_bb_p= []\n",
    "year_era_p = []\n",
    "year_ip_p= []\n"
   ]
  },
  {
   "cell_type": "code",
   "execution_count": 5,
   "id": "27186c08",
   "metadata": {},
   "outputs": [],
   "source": [
    "def scraping_p(link):\n",
    "    players_for_year(link, \"p_war\", year_war_p)\n",
    "    players_for_year(link, \"p_earned_run_avg\", year_era_p)\n",
    "    players_for_year(link, \"p_bb\", year_bb_p)\n",
    "\n",
    "with ThreadPoolExecutor(max_workers=10) as executor:\n",
    "    executor.map(scraping_p, link_p)"
   ]
  },
  {
   "cell_type": "code",
   "execution_count": 8,
   "id": "30cf1920",
   "metadata": {},
   "outputs": [
    {
     "name": "stdout",
     "output_type": "stream",
     "text": [
      "85\n",
      "85\n",
      "85\n"
     ]
    }
   ],
   "source": [
    "print(len(year_war_p))\n",
    "print(len(year_era_p))\n",
    "print(len(year_bb_p))"
   ]
  },
  {
   "cell_type": "code",
   "execution_count": 9,
   "id": "eb29db02",
   "metadata": {},
   "outputs": [],
   "source": [
    "ml.save_json(year_war_p,\"year_pitching_war.json\")\n",
    "ml.save_json(year_bb_p,\"year_pitching_bb.json\")\n",
    "ml.save_json(year_era_p,\"year_pitching_era.json\")\n"
   ]
  },
  {
   "cell_type": "code",
   "execution_count": 9,
   "id": "f7842c42",
   "metadata": {},
   "outputs": [],
   "source": [
    "best_first_b = inicio_b[int(ranking_batting.index.to_list()[0])]\n",
    "best_last_b = final_b[int(ranking_batting.index.to_list()[0])]\n",
    "\n",
    "best_first_p = inicio_p[int(ranking_pitcher.index.to_list()[0])]\n",
    "best_last_p = final_p[int(ranking_pitcher.index.to_list()[0])]\n",
    "\n",
    "best_seasons_b =  ml.range_in_lists([best_first_b],[best_last_b])\n",
    "\n",
    "media_best_war_for_year = []\n",
    "media_best_hr_for_year = []\n",
    "media_best_rbi_for_year = []\n",
    "\n",
    "media_best_warp_for_year = []\n",
    "media_best_era_for_year = []\n",
    "media_best_bb_for_year = []\n",
    "\n",
    "import numpy as np\n",
    "import plotly.express as px\n",
    "\n",
    "war_seasons_b = ml.balancear_matrix(ml.read_json(\"year_batting_war.json\"))\n",
    "hr_seasons_b = ml.balancear_matrix(ml.read_json(\"year_batting_hr.json\"))\n",
    "rbi_seasons_b = ml.balancear_matrix(ml.read_json(\"year_batting_rbi.json\"))\n",
    "\n",
    "war_seasons_p = ml.balancear_matrix(ml.read_json(\"year_pitching_war.json\"))\n",
    "era_seasons_p = ml.balancear_matrix(ml.read_json(\"year_pitching_era.json\"))\n",
    "bb_seasons_p = ml.balancear_matrix(ml.read_json(\"year_pitching_bb.json\"))\n",
    "\n",
    "for bb in range(best_first_b,best_last_b +1):\n",
    "    media_best_war_for_year.append(float(np.mean([ war_seasons_b[posición[0]][posición[1]] for posición in ml.element_in_matrix(bb,ml.balancear_matrix(seasons_b))])))\n",
    "    media_best_hr_for_year.append(float(np.mean([ hr_seasons_b[posición[0]][posición[1]] for posición in ml.element_in_matrix(bb,ml.balancear_matrix(seasons_b))])))\n",
    "    media_best_rbi_for_year.append(float(np.mean([  rbi_seasons_b[posición[0]][posición[1]] for posición in ml.element_in_matrix(bb,ml.balancear_matrix(seasons_b))])))\n",
    "\n",
    "for bp in range(best_first_p,best_last_p +1):\n",
    "    media_best_warp_for_year.append(float(np.mean([ war_seasons_p[posición[0]][posición[1]] for posición in ml.element_in_matrix(bp,ml.balancear_matrix(seasons_p))])))\n",
    "    media_best_era_for_year.append(float(np.mean([ era_seasons_p[posición[0]][posición[1]] for posición in ml.element_in_matrix(bp,ml.balancear_matrix(seasons_p))])))\n",
    "    media_best_bb_for_year.append(float(np.mean([ bb_seasons_p[posición[0]][posición[1]] for posición in ml.element_in_matrix(bp,ml.balancear_matrix(seasons_p))])))\n",
    "\n"
   ]
  },
  {
   "cell_type": "code",
   "execution_count": 14,
   "id": "cd9f4c32",
   "metadata": {},
   "outputs": [
    {
     "name": "stdout",
     "output_type": "stream",
     "text": [
      "[2.1323529411764706, 2.3179487179487177, 2.6868421052631577, 2.1542857142857144, 2.0212121212121215, 2.28125, 1.6952380952380952, 2.2111111111111112, 2.477551020408163, 2.31, 2.113235294117647, 3.232394366197183, 1.96056338028169, 1.917142857142857, 2.894366197183099, 2.2771428571428576, 1.9400000000000002, 3.034782608695652, 2.794366197183098, 2.580882352941177, 1.8272727272727276, 4.54920634920635]\n",
      "[2.2941176470588234, 2.4358974358974357, 10.552631578947368, 3.2285714285714286, 2.606060606060606, 4.0625, 5.142857142857143, 4.844444444444444, 5.612244897959184, 7.966666666666667, 6.9411764705882355, 7.605633802816901, 7.76056338028169, 6.757142857142857, 6.323943661971831, 7.8, 6.814285714285714, 7.072463768115942, 11.816901408450704, 9.882352941176471, 13.5, 7.317460317460317]\n",
      "[41.26470588235294, 63.17948717948718, 65.89473684210526, 67.14285714285714, 60.878787878787875, 55.40625, 47.095238095238095, 48.13333333333333, 39.40816326530612, 61.63333333333333, 43.26470588235294, 53.45070422535211, 60.394366197183096, 45.24285714285714, 38.971830985915496, 43.81428571428572, 49.785714285714285, 57.289855072463766, 49.16901408450704, 43.11764705882353, 40.04545454545455, 66.87301587301587]\n"
     ]
    }
   ],
   "source": [
    "print(media_best_war_for_year)\n",
    "print(media_best_hr_for_year)\n",
    "print(media_best_rbi_for_year)"
   ]
  },
  {
   "cell_type": "code",
   "execution_count": 12,
   "id": "e19204ff",
   "metadata": {},
   "outputs": [
    {
     "data": {
      "text/plain": [
       "[1.4,\n",
       " 3.5,\n",
       " 5.8,\n",
       " 6.5,\n",
       " 7.2,\n",
       " 7.3,\n",
       " 7.6,\n",
       " 8.3,\n",
       " 10.2,\n",
       " 9.3,\n",
       " 9.0,\n",
       " 11.5,\n",
       " 9.2,\n",
       " 5.2,\n",
       " 6.6,\n",
       " 8.0,\n",
       " 2.9,\n",
       " 3.5,\n",
       " 5.6,\n",
       " 2.6,\n",
       " -0.1,\n",
       " 131.0]"
      ]
     },
     "execution_count": 12,
     "metadata": {},
     "output_type": "execute_result"
    }
   ],
   "source": [
    "\n",
    "\n",
    "war_seasons_b[int(ranking_batting.index.to_list()[0])][:len(best_seasons_b[0])]\n",
    "\n"
   ]
  },
  {
   "cell_type": "code",
   "execution_count": null,
   "id": "924a8222",
   "metadata": {},
   "outputs": [
    {
     "ename": "ValueError",
     "evalue": "Mime type rendering requires nbformat>=4.2.0 but it is not installed",
     "output_type": "error",
     "traceback": [
      "\u001b[31m---------------------------------------------------------------------------\u001b[39m",
      "\u001b[31mValueError\u001b[39m                                Traceback (most recent call last)",
      "\u001b[36mFile \u001b[39m\u001b[32md:\\Streamlit\\venv\\Lib\\site-packages\\IPython\\core\\formatters.py:984\u001b[39m, in \u001b[36mIPythonDisplayFormatter.__call__\u001b[39m\u001b[34m(self, obj)\u001b[39m\n\u001b[32m    982\u001b[39m method = get_real_method(obj, \u001b[38;5;28mself\u001b[39m.print_method)\n\u001b[32m    983\u001b[39m \u001b[38;5;28;01mif\u001b[39;00m method \u001b[38;5;129;01mis\u001b[39;00m \u001b[38;5;129;01mnot\u001b[39;00m \u001b[38;5;28;01mNone\u001b[39;00m:\n\u001b[32m--> \u001b[39m\u001b[32m984\u001b[39m     \u001b[43mmethod\u001b[49m\u001b[43m(\u001b[49m\u001b[43m)\u001b[49m\n\u001b[32m    985\u001b[39m     \u001b[38;5;28;01mreturn\u001b[39;00m \u001b[38;5;28;01mTrue\u001b[39;00m\n",
      "\u001b[36mFile \u001b[39m\u001b[32md:\\Streamlit\\venv\\Lib\\site-packages\\plotly\\basedatatypes.py:846\u001b[39m, in \u001b[36mBaseFigure._ipython_display_\u001b[39m\u001b[34m(self)\u001b[39m\n\u001b[32m    843\u001b[39m \u001b[38;5;28;01mimport\u001b[39;00m\u001b[38;5;250m \u001b[39m\u001b[34;01mplotly\u001b[39;00m\u001b[34;01m.\u001b[39;00m\u001b[34;01mio\u001b[39;00m\u001b[38;5;250m \u001b[39m\u001b[38;5;28;01mas\u001b[39;00m\u001b[38;5;250m \u001b[39m\u001b[34;01mpio\u001b[39;00m\n\u001b[32m    845\u001b[39m \u001b[38;5;28;01mif\u001b[39;00m pio.renderers.render_on_display \u001b[38;5;129;01mand\u001b[39;00m pio.renderers.default:\n\u001b[32m--> \u001b[39m\u001b[32m846\u001b[39m     \u001b[43mpio\u001b[49m\u001b[43m.\u001b[49m\u001b[43mshow\u001b[49m\u001b[43m(\u001b[49m\u001b[38;5;28;43mself\u001b[39;49m\u001b[43m)\u001b[49m\n\u001b[32m    847\u001b[39m \u001b[38;5;28;01melse\u001b[39;00m:\n\u001b[32m    848\u001b[39m     \u001b[38;5;28mprint\u001b[39m(\u001b[38;5;28mrepr\u001b[39m(\u001b[38;5;28mself\u001b[39m))\n",
      "\u001b[36mFile \u001b[39m\u001b[32md:\\Streamlit\\venv\\Lib\\site-packages\\plotly\\io\\_renderers.py:425\u001b[39m, in \u001b[36mshow\u001b[39m\u001b[34m(fig, renderer, validate, **kwargs)\u001b[39m\n\u001b[32m    420\u001b[39m     \u001b[38;5;28;01mraise\u001b[39;00m \u001b[38;5;167;01mValueError\u001b[39;00m(\n\u001b[32m    421\u001b[39m         \u001b[33m\"\u001b[39m\u001b[33mMime type rendering requires ipython but it is not installed\u001b[39m\u001b[33m\"\u001b[39m\n\u001b[32m    422\u001b[39m     )\n\u001b[32m    424\u001b[39m \u001b[38;5;28;01mif\u001b[39;00m \u001b[38;5;129;01mnot\u001b[39;00m nbformat \u001b[38;5;129;01mor\u001b[39;00m Version(nbformat.__version__) < Version(\u001b[33m\"\u001b[39m\u001b[33m4.2.0\u001b[39m\u001b[33m\"\u001b[39m):\n\u001b[32m--> \u001b[39m\u001b[32m425\u001b[39m     \u001b[38;5;28;01mraise\u001b[39;00m \u001b[38;5;167;01mValueError\u001b[39;00m(\n\u001b[32m    426\u001b[39m         \u001b[33m\"\u001b[39m\u001b[33mMime type rendering requires nbformat>=4.2.0 but it is not installed\u001b[39m\u001b[33m\"\u001b[39m\n\u001b[32m    427\u001b[39m     )\n\u001b[32m    429\u001b[39m display_jupyter_version_warnings()\n\u001b[32m    431\u001b[39m ipython_display.display(bundle, raw=\u001b[38;5;28;01mTrue\u001b[39;00m)\n",
      "\u001b[31mValueError\u001b[39m: Mime type rendering requires nbformat>=4.2.0 but it is not installed"
     ]
    },
    {
     "data": {
      "application/vnd.plotly.v1+json": {
       "config": {
        "plotlyServerURL": "https://plot.ly"
       },
       "data": [
        {
         "line": {
          "color": "green"
         },
         "mode": "lines+markers",
         "name": "war",
         "type": "scatter",
         "x": [
          1914,
          1915,
          1916,
          1917,
          1918,
          1919,
          1920,
          1921,
          1922,
          1923,
          1924,
          1925,
          1926,
          1927,
          1928,
          1929,
          1930,
          1931,
          1932,
          1933,
          1934,
          1935
         ],
         "y": [
          1.4,
          3.5,
          5.8,
          6.5,
          7.2,
          7.3,
          7.6,
          8.3,
          10.2,
          9.3,
          9,
          11.5,
          9.2,
          5.2,
          6.6,
          8,
          2.9,
          3.5,
          5.6,
          2.6,
          -0.1,
          131
         ]
        },
        {
         "line": {
          "color": "red"
         },
         "mode": "lines+markers",
         "name": "media",
         "type": "scatter",
         "x": [
          1914,
          1915,
          1916,
          1917,
          1918,
          1919,
          1920,
          1921,
          1922,
          1923,
          1924,
          1925,
          1926,
          1927,
          1928,
          1929,
          1930,
          1931,
          1932,
          1933,
          1934,
          1935
         ],
         "y": [
          1.4,
          3.5,
          5.8,
          6.5,
          7.2,
          7.3,
          7.6,
          8.3,
          10.2,
          9.3,
          9,
          11.5,
          9.2,
          5.2,
          6.6,
          8,
          2.9,
          3.5,
          5.6,
          2.6,
          -0.1,
          131
         ]
        }
       ],
       "layout": {
        "legend": {
         "title": {
          "text": "legenda"
         }
        },
        "template": {
         "data": {
          "bar": [
           {
            "error_x": {
             "color": "#2a3f5f"
            },
            "error_y": {
             "color": "#2a3f5f"
            },
            "marker": {
             "line": {
              "color": "#E5ECF6",
              "width": 0.5
             },
             "pattern": {
              "fillmode": "overlay",
              "size": 10,
              "solidity": 0.2
             }
            },
            "type": "bar"
           }
          ],
          "barpolar": [
           {
            "marker": {
             "line": {
              "color": "#E5ECF6",
              "width": 0.5
             },
             "pattern": {
              "fillmode": "overlay",
              "size": 10,
              "solidity": 0.2
             }
            },
            "type": "barpolar"
           }
          ],
          "carpet": [
           {
            "aaxis": {
             "endlinecolor": "#2a3f5f",
             "gridcolor": "white",
             "linecolor": "white",
             "minorgridcolor": "white",
             "startlinecolor": "#2a3f5f"
            },
            "baxis": {
             "endlinecolor": "#2a3f5f",
             "gridcolor": "white",
             "linecolor": "white",
             "minorgridcolor": "white",
             "startlinecolor": "#2a3f5f"
            },
            "type": "carpet"
           }
          ],
          "choropleth": [
           {
            "colorbar": {
             "outlinewidth": 0,
             "ticks": ""
            },
            "type": "choropleth"
           }
          ],
          "contour": [
           {
            "colorbar": {
             "outlinewidth": 0,
             "ticks": ""
            },
            "colorscale": [
             [
              0,
              "#0d0887"
             ],
             [
              0.1111111111111111,
              "#46039f"
             ],
             [
              0.2222222222222222,
              "#7201a8"
             ],
             [
              0.3333333333333333,
              "#9c179e"
             ],
             [
              0.4444444444444444,
              "#bd3786"
             ],
             [
              0.5555555555555556,
              "#d8576b"
             ],
             [
              0.6666666666666666,
              "#ed7953"
             ],
             [
              0.7777777777777778,
              "#fb9f3a"
             ],
             [
              0.8888888888888888,
              "#fdca26"
             ],
             [
              1,
              "#f0f921"
             ]
            ],
            "type": "contour"
           }
          ],
          "contourcarpet": [
           {
            "colorbar": {
             "outlinewidth": 0,
             "ticks": ""
            },
            "type": "contourcarpet"
           }
          ],
          "heatmap": [
           {
            "colorbar": {
             "outlinewidth": 0,
             "ticks": ""
            },
            "colorscale": [
             [
              0,
              "#0d0887"
             ],
             [
              0.1111111111111111,
              "#46039f"
             ],
             [
              0.2222222222222222,
              "#7201a8"
             ],
             [
              0.3333333333333333,
              "#9c179e"
             ],
             [
              0.4444444444444444,
              "#bd3786"
             ],
             [
              0.5555555555555556,
              "#d8576b"
             ],
             [
              0.6666666666666666,
              "#ed7953"
             ],
             [
              0.7777777777777778,
              "#fb9f3a"
             ],
             [
              0.8888888888888888,
              "#fdca26"
             ],
             [
              1,
              "#f0f921"
             ]
            ],
            "type": "heatmap"
           }
          ],
          "histogram": [
           {
            "marker": {
             "pattern": {
              "fillmode": "overlay",
              "size": 10,
              "solidity": 0.2
             }
            },
            "type": "histogram"
           }
          ],
          "histogram2d": [
           {
            "colorbar": {
             "outlinewidth": 0,
             "ticks": ""
            },
            "colorscale": [
             [
              0,
              "#0d0887"
             ],
             [
              0.1111111111111111,
              "#46039f"
             ],
             [
              0.2222222222222222,
              "#7201a8"
             ],
             [
              0.3333333333333333,
              "#9c179e"
             ],
             [
              0.4444444444444444,
              "#bd3786"
             ],
             [
              0.5555555555555556,
              "#d8576b"
             ],
             [
              0.6666666666666666,
              "#ed7953"
             ],
             [
              0.7777777777777778,
              "#fb9f3a"
             ],
             [
              0.8888888888888888,
              "#fdca26"
             ],
             [
              1,
              "#f0f921"
             ]
            ],
            "type": "histogram2d"
           }
          ],
          "histogram2dcontour": [
           {
            "colorbar": {
             "outlinewidth": 0,
             "ticks": ""
            },
            "colorscale": [
             [
              0,
              "#0d0887"
             ],
             [
              0.1111111111111111,
              "#46039f"
             ],
             [
              0.2222222222222222,
              "#7201a8"
             ],
             [
              0.3333333333333333,
              "#9c179e"
             ],
             [
              0.4444444444444444,
              "#bd3786"
             ],
             [
              0.5555555555555556,
              "#d8576b"
             ],
             [
              0.6666666666666666,
              "#ed7953"
             ],
             [
              0.7777777777777778,
              "#fb9f3a"
             ],
             [
              0.8888888888888888,
              "#fdca26"
             ],
             [
              1,
              "#f0f921"
             ]
            ],
            "type": "histogram2dcontour"
           }
          ],
          "mesh3d": [
           {
            "colorbar": {
             "outlinewidth": 0,
             "ticks": ""
            },
            "type": "mesh3d"
           }
          ],
          "parcoords": [
           {
            "line": {
             "colorbar": {
              "outlinewidth": 0,
              "ticks": ""
             }
            },
            "type": "parcoords"
           }
          ],
          "pie": [
           {
            "automargin": true,
            "type": "pie"
           }
          ],
          "scatter": [
           {
            "fillpattern": {
             "fillmode": "overlay",
             "size": 10,
             "solidity": 0.2
            },
            "type": "scatter"
           }
          ],
          "scatter3d": [
           {
            "line": {
             "colorbar": {
              "outlinewidth": 0,
              "ticks": ""
             }
            },
            "marker": {
             "colorbar": {
              "outlinewidth": 0,
              "ticks": ""
             }
            },
            "type": "scatter3d"
           }
          ],
          "scattercarpet": [
           {
            "marker": {
             "colorbar": {
              "outlinewidth": 0,
              "ticks": ""
             }
            },
            "type": "scattercarpet"
           }
          ],
          "scattergeo": [
           {
            "marker": {
             "colorbar": {
              "outlinewidth": 0,
              "ticks": ""
             }
            },
            "type": "scattergeo"
           }
          ],
          "scattergl": [
           {
            "marker": {
             "colorbar": {
              "outlinewidth": 0,
              "ticks": ""
             }
            },
            "type": "scattergl"
           }
          ],
          "scattermap": [
           {
            "marker": {
             "colorbar": {
              "outlinewidth": 0,
              "ticks": ""
             }
            },
            "type": "scattermap"
           }
          ],
          "scattermapbox": [
           {
            "marker": {
             "colorbar": {
              "outlinewidth": 0,
              "ticks": ""
             }
            },
            "type": "scattermapbox"
           }
          ],
          "scatterpolar": [
           {
            "marker": {
             "colorbar": {
              "outlinewidth": 0,
              "ticks": ""
             }
            },
            "type": "scatterpolar"
           }
          ],
          "scatterpolargl": [
           {
            "marker": {
             "colorbar": {
              "outlinewidth": 0,
              "ticks": ""
             }
            },
            "type": "scatterpolargl"
           }
          ],
          "scatterternary": [
           {
            "marker": {
             "colorbar": {
              "outlinewidth": 0,
              "ticks": ""
             }
            },
            "type": "scatterternary"
           }
          ],
          "surface": [
           {
            "colorbar": {
             "outlinewidth": 0,
             "ticks": ""
            },
            "colorscale": [
             [
              0,
              "#0d0887"
             ],
             [
              0.1111111111111111,
              "#46039f"
             ],
             [
              0.2222222222222222,
              "#7201a8"
             ],
             [
              0.3333333333333333,
              "#9c179e"
             ],
             [
              0.4444444444444444,
              "#bd3786"
             ],
             [
              0.5555555555555556,
              "#d8576b"
             ],
             [
              0.6666666666666666,
              "#ed7953"
             ],
             [
              0.7777777777777778,
              "#fb9f3a"
             ],
             [
              0.8888888888888888,
              "#fdca26"
             ],
             [
              1,
              "#f0f921"
             ]
            ],
            "type": "surface"
           }
          ],
          "table": [
           {
            "cells": {
             "fill": {
              "color": "#EBF0F8"
             },
             "line": {
              "color": "white"
             }
            },
            "header": {
             "fill": {
              "color": "#C8D4E3"
             },
             "line": {
              "color": "white"
             }
            },
            "type": "table"
           }
          ]
         },
         "layout": {
          "annotationdefaults": {
           "arrowcolor": "#2a3f5f",
           "arrowhead": 0,
           "arrowwidth": 1
          },
          "autotypenumbers": "strict",
          "coloraxis": {
           "colorbar": {
            "outlinewidth": 0,
            "ticks": ""
           }
          },
          "colorscale": {
           "diverging": [
            [
             0,
             "#8e0152"
            ],
            [
             0.1,
             "#c51b7d"
            ],
            [
             0.2,
             "#de77ae"
            ],
            [
             0.3,
             "#f1b6da"
            ],
            [
             0.4,
             "#fde0ef"
            ],
            [
             0.5,
             "#f7f7f7"
            ],
            [
             0.6,
             "#e6f5d0"
            ],
            [
             0.7,
             "#b8e186"
            ],
            [
             0.8,
             "#7fbc41"
            ],
            [
             0.9,
             "#4d9221"
            ],
            [
             1,
             "#276419"
            ]
           ],
           "sequential": [
            [
             0,
             "#0d0887"
            ],
            [
             0.1111111111111111,
             "#46039f"
            ],
            [
             0.2222222222222222,
             "#7201a8"
            ],
            [
             0.3333333333333333,
             "#9c179e"
            ],
            [
             0.4444444444444444,
             "#bd3786"
            ],
            [
             0.5555555555555556,
             "#d8576b"
            ],
            [
             0.6666666666666666,
             "#ed7953"
            ],
            [
             0.7777777777777778,
             "#fb9f3a"
            ],
            [
             0.8888888888888888,
             "#fdca26"
            ],
            [
             1,
             "#f0f921"
            ]
           ],
           "sequentialminus": [
            [
             0,
             "#0d0887"
            ],
            [
             0.1111111111111111,
             "#46039f"
            ],
            [
             0.2222222222222222,
             "#7201a8"
            ],
            [
             0.3333333333333333,
             "#9c179e"
            ],
            [
             0.4444444444444444,
             "#bd3786"
            ],
            [
             0.5555555555555556,
             "#d8576b"
            ],
            [
             0.6666666666666666,
             "#ed7953"
            ],
            [
             0.7777777777777778,
             "#fb9f3a"
            ],
            [
             0.8888888888888888,
             "#fdca26"
            ],
            [
             1,
             "#f0f921"
            ]
           ]
          },
          "colorway": [
           "#636efa",
           "#EF553B",
           "#00cc96",
           "#ab63fa",
           "#FFA15A",
           "#19d3f3",
           "#FF6692",
           "#B6E880",
           "#FF97FF",
           "#FECB52"
          ],
          "font": {
           "color": "#2a3f5f"
          },
          "geo": {
           "bgcolor": "white",
           "lakecolor": "white",
           "landcolor": "#E5ECF6",
           "showlakes": true,
           "showland": true,
           "subunitcolor": "white"
          },
          "hoverlabel": {
           "align": "left"
          },
          "hovermode": "closest",
          "mapbox": {
           "style": "light"
          },
          "paper_bgcolor": "white",
          "plot_bgcolor": "#E5ECF6",
          "polar": {
           "angularaxis": {
            "gridcolor": "white",
            "linecolor": "white",
            "ticks": ""
           },
           "bgcolor": "#E5ECF6",
           "radialaxis": {
            "gridcolor": "white",
            "linecolor": "white",
            "ticks": ""
           }
          },
          "scene": {
           "xaxis": {
            "backgroundcolor": "#E5ECF6",
            "gridcolor": "white",
            "gridwidth": 2,
            "linecolor": "white",
            "showbackground": true,
            "ticks": "",
            "zerolinecolor": "white"
           },
           "yaxis": {
            "backgroundcolor": "#E5ECF6",
            "gridcolor": "white",
            "gridwidth": 2,
            "linecolor": "white",
            "showbackground": true,
            "ticks": "",
            "zerolinecolor": "white"
           },
           "zaxis": {
            "backgroundcolor": "#E5ECF6",
            "gridcolor": "white",
            "gridwidth": 2,
            "linecolor": "white",
            "showbackground": true,
            "ticks": "",
            "zerolinecolor": "white"
           }
          },
          "shapedefaults": {
           "line": {
            "color": "#2a3f5f"
           }
          },
          "ternary": {
           "aaxis": {
            "gridcolor": "white",
            "linecolor": "white",
            "ticks": ""
           },
           "baxis": {
            "gridcolor": "white",
            "linecolor": "white",
            "ticks": ""
           },
           "bgcolor": "#E5ECF6",
           "caxis": {
            "gridcolor": "white",
            "linecolor": "white",
            "ticks": ""
           }
          },
          "title": {
           "x": 0.05
          },
          "xaxis": {
           "automargin": true,
           "gridcolor": "white",
           "linecolor": "white",
           "ticks": "",
           "title": {
            "standoff": 15
           },
           "zerolinecolor": "white",
           "zerolinewidth": 2
          },
          "yaxis": {
           "automargin": true,
           "gridcolor": "white",
           "linecolor": "white",
           "ticks": "",
           "title": {
            "standoff": 15
           },
           "zerolinecolor": "white",
           "zerolinewidth": 2
          }
         }
        },
        "title": {
         "text": "Grafica de war del mejor batt vs media de war"
        },
        "xaxis": {
         "title": {
          "text": "año"
         }
        },
        "yaxis": {
         "title": {
          "text": "cantidad"
         }
        }
       }
      },
      "text/html": [
       "<div>                        <script type=\"text/javascript\">window.PlotlyConfig = {MathJaxConfig: 'local'};</script>\n",
       "        <script charset=\"utf-8\" src=\"https://cdn.plot.ly/plotly-3.0.1.min.js\"></script>                <div id=\"3e4080b2-554a-4e6d-9c4f-dfe574349bb6\" class=\"plotly-graph-div\" style=\"height:100%; width:100%;\"></div>            <script type=\"text/javascript\">                window.PLOTLYENV=window.PLOTLYENV || {};                                if (document.getElementById(\"3e4080b2-554a-4e6d-9c4f-dfe574349bb6\")) {                    Plotly.newPlot(                        \"3e4080b2-554a-4e6d-9c4f-dfe574349bb6\",                        [{\"line\":{\"color\":\"green\"},\"mode\":\"lines+markers\",\"name\":\"war\",\"x\":[1914,1915,1916,1917,1918,1919,1920,1921,1922,1923,1924,1925,1926,1927,1928,1929,1930,1931,1932,1933,1934,1935],\"y\":[1.4,3.5,5.8,6.5,7.2,7.3,7.6,8.3,10.2,9.3,9.0,11.5,9.2,5.2,6.6,8.0,2.9,3.5,5.6,2.6,-0.1,131.0],\"type\":\"scatter\"},{\"line\":{\"color\":\"red\"},\"mode\":\"lines+markers\",\"name\":\"media\",\"x\":[1914,1915,1916,1917,1918,1919,1920,1921,1922,1923,1924,1925,1926,1927,1928,1929,1930,1931,1932,1933,1934,1935],\"y\":[1.4,3.5,5.8,6.5,7.2,7.3,7.6,8.3,10.2,9.3,9.0,11.5,9.2,5.2,6.6,8.0,2.9,3.5,5.6,2.6,-0.1,131.0],\"type\":\"scatter\"}],                        {\"template\":{\"data\":{\"histogram2dcontour\":[{\"type\":\"histogram2dcontour\",\"colorbar\":{\"outlinewidth\":0,\"ticks\":\"\"},\"colorscale\":[[0.0,\"#0d0887\"],[0.1111111111111111,\"#46039f\"],[0.2222222222222222,\"#7201a8\"],[0.3333333333333333,\"#9c179e\"],[0.4444444444444444,\"#bd3786\"],[0.5555555555555556,\"#d8576b\"],[0.6666666666666666,\"#ed7953\"],[0.7777777777777778,\"#fb9f3a\"],[0.8888888888888888,\"#fdca26\"],[1.0,\"#f0f921\"]]}],\"choropleth\":[{\"type\":\"choropleth\",\"colorbar\":{\"outlinewidth\":0,\"ticks\":\"\"}}],\"histogram2d\":[{\"type\":\"histogram2d\",\"colorbar\":{\"outlinewidth\":0,\"ticks\":\"\"},\"colorscale\":[[0.0,\"#0d0887\"],[0.1111111111111111,\"#46039f\"],[0.2222222222222222,\"#7201a8\"],[0.3333333333333333,\"#9c179e\"],[0.4444444444444444,\"#bd3786\"],[0.5555555555555556,\"#d8576b\"],[0.6666666666666666,\"#ed7953\"],[0.7777777777777778,\"#fb9f3a\"],[0.8888888888888888,\"#fdca26\"],[1.0,\"#f0f921\"]]}],\"heatmap\":[{\"type\":\"heatmap\",\"colorbar\":{\"outlinewidth\":0,\"ticks\":\"\"},\"colorscale\":[[0.0,\"#0d0887\"],[0.1111111111111111,\"#46039f\"],[0.2222222222222222,\"#7201a8\"],[0.3333333333333333,\"#9c179e\"],[0.4444444444444444,\"#bd3786\"],[0.5555555555555556,\"#d8576b\"],[0.6666666666666666,\"#ed7953\"],[0.7777777777777778,\"#fb9f3a\"],[0.8888888888888888,\"#fdca26\"],[1.0,\"#f0f921\"]]}],\"contourcarpet\":[{\"type\":\"contourcarpet\",\"colorbar\":{\"outlinewidth\":0,\"ticks\":\"\"}}],\"contour\":[{\"type\":\"contour\",\"colorbar\":{\"outlinewidth\":0,\"ticks\":\"\"},\"colorscale\":[[0.0,\"#0d0887\"],[0.1111111111111111,\"#46039f\"],[0.2222222222222222,\"#7201a8\"],[0.3333333333333333,\"#9c179e\"],[0.4444444444444444,\"#bd3786\"],[0.5555555555555556,\"#d8576b\"],[0.6666666666666666,\"#ed7953\"],[0.7777777777777778,\"#fb9f3a\"],[0.8888888888888888,\"#fdca26\"],[1.0,\"#f0f921\"]]}],\"surface\":[{\"type\":\"surface\",\"colorbar\":{\"outlinewidth\":0,\"ticks\":\"\"},\"colorscale\":[[0.0,\"#0d0887\"],[0.1111111111111111,\"#46039f\"],[0.2222222222222222,\"#7201a8\"],[0.3333333333333333,\"#9c179e\"],[0.4444444444444444,\"#bd3786\"],[0.5555555555555556,\"#d8576b\"],[0.6666666666666666,\"#ed7953\"],[0.7777777777777778,\"#fb9f3a\"],[0.8888888888888888,\"#fdca26\"],[1.0,\"#f0f921\"]]}],\"mesh3d\":[{\"type\":\"mesh3d\",\"colorbar\":{\"outlinewidth\":0,\"ticks\":\"\"}}],\"scatter\":[{\"fillpattern\":{\"fillmode\":\"overlay\",\"size\":10,\"solidity\":0.2},\"type\":\"scatter\"}],\"parcoords\":[{\"type\":\"parcoords\",\"line\":{\"colorbar\":{\"outlinewidth\":0,\"ticks\":\"\"}}}],\"scatterpolargl\":[{\"type\":\"scatterpolargl\",\"marker\":{\"colorbar\":{\"outlinewidth\":0,\"ticks\":\"\"}}}],\"bar\":[{\"error_x\":{\"color\":\"#2a3f5f\"},\"error_y\":{\"color\":\"#2a3f5f\"},\"marker\":{\"line\":{\"color\":\"#E5ECF6\",\"width\":0.5},\"pattern\":{\"fillmode\":\"overlay\",\"size\":10,\"solidity\":0.2}},\"type\":\"bar\"}],\"scattergeo\":[{\"type\":\"scattergeo\",\"marker\":{\"colorbar\":{\"outlinewidth\":0,\"ticks\":\"\"}}}],\"scatterpolar\":[{\"type\":\"scatterpolar\",\"marker\":{\"colorbar\":{\"outlinewidth\":0,\"ticks\":\"\"}}}],\"histogram\":[{\"marker\":{\"pattern\":{\"fillmode\":\"overlay\",\"size\":10,\"solidity\":0.2}},\"type\":\"histogram\"}],\"scattergl\":[{\"type\":\"scattergl\",\"marker\":{\"colorbar\":{\"outlinewidth\":0,\"ticks\":\"\"}}}],\"scatter3d\":[{\"type\":\"scatter3d\",\"line\":{\"colorbar\":{\"outlinewidth\":0,\"ticks\":\"\"}},\"marker\":{\"colorbar\":{\"outlinewidth\":0,\"ticks\":\"\"}}}],\"scattermap\":[{\"type\":\"scattermap\",\"marker\":{\"colorbar\":{\"outlinewidth\":0,\"ticks\":\"\"}}}],\"scattermapbox\":[{\"type\":\"scattermapbox\",\"marker\":{\"colorbar\":{\"outlinewidth\":0,\"ticks\":\"\"}}}],\"scatterternary\":[{\"type\":\"scatterternary\",\"marker\":{\"colorbar\":{\"outlinewidth\":0,\"ticks\":\"\"}}}],\"scattercarpet\":[{\"type\":\"scattercarpet\",\"marker\":{\"colorbar\":{\"outlinewidth\":0,\"ticks\":\"\"}}}],\"carpet\":[{\"aaxis\":{\"endlinecolor\":\"#2a3f5f\",\"gridcolor\":\"white\",\"linecolor\":\"white\",\"minorgridcolor\":\"white\",\"startlinecolor\":\"#2a3f5f\"},\"baxis\":{\"endlinecolor\":\"#2a3f5f\",\"gridcolor\":\"white\",\"linecolor\":\"white\",\"minorgridcolor\":\"white\",\"startlinecolor\":\"#2a3f5f\"},\"type\":\"carpet\"}],\"table\":[{\"cells\":{\"fill\":{\"color\":\"#EBF0F8\"},\"line\":{\"color\":\"white\"}},\"header\":{\"fill\":{\"color\":\"#C8D4E3\"},\"line\":{\"color\":\"white\"}},\"type\":\"table\"}],\"barpolar\":[{\"marker\":{\"line\":{\"color\":\"#E5ECF6\",\"width\":0.5},\"pattern\":{\"fillmode\":\"overlay\",\"size\":10,\"solidity\":0.2}},\"type\":\"barpolar\"}],\"pie\":[{\"automargin\":true,\"type\":\"pie\"}]},\"layout\":{\"autotypenumbers\":\"strict\",\"colorway\":[\"#636efa\",\"#EF553B\",\"#00cc96\",\"#ab63fa\",\"#FFA15A\",\"#19d3f3\",\"#FF6692\",\"#B6E880\",\"#FF97FF\",\"#FECB52\"],\"font\":{\"color\":\"#2a3f5f\"},\"hovermode\":\"closest\",\"hoverlabel\":{\"align\":\"left\"},\"paper_bgcolor\":\"white\",\"plot_bgcolor\":\"#E5ECF6\",\"polar\":{\"bgcolor\":\"#E5ECF6\",\"angularaxis\":{\"gridcolor\":\"white\",\"linecolor\":\"white\",\"ticks\":\"\"},\"radialaxis\":{\"gridcolor\":\"white\",\"linecolor\":\"white\",\"ticks\":\"\"}},\"ternary\":{\"bgcolor\":\"#E5ECF6\",\"aaxis\":{\"gridcolor\":\"white\",\"linecolor\":\"white\",\"ticks\":\"\"},\"baxis\":{\"gridcolor\":\"white\",\"linecolor\":\"white\",\"ticks\":\"\"},\"caxis\":{\"gridcolor\":\"white\",\"linecolor\":\"white\",\"ticks\":\"\"}},\"coloraxis\":{\"colorbar\":{\"outlinewidth\":0,\"ticks\":\"\"}},\"colorscale\":{\"sequential\":[[0.0,\"#0d0887\"],[0.1111111111111111,\"#46039f\"],[0.2222222222222222,\"#7201a8\"],[0.3333333333333333,\"#9c179e\"],[0.4444444444444444,\"#bd3786\"],[0.5555555555555556,\"#d8576b\"],[0.6666666666666666,\"#ed7953\"],[0.7777777777777778,\"#fb9f3a\"],[0.8888888888888888,\"#fdca26\"],[1.0,\"#f0f921\"]],\"sequentialminus\":[[0.0,\"#0d0887\"],[0.1111111111111111,\"#46039f\"],[0.2222222222222222,\"#7201a8\"],[0.3333333333333333,\"#9c179e\"],[0.4444444444444444,\"#bd3786\"],[0.5555555555555556,\"#d8576b\"],[0.6666666666666666,\"#ed7953\"],[0.7777777777777778,\"#fb9f3a\"],[0.8888888888888888,\"#fdca26\"],[1.0,\"#f0f921\"]],\"diverging\":[[0,\"#8e0152\"],[0.1,\"#c51b7d\"],[0.2,\"#de77ae\"],[0.3,\"#f1b6da\"],[0.4,\"#fde0ef\"],[0.5,\"#f7f7f7\"],[0.6,\"#e6f5d0\"],[0.7,\"#b8e186\"],[0.8,\"#7fbc41\"],[0.9,\"#4d9221\"],[1,\"#276419\"]]},\"xaxis\":{\"gridcolor\":\"white\",\"linecolor\":\"white\",\"ticks\":\"\",\"title\":{\"standoff\":15},\"zerolinecolor\":\"white\",\"automargin\":true,\"zerolinewidth\":2},\"yaxis\":{\"gridcolor\":\"white\",\"linecolor\":\"white\",\"ticks\":\"\",\"title\":{\"standoff\":15},\"zerolinecolor\":\"white\",\"automargin\":true,\"zerolinewidth\":2},\"scene\":{\"xaxis\":{\"backgroundcolor\":\"#E5ECF6\",\"gridcolor\":\"white\",\"linecolor\":\"white\",\"showbackground\":true,\"ticks\":\"\",\"zerolinecolor\":\"white\",\"gridwidth\":2},\"yaxis\":{\"backgroundcolor\":\"#E5ECF6\",\"gridcolor\":\"white\",\"linecolor\":\"white\",\"showbackground\":true,\"ticks\":\"\",\"zerolinecolor\":\"white\",\"gridwidth\":2},\"zaxis\":{\"backgroundcolor\":\"#E5ECF6\",\"gridcolor\":\"white\",\"linecolor\":\"white\",\"showbackground\":true,\"ticks\":\"\",\"zerolinecolor\":\"white\",\"gridwidth\":2}},\"shapedefaults\":{\"line\":{\"color\":\"#2a3f5f\"}},\"annotationdefaults\":{\"arrowcolor\":\"#2a3f5f\",\"arrowhead\":0,\"arrowwidth\":1},\"geo\":{\"bgcolor\":\"white\",\"landcolor\":\"#E5ECF6\",\"subunitcolor\":\"white\",\"showland\":true,\"showlakes\":true,\"lakecolor\":\"white\"},\"title\":{\"x\":0.05},\"mapbox\":{\"style\":\"light\"}}},\"title\":{\"text\":\"Grafica de war del mejor batt vs media de war\"},\"xaxis\":{\"title\":{\"text\":\"a\\u00f1o\"}},\"yaxis\":{\"title\":{\"text\":\"cantidad\"}},\"legend\":{\"title\":{\"text\":\"legenda\"}}},                        {\"responsive\": true}                    )                };            </script>        </div>"
      ],
      "text/plain": [
       "Figure({\n",
       "    'data': [{'line': {'color': 'green'},\n",
       "              'mode': 'lines+markers',\n",
       "              'name': 'war',\n",
       "              'type': 'scatter',\n",
       "              'x': [1914, 1915, 1916, 1917, 1918, 1919, 1920, 1921, 1922, 1923,\n",
       "                    1924, 1925, 1926, 1927, 1928, 1929, 1930, 1931, 1932, 1933,\n",
       "                    1934, 1935],\n",
       "              'y': [1.4, 3.5, 5.8, 6.5, 7.2, 7.3, 7.6, 8.3, 10.2, 9.3, 9.0, 11.5,\n",
       "                    9.2, 5.2, 6.6, 8.0, 2.9, 3.5, 5.6, 2.6, -0.1, 131.0]},\n",
       "             {'line': {'color': 'red'},\n",
       "              'mode': 'lines+markers',\n",
       "              'name': 'media',\n",
       "              'type': 'scatter',\n",
       "              'x': [1914, 1915, 1916, 1917, 1918, 1919, 1920, 1921, 1922, 1923,\n",
       "                    1924, 1925, 1926, 1927, 1928, 1929, 1930, 1931, 1932, 1933,\n",
       "                    1934, 1935],\n",
       "              'y': [1.4, 3.5, 5.8, 6.5, 7.2, 7.3, 7.6, 8.3, 10.2, 9.3, 9.0, 11.5,\n",
       "                    9.2, 5.2, 6.6, 8.0, 2.9, 3.5, 5.6, 2.6, -0.1, 131.0]}],\n",
       "    'layout': {'legend': {'title': {'text': 'legenda'}},\n",
       "               'template': '...',\n",
       "               'title': {'text': 'Grafica de war del mejor batt vs media de war'},\n",
       "               'xaxis': {'title': {'text': 'año'}},\n",
       "               'yaxis': {'title': {'text': 'cantidad'}}}\n",
       "})"
      ]
     },
     "execution_count": 5,
     "metadata": {},
     "output_type": "execute_result"
    }
   ],
   "source": [
    "\n",
    "ml.doble_y_protly(best_seasons_b[0],[war_seasons_b[int(ranking_bat.index.to_list()[0])][:len(best_seasons_b[0])], war_seasons_b[int(ranking_bat.index.to_list()[0])][:len(best_seasons_b[0])]], ['war', 'media'],['green','red'],'Grafica de war del mejor batt vs media de war','año', 'cantidad','legenda')"
   ]
  },
  {
   "cell_type": "code",
   "execution_count": null,
   "id": "22fc58ed",
   "metadata": {},
   "outputs": [
    {
     "name": "stdout",
     "output_type": "stream",
     "text": [
      "85\n"
     ]
    }
   ],
   "source": [
    "ml.multi_y_protly([ year for year in range(best_first_b,best_last_b +1)],[])"
   ]
  }
 ],
 "metadata": {
  "kernelspec": {
   "display_name": "venv",
   "language": "python",
   "name": "python3"
  },
  "language_info": {
   "codemirror_mode": {
    "name": "ipython",
    "version": 3
   },
   "file_extension": ".py",
   "mimetype": "text/x-python",
   "name": "python",
   "nbconvert_exporter": "python",
   "pygments_lexer": "ipython3",
   "version": "3.12.3"
  }
 },
 "nbformat": 4,
 "nbformat_minor": 5
}
