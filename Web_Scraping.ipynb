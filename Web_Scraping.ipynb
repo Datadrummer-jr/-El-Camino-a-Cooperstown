{
  "cells": [
    {
      "cell_type": "markdown",
      "metadata": {
        "id": "v8dYDFWrBxgT"
      },
      "source": []
    },
    {
      "cell_type": "code",
      "execution_count": 229,
      "metadata": {
        "colab": {
          "base_uri": "https://localhost:8080/"
        },
        "id": "VWcutBYpBzPH",
        "outputId": "42b32c59-13f1-402a-ec1b-90ea5fd375bf"
      },
      "outputs": [
        {
          "name": "stdout",
          "output_type": "stream",
          "text": [
            "(Reading database ... \r(Reading database ... 5%\r(Reading database ... 10%\r(Reading database ... 15%\r(Reading database ... 20%\r(Reading database ... 25%\r(Reading database ... 30%\r(Reading database ... 35%\r(Reading database ... 40%\r(Reading database ... 45%\r(Reading database ... 50%\r(Reading database ... 55%\r(Reading database ... 60%\r(Reading database ... 65%\r(Reading database ... 70%\r(Reading database ... 75%\r(Reading database ... 80%\r(Reading database ... 85%\r(Reading database ... 90%\r(Reading database ... 95%\r(Reading database ... 100%\r(Reading database ... 126267 files and directories currently installed.)\n",
            "Preparing to unpack google-chrome-stable_current_amd64.deb ...\n",
            "Unpacking google-chrome-stable (137.0.7151.68-1) over (137.0.7151.68-1) ...\n",
            "Setting up google-chrome-stable (137.0.7151.68-1) ...\n",
            "Processing triggers for mailcap (3.70+nmu1ubuntu1) ...\n",
            "Processing triggers for man-db (2.10.2-1) ...\n",
            "Reading package lists... Done\n",
            "Building dependency tree... Done\n",
            "Reading state information... Done\n",
            "0 upgraded, 0 newly installed, 0 to remove and 35 not upgraded.\n",
            "Google Chrome 137.0.7151.68 \n"
          ]
        }
      ],
      "source": [
        "!wget -q https://dl.google.com/linux/direct/google-chrome-stable_current_amd64.deb\n",
        "!dpkg -i google-chrome-stable_current_amd64.deb\n",
        "!apt-get -f install -y\n",
        "!google-chrome --version\n"
      ]
    },
    {
      "cell_type": "code",
      "execution_count": 230,
      "metadata": {
        "colab": {
          "base_uri": "https://localhost:8080/"
        },
        "id": "gVF-kPxvB7cI",
        "outputId": "d86ccb70-43d3-4d0f-d048-cf8330a67a32"
      },
      "outputs": [
        {
          "name": "stdout",
          "output_type": "stream",
          "text": [
            "Version: 137.0.7151.68-1\n",
            "chromedriver-linux64.zip: Zip archive data, at least v2.0 to extract, compression method=deflate\n",
            " inflated: chromedriver-linux64/LICENSE.chromedriver\n",
            " inflated: chromedriver-linux64/THIRD_PARTY_NOTICES.chromedriver\n",
            " inflated: chromedriver-linux64/chromedriver\n",
            "mv: cannot stat 'chromedriver-linux64/chromedriver': No such file or directory\n",
            "ChromeDriver 137.0.7151.55 (254bc711794d7ad269495f3d419a209935b78cad-refs/branch-heads/7151@{#1757})\n"
          ]
        }
      ],
      "source": [
        "!dpkg -s google-chrome-stable | grep Version\n",
        "!wget -q https://mirrors.huaweicloud.com/chromedriver/137.0.7151.68/chromedriver-linux64.zip\n",
        "!file chromedriver-linux64.zip\n",
        "!jar xvf chromedriver-linux64.zip\n",
        "!chmod +x chromedriver-linux64/chromedriver\n",
        "!sudo mv chromedriver-linux64/chromedriver /usr/bin/chromedriver\n",
        "!sudo chmod +x /usr/bin/chromedriver\n",
        "!mv chromedriver-linux64/chromedriver /usr/bin/chromedriver\n",
        "!chromedriver --version\n"
      ]
    },
    {
      "cell_type": "code",
      "execution_count": 231,
      "metadata": {
        "colab": {
          "base_uri": "https://localhost:8080/"
        },
        "id": "jwIyq99fLMUx",
        "outputId": "4ce9783d-7164-462e-ddce-3ccffda1608c"
      },
      "outputs": [
        {
          "name": "stdout",
          "output_type": "stream",
          "text": [
            "Requirement already satisfied: selenium in /usr/local/lib/python3.11/dist-packages (4.33.0)\n",
            "Requirement already satisfied: urllib3~=2.4.0 in /usr/local/lib/python3.11/dist-packages (from urllib3[socks]~=2.4.0->selenium) (2.4.0)\n",
            "Requirement already satisfied: trio~=0.30.0 in /usr/local/lib/python3.11/dist-packages (from selenium) (0.30.0)\n",
            "Requirement already satisfied: trio-websocket~=0.12.2 in /usr/local/lib/python3.11/dist-packages (from selenium) (0.12.2)\n",
            "Requirement already satisfied: certifi>=2025.4.26 in /usr/local/lib/python3.11/dist-packages (from selenium) (2025.4.26)\n",
            "Requirement already satisfied: typing_extensions~=4.13.2 in /usr/local/lib/python3.11/dist-packages (from selenium) (4.13.2)\n",
            "Requirement already satisfied: websocket-client~=1.8.0 in /usr/local/lib/python3.11/dist-packages (from selenium) (1.8.0)\n",
            "Requirement already satisfied: attrs>=23.2.0 in /usr/local/lib/python3.11/dist-packages (from trio~=0.30.0->selenium) (25.3.0)\n",
            "Requirement already satisfied: sortedcontainers in /usr/local/lib/python3.11/dist-packages (from trio~=0.30.0->selenium) (2.4.0)\n",
            "Requirement already satisfied: idna in /usr/local/lib/python3.11/dist-packages (from trio~=0.30.0->selenium) (3.10)\n",
            "Requirement already satisfied: outcome in /usr/local/lib/python3.11/dist-packages (from trio~=0.30.0->selenium) (1.3.0.post0)\n",
            "Requirement already satisfied: sniffio>=1.3.0 in /usr/local/lib/python3.11/dist-packages (from trio~=0.30.0->selenium) (1.3.1)\n",
            "Requirement already satisfied: wsproto>=0.14 in /usr/local/lib/python3.11/dist-packages (from trio-websocket~=0.12.2->selenium) (1.2.0)\n",
            "Requirement already satisfied: pysocks!=1.5.7,<2.0,>=1.5.6 in /usr/local/lib/python3.11/dist-packages (from urllib3[socks]~=2.4.0->selenium) (1.7.1)\n",
            "Requirement already satisfied: h11<1,>=0.9.0 in /usr/local/lib/python3.11/dist-packages (from wsproto>=0.14->trio-websocket~=0.12.2->selenium) (0.16.0)\n"
          ]
        }
      ],
      "source": [
        "!pip install selenium"
      ]
    },
    {
      "cell_type": "code",
      "execution_count": 232,
      "metadata": {
        "id": "ZOgvkge2RsAV"
      },
      "outputs": [],
      "source": [
        "def you_type(cadena: str):\n",
        "  n = len(cadena)\n",
        "  caracteres = [l for l in cadena]\n",
        "  if caracteres[0] == \".\" and cadena[1:n].isdigit():\n",
        "    return float(cadena)\n",
        "  if cadena.isdigit():\n",
        "    return int(cadena)\n",
        "  else:\n",
        "    for i in cadena:\n",
        "      if \".\" in caracteres and i.isdigit():\n",
        "        return float(cadena)\n",
        "      else:\n",
        "        return str(cadena)"
      ]
    },
    {
      "cell_type": "code",
      "execution_count": 233,
      "metadata": {
        "id": "gCR0onPgApGP"
      },
      "outputs": [],
      "source": [
        "def ordenar(x, listax, listay,multi_lista):\n",
        "  indice1 = listax.index(x)\n",
        "  indice2 = listay.index(x)\n",
        "  for lista in multi_lista:\n",
        "    lista[indice1] , lista[indice2] = lista[indice2] , lista[indice1]\n",
        "  return\n",
        "\n",
        "def multi_orden(lista_independiente, listas_dependientes):\n",
        "  for i in lista_independiente:\n",
        "    ordenar(i,lista_independiente,listas_dependientes[0], listas_dependientes)"
      ]
    },
    {
      "cell_type": "code",
      "execution_count": 234,
      "metadata": {
        "id": "PSRpfKMID4Wn"
      },
      "outputs": [],
      "source": [
        "def del_diferencia(listax, listay, listaz):\n",
        "  indices = []\n",
        "  for i in listay:\n",
        "    if i not in listax:\n",
        "      indices.append(listay.index(i))\n",
        "\n",
        "  for a,elemento in zip(indices, listaz):\n",
        "    del elemento[a]\n",
        "\n",
        "\n"
      ]
    },
    {
      "cell_type": "code",
      "execution_count": 235,
      "metadata": {
        "colab": {
          "base_uri": "https://localhost:8080/"
        },
        "id": "RbzNapaHD3Oi",
        "outputId": "de4a95b0-8eff-401a-cd10-6f3f73b2d9af"
      },
      "outputs": [
        {
          "name": "stdout",
          "output_type": "stream",
          "text": [
            "['cuba', 'españa', 'casa']\n",
            "['casa', 'cuba', 'españa']\n"
          ]
        }
      ],
      "source": [
        "lista = [\"casa\",\"cuba\",\"españa\"]\n",
        "lista2 = [\"cuba\",\"españa\",\"casa\",\"Angola\",\"Colombia\"]\n",
        "lista3 = [53,34,54,0,65]\n",
        "\n",
        "for v in range(2):\n",
        "  del_diferencia(lista, lista2, [lista2,lista3])\n",
        "\n",
        "print(lista2)\n",
        "multi_orden(lista, [lista2,lista3])\n",
        "\n",
        "print(lista2)"
      ]
    },
    {
      "cell_type": "code",
      "execution_count": null,
      "metadata": {
        "colab": {
          "base_uri": "https://localhost:8080/"
        },
        "id": "JQv3hTgllbgq",
        "outputId": "bb87f9ac-88e0-4dda-f5e0-7ba2b5e650b3"
      },
      "outputs": [
        {
          "name": "stdout",
          "output_type": "stream",
          "text": [
            "[None, None, '86.8%', '99.7%', '82.5%', '95.1%', '79.7%', None, '76.1%', '100.0%', '76.3%', None, '75.0%', '75.0%', '87.5%', '81.3%', '75.0%', '77.9%', '99.7%', '81.3%', '81.3%', '76.6%', '75.0%', '85.4%', '85.4%', '76.7%', '100.0%', '100.0%', '92.9%', '79.9%', '97.2%', '87.5%', '89.8%', '81.3%', '86.2%', '86.0%', '76.0%', '100.0%', None, '99.3%', '83.0%', '82.7%', '97.3%', '91.1%', '82.9%', '100.0%', '91.9%', '100.0%', '97.2%', '83.7%', '100.0%', '93.8%', '93.8%', '87.5%', '86.4%', '93.8%', '90.0%', '79.7%', None, '77.9%', '93.8%', '87.5%', '83.3%', '94.8%', '76.4%', '83.3%', '85.8%', None, '75.0%', '81.3%', '81.3%', '97.6%', '98.5%', None, None, None, None, None, None, None, None, None, None, None, '76.9%', None, None, None, None, None, None, '91.9%', '76.2%', '83.2%', '85.2%', '78.0%', '85.3%', '91.7%', None, '82.1%', None, '84.5%', None, '79.6%', None, '77.2%', None, '98.2%', None, None, '98.8%', None, None, '77.5%', None, None, None, None, '81.6%', None, None, '80.3%', None, None, None, None, None, None, None, None, '96.5%', None, '95.6%', None, None, '93.6%', '81.2%', None, None, '98.8%', '90.5%', '75.4%', None, '77.2%', None, '81.8%', '92.6%', None, '96.4%', None, '94.6%', '82.4%', None, '76.3%', '85.7%', None, None, '81.4%', '79.7%', None, None, '83.8%', '84.6%', '78.4%', None, '83.1%', None, None, None, '83.7%', '92.0%', '97.8%', None, None, '89.2%', None, '84.0%', None, '88.3%', None, '86.5%', None, None, '94.7%', None, None, None, '79.4%', '83.8%', None, None, None, None, None, None, None, None, '78.6%', None, '86.9%', None, None, None, None, '75.4%', None, None, None, '77.8%', '88.2%', None, None, None, None, None, '83.2%', None, '85.6%', None, None, None, '86.9%', None, '76.0%', None, None, None, None, None, None, None, None, None, '77.3%', None, None, None, '79.4%', None, None, '93.2%', None, None, '84.8%', None, '86.9%', None, None, '93.4%', None, '94.0%', None, None, None, None, None, None, None, None, None, None, '93.8%', None, '77.5%', None, None, None, None, None, None, '78.8%', '85.0%', None, '88.8%', '77.7%', '86.5%', None, '81.7%', '80.2%', '82.9%', '77.4%', None, None, None, '79.2%', None, '75.4%', None, None, '86.8%', '83.3%', '79.2%', '87.2%', None, '85.0%', None, '77.7%', '76.9%', '79.5%', '84.5%', '76.4%', '87.0%', None, None, None, None, None, None, None, None, None, None, None, None, None, None, None, None, None, None, None, None, None, None, '78.1%', None, '77.7%', None, None, None, None, '75.5%', None, '85.8%', None, '80.9%', None, None, None, None, '83.6%', None, None, '82.1%', None, '76.1%', '98.2%', '83.6%', '90.7%', '95.1%', '95.1%']\n"
          ]
        }
      ],
      "source": [
        "\n",
        "\n",
        "names = []\n",
        "porcents = []\n",
        "links = []\n",
        "categories =[]\n",
        "\n",
        "\n",
        "from selenium import webdriver\n",
        "from selenium.webdriver.chrome.service import Service\n",
        "from selenium.webdriver.chrome.options import Options\n",
        "from selenium.webdriver.common.by import By\n",
        "from selenium.webdriver.support.ui import WebDriverWait\n",
        "from selenium.webdriver.support import expected_conditions as EC\n",
        "chrome_options = Options()\n",
        "chrome_options.add_argument(\"--headless\")\n",
        "chrome_options.add_argument(\"--no-sandbox\")\n",
        "chrome_options.add_argument(\"--disable-dev-shm-usage\")\n",
        "\n",
        "chrome_options.binary_location = \"/usr/bin/google-chrome\"\n",
        "\n",
        "service = Service(\"/usr/bin/chromedriver\")\n",
        "\n",
        "driver = webdriver.Chrome(service=service, options=chrome_options)\n",
        "try:\n",
        "        driver.get(f\"https://www.baseball-reference.com/awards/hof.shtml\")\n",
        "        wait = WebDriverWait(driver, 45)\n",
        "        lista = wait.until(EC.presence_of_all_elements_located((By.XPATH, \"//tr/td[@data-stat='player']/a\")))\n",
        "\n",
        "        for player_link in lista:\n",
        "            links.append(player_link.get_attribute(\"href\"))\n",
        "\n",
        "\n",
        "\n",
        "        player = driver.find_elements(By.XPATH, \"//tr/td[@data-stat='player']/a\")\n",
        "        for name in player:\n",
        "            names.append(you_type(name.text))\n",
        "\n",
        "        elementos = driver.find_elements(By.XPATH, '//tr/td[@data-stat=\"category_hof\"]')\n",
        "\n",
        "        for elemento in elementos:\n",
        "          categories.append(elemento.text)\n",
        "\n",
        "\n",
        "        porcentajes = driver.find_elements(By.XPATH, '//td[@data-stat=\"votes_pct\"]')\n",
        "\n",
        "\n",
        "        for td in porcentajes:\n",
        "          porcents.append(td.text)\n",
        "\n",
        "\n",
        "except Exception as e:\n",
        "  print(f\"Error al encontrar los elementos: {e}\")\n",
        "driver.quit()\n",
        "\n",
        "\n",
        "\n",
        "porcents = list(map(lambda x: None if x == '' else x, porcents))\n"
      ]
    },
    {
      "cell_type": "code",
      "execution_count": null,
      "metadata": {
        "id": "ZnC75dqOXmzC"
      },
      "outputs": [],
      "source": [
        "names_batting = []\n",
        "war = []\n",
        "ab = []\n",
        "h = []\n",
        "hr = []\n",
        "ba = []\n",
        "rbi = []\n",
        "experiencia = []\n",
        "year_max = []\n",
        "inducciones = []\n",
        "\n",
        "\n",
        "from selenium import webdriver\n",
        "from selenium.webdriver.chrome.service import Service\n",
        "from selenium.webdriver.chrome.options import Options\n",
        "from selenium.webdriver.common.by import By\n",
        "from selenium.webdriver.support.ui import WebDriverWait\n",
        "from selenium.webdriver.support import expected_conditions as EC\n",
        "chrome_options = Options()\n",
        "chrome_options.add_argument(\"--headless\")\n",
        "chrome_options.add_argument(\"--no-sandbox\")\n",
        "chrome_options.add_argument(\"--disable-dev-shm-usage\")\n",
        "\n",
        "\n",
        "chrome_options.binary_location = \"/usr/bin/google-chrome\"\n",
        "\n",
        "\n",
        "service = Service(\"/usr/bin/chromedriver\")\n",
        "\n",
        "\\\n",
        "driver = webdriver.Chrome(service=service, options=chrome_options)\n",
        "try:\n",
        "        driver.get(f\"https://www.baseball-reference.com/awards/hof_batting.shtml\")\n",
        "        wait = WebDriverWait(driver, 10)\n",
        "\n",
        "        player = driver.find_elements(By.XPATH, \"//tr/td[@data-stat='player']/a\")\n",
        "        for name in player:\n",
        "            names_batting.append(you_type(name.text))\n",
        "\n",
        "        wars = driver.find_elements(By.XPATH, \"//tr/td[@data-stat='WAR_bat']\")\n",
        "        for w in wars:\n",
        "          war.append(you_type(w.text))\n",
        "\n",
        "        avg = driver.find_elements(By.XPATH, \"//tr/td[@data-stat='batting_avg']\")\n",
        "        for av in avg:\n",
        "          ba.append(you_type(av.text))\n",
        "\n",
        "        rbis = driver.find_elements(By.XPATH, \"//tr/td[@data-stat='RBI']\")\n",
        "        for r in rbis:\n",
        "          rbi.append(you_type(r.text))\n",
        "\n",
        "        hrs = driver.find_elements(By.XPATH, \"//tr/td[@data-stat='HR']\")\n",
        "        for r in hrs:\n",
        "          hr.append(you_type(r.text))\n",
        "\n",
        "        hs =  driver.find_elements(By.XPATH, \"//tr/td[@data-stat='H']\")\n",
        "        for j in hs:\n",
        "          h.append(you_type(j.text))\n",
        "\n",
        "        time = driver.find_elements(By.XPATH, \"//tr/td[@data-stat='experience']\")\n",
        "        for t in time:\n",
        "          experiencia.append(you_type(t.text))\n",
        "\n",
        "        retiros = driver.find_elements(By.XPATH, \"//tr/td[@data-stat='year_max']\")\n",
        "        for last in retiros:\n",
        "          year_max.append(you_type(last.text))\n",
        "\n",
        "        induction = driver.find_elements(By.XPATH, \"//tr/td[@data-stat='year_induction']\")\n",
        "        del induction[-1]\n",
        "        for ind in induction:\n",
        "          inducciones.append(you_type(ind.text))\n",
        "\n",
        "        abs = driver.find_elements(By.XPATH, \"//tr/td[@data-stat='AB']\")\n",
        "        for bs in abs:\n",
        "          ab.append(you_type(bs.text))\n",
        "\n",
        "\n",
        "except Exception as e:\n",
        "  print(f\"Error al encontrar los elementos: {e}\")\n",
        "driver.quit()\n",
        "\n",
        "\n",
        "del war[-1]\n",
        "del ba[-1]\n",
        "del ab[-1]\n",
        "del rbi[-1]\n",
        "del hr[-1]\n",
        "del h[-1]\n",
        "del year_max[-1]\n",
        "del experiencia[-1]\n"
      ]
    },
    {
      "cell_type": "code",
      "execution_count": 241,
      "metadata": {
        "colab": {
          "base_uri": "https://localhost:8080/"
        },
        "id": "1U21q0eF6OLI",
        "outputId": "9559b2e1-d76b-4681-8e80-04a55ac8bbaa"
      },
      "outputs": [
        {
          "name": "stdout",
          "output_type": "stream",
          "text": [
            "[6, 8, 48, 7, 47, 41, 42, 11, 14, 33, 34, 12, 18, 33, 41, 6, 64, 28, 6, 6, 28, 7, 8, 19, 6, 37, 18, 30, 6, 6, 41, 33, 61, 58, 25, 41, 12, 6, 32, 6, 11, 25, 32, 35, 37, 30, 69, 1, 8, 10, 9, 37, 35, 45, 39, 79, 67, 41, 45, 40, 11, 62, 30, 43, 89, 14, 49, 6, 42, 8, 32, 4, 39, 35, 15, 39, 49, 6, 17, 42, 31, 6, 37, 7, 7, 53, 7, 59, 32, 6, 10, 73, 0, 7, 6, 26, 6, 29, 59, 30, 14, 9, 6, 32, 30, 6, 7, 6, 34, 33, 6, 60, 104, 44, 14, 20, 11, 6, 28, 47, 81, 59, 8, 46, 5, 31, 4, 48, 8, 17, 6, 46, 8, 27, 6, 39, 6, 9, 6, 68, 39, 6, 71, 29, 26, 63, 41, 52, 9, 20, 36, 6, 41, 21, 8, 41, 52, 18, 24, 40, 48, 39, 30, 9, 41, 59, 6, 6, 25, 19, 8, 46, 15, 6, 10, 20, 6, 6, 29, 50, 6, 38, 30, 19, 42, 101, 20, 80, 42, 28, 6, 6, 24, 6, 6, 11, 37, 43, 10, 123, 74, 41, 46, 6, 4, 6, 6, 34, 14, 14, 8, 9, 29, 6, 48, 15, 26, 20, 29, 53, 6, 6, 30, 38, 10, 6, 6, 6, 43, 6, 60, 11, 31, 20, 76, 1, 6, 6, 8, 38, 80, 26, 6, 26, 6, 44, 9, 32, 9, 26, 53, 22, 6, 6, 16, 79, 8, 61, 9, 6, 60, 41, 18, 62, 10, 6, 77, 18, 6, 6, 68, 30, 37, 74, 22, 11, 20, 37, 36, 15, 19, 15, 35, 29, 22, 7, 70, 81, 49, 32, 123, 13, 11, 44, 67, 6, 85, 45, 61, 6, 55, 76, 9, 6, 26, 46, 6]\n"
          ]
        }
      ],
      "source": [
        "demora = [0 for _ in range(len(inducciones))]\n",
        "\n",
        "demora = [ inducciones[d] - year_max[d] for d in range(len(inducciones))]\n",
        "\n",
        "print((demora))"
      ]
    },
    {
      "cell_type": "code",
      "execution_count": 242,
      "metadata": {
        "colab": {
          "base_uri": "https://localhost:8080/"
        },
        "id": "K11PAci4AinA",
        "outputId": "74b03fcc-b945-492a-dd4b-d9e75b0cad5a"
      },
      "outputs": [
        {
          "name": "stdout",
          "output_type": "stream",
          "text": [
            "LENS:\n",
            "general\n",
            "351\n",
            "351\n",
            "351\n",
            "351\n",
            "bateo\n",
            "307\n",
            "307\n",
            "307\n",
            "307\n",
            "307\n",
            "307\n",
            "307\n",
            "307\n",
            "307\n",
            "307\n",
            "307\n"
          ]
        }
      ],
      "source": [
        "print(\"LENS:\")\n",
        "print(\"general\")\n",
        "print(len(names))\n",
        "print(len(categories))\n",
        "print(len(porcents))\n",
        "print(len(links))\n",
        "print(\"bateo\")\n",
        "print(len(names_batting))\n",
        "print(len(war))\n",
        "print(len(h))\n",
        "print(len(hr))\n",
        "print(len(ab))\n",
        "print(len(ba))\n",
        "print(len(rbi))\n",
        "print(len(inducciones))\n",
        "print(len(demora))\n",
        "print(len(experiencia))\n",
        "print(len(year_max))"
      ]
    }
  ],
  "metadata": {
    "colab": {
      "provenance": []
    },
    "kernelspec": {
      "display_name": "Python 3",
      "name": "python3"
    },
    "language_info": {
      "name": "python"
    }
  },
  "nbformat": 4,
  "nbformat_minor": 0
}
