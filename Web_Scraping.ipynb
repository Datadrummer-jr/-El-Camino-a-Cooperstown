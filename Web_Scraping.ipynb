{
  "cells": [
    {
      "cell_type": "markdown",
      "metadata": {
        "id": "v8dYDFWrBxgT"
      },
      "source": []
    },
    {
      "cell_type": "code",
      "execution_count": 61,
      "metadata": {
        "colab": {
          "base_uri": "https://localhost:8080/"
        },
        "id": "VWcutBYpBzPH",
        "outputId": "5f9b342e-6b8e-481d-d817-d1625b031a2b"
      },
      "outputs": [
        {
          "output_type": "stream",
          "name": "stdout",
          "text": [
            "(Reading database ... \r(Reading database ... 5%\r(Reading database ... 10%\r(Reading database ... 15%\r(Reading database ... 20%\r(Reading database ... 25%\r(Reading database ... 30%\r(Reading database ... 35%\r(Reading database ... 40%\r(Reading database ... 45%\r(Reading database ... 50%\r(Reading database ... 55%\r(Reading database ... 60%\r(Reading database ... 65%\r(Reading database ... 70%\r(Reading database ... 75%\r(Reading database ... 80%\r(Reading database ... 85%\r(Reading database ... 90%\r(Reading database ... 95%\r(Reading database ... 100%\r(Reading database ... 126267 files and directories currently installed.)\n",
            "Preparing to unpack google-chrome-stable_current_amd64.deb ...\n",
            "Unpacking google-chrome-stable (137.0.7151.68-1) over (137.0.7151.68-1) ...\n",
            "Setting up google-chrome-stable (137.0.7151.68-1) ...\n",
            "Processing triggers for mailcap (3.70+nmu1ubuntu1) ...\n",
            "Processing triggers for man-db (2.10.2-1) ...\n",
            "Reading package lists... Done\n",
            "Building dependency tree... Done\n",
            "Reading state information... Done\n",
            "0 upgraded, 0 newly installed, 0 to remove and 35 not upgraded.\n",
            "Google Chrome 137.0.7151.68 \n"
          ]
        }
      ],
      "source": [
        "!wget -q https://dl.google.com/linux/direct/google-chrome-stable_current_amd64.deb\n",
        "!dpkg -i google-chrome-stable_current_amd64.deb\n",
        "!apt-get -f install -y\n",
        "!google-chrome --version\n"
      ]
    },
    {
      "cell_type": "code",
      "execution_count": 62,
      "metadata": {
        "colab": {
          "base_uri": "https://localhost:8080/"
        },
        "id": "gVF-kPxvB7cI",
        "outputId": "3c962421-3316-43a2-90ec-aea459278a79"
      },
      "outputs": [
        {
          "output_type": "stream",
          "name": "stdout",
          "text": [
            "Version: 137.0.7151.68-1\n",
            "chromedriver-linux64.zip: Zip archive data, at least v2.0 to extract, compression method=deflate\n",
            " inflated: chromedriver-linux64/LICENSE.chromedriver\n",
            " inflated: chromedriver-linux64/THIRD_PARTY_NOTICES.chromedriver\n",
            " inflated: chromedriver-linux64/chromedriver\n",
            "mv: cannot stat 'chromedriver-linux64/chromedriver': No such file or directory\n",
            "ChromeDriver 137.0.7151.55 (254bc711794d7ad269495f3d419a209935b78cad-refs/branch-heads/7151@{#1757})\n"
          ]
        }
      ],
      "source": [
        "!dpkg -s google-chrome-stable | grep Version\n",
        "!wget -q https://mirrors.huaweicloud.com/chromedriver/137.0.7151.55/chromedriver-linux64.zip\n",
        "!file chromedriver-linux64.zip\n",
        "!jar xvf chromedriver-linux64.zip\n",
        "!chmod +x chromedriver-linux64/chromedriver\n",
        "!sudo mv chromedriver-linux64/chromedriver /usr/bin/chromedriver\n",
        "!sudo chmod +x /usr/bin/chromedriver\n",
        "!mv chromedriver-linux64/chromedriver /usr/bin/chromedriver\n",
        "!chromedriver --version\n"
      ]
    },
    {
      "cell_type": "code",
      "execution_count": 63,
      "metadata": {
        "id": "jwIyq99fLMUx",
        "colab": {
          "base_uri": "https://localhost:8080/"
        },
        "outputId": "9de6d599-f825-44f0-9249-5aee2f6fa2a8"
      },
      "outputs": [
        {
          "output_type": "stream",
          "name": "stdout",
          "text": [
            "Requirement already satisfied: selenium in /usr/local/lib/python3.11/dist-packages (4.33.0)\n",
            "Requirement already satisfied: urllib3~=2.4.0 in /usr/local/lib/python3.11/dist-packages (from urllib3[socks]~=2.4.0->selenium) (2.4.0)\n",
            "Requirement already satisfied: trio~=0.30.0 in /usr/local/lib/python3.11/dist-packages (from selenium) (0.30.0)\n",
            "Requirement already satisfied: trio-websocket~=0.12.2 in /usr/local/lib/python3.11/dist-packages (from selenium) (0.12.2)\n",
            "Requirement already satisfied: certifi>=2025.4.26 in /usr/local/lib/python3.11/dist-packages (from selenium) (2025.4.26)\n",
            "Requirement already satisfied: typing_extensions~=4.13.2 in /usr/local/lib/python3.11/dist-packages (from selenium) (4.13.2)\n",
            "Requirement already satisfied: websocket-client~=1.8.0 in /usr/local/lib/python3.11/dist-packages (from selenium) (1.8.0)\n",
            "Requirement already satisfied: attrs>=23.2.0 in /usr/local/lib/python3.11/dist-packages (from trio~=0.30.0->selenium) (25.3.0)\n",
            "Requirement already satisfied: sortedcontainers in /usr/local/lib/python3.11/dist-packages (from trio~=0.30.0->selenium) (2.4.0)\n",
            "Requirement already satisfied: idna in /usr/local/lib/python3.11/dist-packages (from trio~=0.30.0->selenium) (3.10)\n",
            "Requirement already satisfied: outcome in /usr/local/lib/python3.11/dist-packages (from trio~=0.30.0->selenium) (1.3.0.post0)\n",
            "Requirement already satisfied: sniffio>=1.3.0 in /usr/local/lib/python3.11/dist-packages (from trio~=0.30.0->selenium) (1.3.1)\n",
            "Requirement already satisfied: wsproto>=0.14 in /usr/local/lib/python3.11/dist-packages (from trio-websocket~=0.12.2->selenium) (1.2.0)\n",
            "Requirement already satisfied: pysocks!=1.5.7,<2.0,>=1.5.6 in /usr/local/lib/python3.11/dist-packages (from urllib3[socks]~=2.4.0->selenium) (1.7.1)\n",
            "Requirement already satisfied: h11<1,>=0.9.0 in /usr/local/lib/python3.11/dist-packages (from wsproto>=0.14->trio-websocket~=0.12.2->selenium) (0.16.0)\n"
          ]
        }
      ],
      "source": [
        "!pip install selenium"
      ]
    },
    {
      "cell_type": "code",
      "execution_count": 64,
      "metadata": {
        "id": "ZOgvkge2RsAV"
      },
      "outputs": [],
      "source": [
        "def you_type(cadena: str):\n",
        "  n = len(cadena)\n",
        "  caracteres = [l for l in cadena]\n",
        "  if caracteres[0] == \".\" and cadena[1:n].isdigit():\n",
        "    return float(cadena)\n",
        "  if cadena.isdigit():\n",
        "    return int(cadena)\n",
        "  else:\n",
        "    for i in cadena:\n",
        "      if \".\" in caracteres and i.isdigit():\n",
        "        return float(cadena)\n",
        "      else:\n",
        "        return str(cadena)"
      ]
    },
    {
      "cell_type": "code",
      "source": [
        "def ordenar(x, listax, listay,multi_lista):\n",
        "  indice1 = listax.index(x)\n",
        "  indice2 = listay.index(x)\n",
        "  for lista in multi_lista:\n",
        "    lista[indice1] , lista[indice2] = lista[indice2] , lista[indice1]\n",
        "  return\n",
        "\n",
        "def multi_orden(lista_independiente, listas_dependientes):\n",
        "  for i in lista_independiente:\n",
        "    ordenar(i,lista_independiente,listas_dependientes[0], listas_dependientes)"
      ],
      "metadata": {
        "id": "gCR0onPgApGP"
      },
      "execution_count": 65,
      "outputs": []
    },
    {
      "cell_type": "code",
      "source": [
        "def del_diferencia(listax, listay, listaz):\n",
        "  indices = []\n",
        "  for i in listay:\n",
        "    if i not in listax:\n",
        "      indices.append(listay.index(i))\n",
        "\n",
        "  for a,elemento in zip(indices, listaz):\n",
        "    del elemento[a]\n",
        "\n",
        "\n"
      ],
      "metadata": {
        "id": "PSRpfKMID4Wn"
      },
      "execution_count": 66,
      "outputs": []
    },
    {
      "cell_type": "code",
      "source": [
        "lista = [\"casa\",\"cuba\",\"españa\"]\n",
        "lista2 = [\"cuba\",\"españa\",\"casa\",\"Angola\",\"Colombia\"]\n",
        "lista3 = [53,34,54,0,65]\n",
        "\n",
        "for v in range(2):\n",
        "  del_diferencia(lista, lista2, [lista2,lista3])\n",
        "\n",
        "print(lista2)\n",
        "multi_orden(lista, [lista2,lista3])\n",
        "\n",
        "print(lista2)"
      ],
      "metadata": {
        "colab": {
          "base_uri": "https://localhost:8080/"
        },
        "id": "RbzNapaHD3Oi",
        "outputId": "39d9f55f-5b75-491e-df40-2037223a6625"
      },
      "execution_count": 67,
      "outputs": [
        {
          "output_type": "stream",
          "name": "stdout",
          "text": [
            "['cuba', 'españa', 'casa']\n",
            "['casa', 'cuba', 'españa']\n"
          ]
        }
      ]
    },
    {
      "cell_type": "code",
      "execution_count": 68,
      "metadata": {
        "id": "JQv3hTgllbgq",
        "colab": {
          "base_uri": "https://localhost:8080/"
        },
        "outputId": "1c8b432a-4d16-49e0-d9ad-f9937a6b9dfc"
      },
      "outputs": [
        {
          "output_type": "stream",
          "name": "stdout",
          "text": [
            "[None, None, '86.8%', '99.7%', '82.5%', '95.1%', '79.7%', None, '76.1%', '100.0%', '76.3%', None, '75.0%', '75.0%', '87.5%', '81.3%', '75.0%', '77.9%', '99.7%', '81.3%', '81.3%', '76.6%', '75.0%', '85.4%', '85.4%', '76.7%', '100.0%', '100.0%', '92.9%', '79.9%', '97.2%', '87.5%', '89.8%', '81.3%', '86.2%', '86.0%', '76.0%', '100.0%', None, '99.3%', '83.0%', '82.7%', '97.3%', '91.1%', '82.9%', '100.0%', '91.9%', '100.0%', '97.2%', '83.7%', '100.0%', '93.8%', '93.8%', '87.5%', '86.4%', '93.8%', '90.0%', '79.7%', None, '77.9%', '93.8%', '87.5%', '83.3%', '94.8%', '76.4%', '83.3%', '85.8%', None, '75.0%', '81.3%', '81.3%', '97.6%', '98.5%', None, None, None, None, None, None, None, None, None, None, None, '76.9%', None, None, None, None, None, None, '91.9%', '76.2%', '83.2%', '85.2%', '78.0%', '85.3%', '91.7%', None, '82.1%', None, '84.5%', None, '79.6%', None, '77.2%', None, '98.2%', None, None, '98.8%', None, None, '77.5%', None, None, None, None, '81.6%', None, None, '80.3%', None, None, None, None, None, None, None, None, '96.5%', None, '95.6%', None, None, '93.6%', '81.2%', None, None, '98.8%', '90.5%', '75.4%', None, '77.2%', None, '81.8%', '92.6%', None, '96.4%', None, '94.6%', '82.4%', None, '76.3%', '85.7%', None, None, '81.4%', '79.7%', None, None, '83.8%', '84.6%', '78.4%', None, '83.1%', None, None, None, '83.7%', '92.0%', '97.8%', None, None, '89.2%', None, '84.0%', None, '88.3%', None, '86.5%', None, None, '94.7%', None, None, None, '79.4%', '83.8%', None, None, None, None, None, None, None, None, '78.6%', None, '86.9%', None, None, None, None, '75.4%', None, None, None, '77.8%', '88.2%', None, None, None, None, None, '83.2%', None, '85.6%', None, None, None, '86.9%', None, '76.0%', None, None, None, None, None, None, None, None, None, '77.3%', None, None, None, '79.4%', None, None, '93.2%', None, None, '84.8%', None, '86.9%', None, None, '93.4%', None, '94.0%', None, None, None, None, None, None, None, None, None, None, '93.8%', None, '77.5%', None, None, None, None, None, None, '78.8%', '85.0%', None, '88.8%', '77.7%', '86.5%', None, '81.7%', '80.2%', '82.9%', '77.4%', None, None, None, '79.2%', None, '75.4%', None, None, '86.8%', '83.3%', '79.2%', '87.2%', None, '85.0%', None, '77.7%', '76.9%', '79.5%', '84.5%', '76.4%', '87.0%', None, None, None, None, None, None, None, None, None, None, None, None, None, None, None, None, None, None, None, None, None, None, '78.1%', None, '77.7%', None, None, None, None, '75.5%', None, '85.8%', None, '80.9%', None, None, None, None, '83.6%', None, None, '82.1%', None, '76.1%', '98.2%', '83.6%', '90.7%', '95.1%', '95.1%']\n"
          ]
        }
      ],
      "source": [
        "\n",
        "\n",
        "names = []\n",
        "porcents = []\n",
        "links = []\n",
        "categories =[]\n",
        "\n",
        "\n",
        "from selenium import webdriver\n",
        "from selenium.webdriver.chrome.service import Service\n",
        "from selenium.webdriver.chrome.options import Options\n",
        "from selenium.webdriver.common.by import By\n",
        "from selenium.webdriver.support.ui import WebDriverWait\n",
        "from selenium.webdriver.support import expected_conditions as EC\n",
        "chrome_options = Options()\n",
        "chrome_options.add_argument(\"--headless\")\n",
        "chrome_options.add_argument(\"--no-sandbox\")\n",
        "chrome_options.add_argument(\"--disable-dev-shm-usage\")\n",
        "\n",
        "# Ruta correcta de Google Chrome\n",
        "chrome_options.binary_location = \"/usr/bin/google-chrome\"\n",
        "\n",
        "# Ruta de ChromeDriver\n",
        "service = Service(\"/usr/bin/chromedriver\")\n",
        "\n",
        "# Iniciar WebDriver\n",
        "driver = webdriver.Chrome(service=service, options=chrome_options)\n",
        "try:\n",
        "        driver.get(f\"https://www.baseball-reference.com/awards/hof.shtml\")\n",
        "        wait = WebDriverWait(driver, 45)\n",
        "        lista = wait.until(EC.presence_of_all_elements_located((By.XPATH, \"//tr/td[@data-stat='player']/a\")))\n",
        "\n",
        "        for player_link in lista:\n",
        "            links.append(player_link.get_attribute(\"href\"))\n",
        "\n",
        "\n",
        "\n",
        "        player = driver.find_elements(By.XPATH, \"//tr/td[@data-stat='player']/a\")\n",
        "        for name in player:\n",
        "            names.append(you_type(name.text))\n",
        "\n",
        "        elementos = driver.find_elements(By.XPATH, '//tr/td[@data-stat=\"category_hof\"]')\n",
        "\n",
        "# Extrae y muestra los textos\n",
        "        for elemento in elementos:\n",
        "          categories.append(elemento.text)\n",
        "\n",
        "\n",
        "# Extraer los valores dentro de varias etiquetas <tr>\n",
        "        porcentajes = driver.find_elements(By.XPATH, '//td[@data-stat=\"votes_pct\"]')\n",
        "\n",
        "# Mostrar los resultados\n",
        "        for td in porcentajes:\n",
        "          porcents.append(td.text)\n",
        "\n",
        "\n",
        "except Exception as e:\n",
        "  print(f\"Error al encontrar los elementos: {e}\")\n",
        "driver.quit()\n",
        "\n",
        "\n",
        "def category(element,  origen , categoria) -> bool:\n",
        "  indice = origen.index(element)\n",
        "  if categories[indice] == categoria:\n",
        "    return True\n",
        "  return False\n",
        "\n",
        "\n",
        "porcents = list(map(lambda x: None if x == '' else x, porcents))\n",
        "print(porcents)\n"
      ]
    },
    {
      "cell_type": "code",
      "source": [
        "names_batting = []\n",
        "war = []\n",
        "ab = []\n",
        "h = []\n",
        "hr = []\n",
        "ba = []\n",
        "rbi = []\n",
        "experiencia = []\n",
        "year_max = []\n",
        "inducciones = []\n",
        "\n",
        "\n",
        "from selenium import webdriver\n",
        "from selenium.webdriver.chrome.service import Service\n",
        "from selenium.webdriver.chrome.options import Options\n",
        "from selenium.webdriver.common.by import By\n",
        "from selenium.webdriver.support.ui import WebDriverWait\n",
        "from selenium.webdriver.support import expected_conditions as EC\n",
        "chrome_options = Options()\n",
        "chrome_options.add_argument(\"--headless\")\n",
        "chrome_options.add_argument(\"--no-sandbox\")\n",
        "chrome_options.add_argument(\"--disable-dev-shm-usage\")\n",
        "\n",
        "# Ruta correcta de Google Chrome\n",
        "chrome_options.binary_location = \"/usr/bin/google-chrome\"\n",
        "\n",
        "# Ruta de ChromeDriver\n",
        "service = Service(\"/usr/bin/chromedriver\")\n",
        "\n",
        "# Iniciar WebDriver\n",
        "driver = webdriver.Chrome(service=service, options=chrome_options)\n",
        "try:\n",
        "        driver.get(f\"https://www.baseball-reference.com/awards/hof_batting.shtml\")\n",
        "        wait = WebDriverWait(driver, 10)\n",
        "\n",
        "        player = driver.find_elements(By.XPATH, \"//tr/td[@data-stat='player']/a\")\n",
        "        for name in player:\n",
        "            names_batting.append(you_type(name.text))\n",
        "\n",
        "        wars = driver.find_elements(By.XPATH, \"//tr/td[@data-stat='WAR_bat']\")\n",
        "        for w in wars:\n",
        "          war.append(you_type(w.text))\n",
        "\n",
        "        avg = driver.find_elements(By.XPATH, \"//tr/td[@data-stat='batting_avg']\")\n",
        "        for av in avg:\n",
        "          ba.append(you_type(av.text))\n",
        "\n",
        "        rbis = driver.find_elements(By.XPATH, \"//tr/td[@data-stat='RBI']\")\n",
        "        for r in rbis:\n",
        "          rbi.append(you_type(r.text))\n",
        "\n",
        "        hrs = driver.find_elements(By.XPATH, \"//tr/td[@data-stat='HR']\")\n",
        "        for r in hrs:\n",
        "          hr.append(you_type(r.text))\n",
        "\n",
        "        hs =  driver.find_elements(By.XPATH, \"//tr/td[@data-stat='H']\")\n",
        "        for j in hs:\n",
        "          h.append(you_type(j.text))\n",
        "\n",
        "        time = driver.find_elements(By.XPATH, \"//tr/td[@data-stat='experience']\")\n",
        "        for t in time:\n",
        "          experiencia.append(you_type(t.text))\n",
        "\n",
        "        retiros = driver.find_elements(By.XPATH, \"//tr/td[@data-stat='year_max']\")\n",
        "        for last in retiros:\n",
        "          year_max.append(you_type(last.text))\n",
        "\n",
        "        induction = driver.find_elements(By.XPATH, \"//tr/td[@data-stat='year_induction']\")\n",
        "        for ind in induction:\n",
        "          inducciones.append((ind.text))\n",
        "\n",
        "\n",
        "\n",
        "except Exception as e:\n",
        "  print(f\"Error al encontrar los elementos: {e}\")\n",
        "driver.quit()\n",
        "\n",
        "\n",
        "del war[-1]\n",
        "del ba[-1]\n",
        "del rbi[-1]\n",
        "del hr[-1]\n",
        "del h[-1]\n",
        "del year_max[-1]\n",
        "del experiencia[-1]\n"
      ],
      "metadata": {
        "id": "ZnC75dqOXmzC"
      },
      "execution_count": null,
      "outputs": []
    },
    {
      "cell_type": "code",
      "source": [
        "induccion = list(map(lambda x : you_type(x), list(filter(lambda x : x!= \"\", inducciones))))\n",
        "print(induccion)"
      ],
      "metadata": {
        "colab": {
          "base_uri": "https://localhost:8080/"
        },
        "id": "6a_4wJfp2Urw",
        "outputId": "237e8e3f-eb5b-4ed2-d0b9-10adbe34c36a"
      },
      "execution_count": 70,
      "outputs": [
        {
          "output_type": "stream",
          "name": "stdout",
          "text": [
            "[1982, 1938, 2025, 2011, 1983, 2000, 1939, 1984, 1964, 1995, 1975, 2017, 2019, 1955, 1971, 1977, 1971, 1974, 2024, 1989, 1953, 1972, 2015, 2011, 2005, 1974, 1970, 1945, 1999, 1985, 1945, 1949, 2006, 2006, 1996, 1946, 1969, 1991, 1961, 1994, 2003, 1999, 1946, 1976, 1946, 1945, 1963, 1973, 1936, 1947, 1939, 1945, 1970, 1939, 1974, 1976, 2006, 1969, 2014, 1957, 1956, 1939, 1968, 1987, 1998, 2010, 1995, 1953, 1945, 1954, 1977, 1955, 1998, 1986, 1984, 1945, 1994, 2004, 1946, 1939, 1964, 1962, 1984, 1992, 2000, 1963, 1974, 1996, 1997, 1951, 1947, 1965, 1939, 1949, 1981, 1972, 2014, 1972, 2009, 1968, 2008, 1956, 2016, 1946, 1964, 1947, 2018, 2007, 1971, 1970, 2019, 1961, 1996, 1975, 1955, 1952, 2024, 2009, 1975, 2010, 2006, 2022, 2018, 1971, 1942, 1969, 1947, 1964, 1987, 1973, 1993, 1982, 1991, 1945, 2020, 1975, 2015, 1936, 2018, 1978, 2022, 1980, 1964, 1939, 1983, 1971, 1973, 1945, 1984, 1975, 1980, 1972, 2014, 1937, 2012, 1997, 1991, 1976, 1972, 1976, 1977, 1986, 1977, 1955, 1937, 2006, 2014, 1974, 1964, 1954, 1983, 1971, 2019, 2015, 1978, 1936, 2024, 1979, 2001, 1946, 1986, 1946, 1937, 2023, 1962, 2000, 1968, 2006, 2022, 1981, 2004, 1990, 2018, 2003, 1969, 2019, 1992, 1949, 1997, 2013, 2022, 1945, 2022, 2022, 1951, 1971, 1990, 2025, 1948, 2000, 1991, 2016, 1946, 2001, 1939, 2017, 1984, 2009, 1963, 1967, 2007, 2019, 1963, 1994, 1976, 1983, 1982, 1962, 1945, 2017, 1998, 2023, 1962, 1967, 1977, 1936, 1999, 2025, 2005, 2012, 2006, 1955, 1995, 1989, 1992, 1977, 1953, 2020, 1939, 1985, 2001, 2019, 2002, 2015, 1980, 2008, 1973, 1939, 1937, 1988, 2000, 1966, 2006, 2006, 1998, 2025, 2006, 1954, 2014, 2018, 1974, 1946, 2014, 2006, 2018, 1948, 1955, 1985, 1946, 2025, 1936, 2020, 1953, 1946, 1967, 1952, 1964, 1973, 1997, 1959, 2013, 1985, 1987, 2008, 1999, 1966, 1995, 1979, 2006, 2001, 1937, 1953, 1972, 1989, 1937, 1972, 1999]\n"
          ]
        }
      ]
    },
    {
      "cell_type": "code",
      "source": [
        "demora = [0 for _ in range(len(war))]\n",
        "\n",
        "demora = [  induccion[d] - year_max[d] for d in range(len(war))]\n",
        "\n",
        "print(demora)"
      ],
      "metadata": {
        "colab": {
          "base_uri": "https://localhost:8080/"
        },
        "id": "1U21q0eF6OLI",
        "outputId": "b0dc7b05-ec51-4733-9c5c-fbda5d30cbe7"
      },
      "execution_count": 71,
      "outputs": [
        {
          "output_type": "stream",
          "name": "stdout",
          "text": [
            "[6, 8, 48, 7, 47, 41, 42, 11, 14, 33, 34, 12, 18, 33, 41, 6, 64, 28, 6, 6, 28, 7, 8, 19, 6, 37, 18, 30, 6, 6, 41, 33, 61, 58, 25, 41, 12, 6, 32, 6, 11, 25, 32, 35, 37, 30, 69, 1, 8, 10, 9, 37, 35, 45, 39, 79, 67, 41, 45, 40, 11, 62, 30, 43, 89, 14, 49, 6, 42, 8, 32, 4, 39, 35, 15, 39, 49, 6, 17, 42, 31, 6, 37, 7, 7, 53, 7, 59, 32, 6, 10, 73, 0, 7, 6, 26, 6, 29, 59, 30, 14, 9, 6, 32, 30, 6, 7, 6, 34, 33, 6, 60, 104, 44, 14, 20, 11, 6, 28, 47, 81, 59, 8, 46, 5, 31, 4, 48, 8, 17, 6, 46, 8, 27, 6, 39, 6, 9, 6, 68, 39, 6, 71, 29, 26, 63, 41, 52, 9, 20, 36, 6, 41, 21, 8, 41, 52, 18, 24, 40, 48, 39, 30, 9, 41, 59, 6, 6, 25, 19, 8, 46, 15, 6, 10, 20, 6, 6, 29, 50, 6, 38, 30, 19, 42, 101, 20, 80, 42, 28, 6, 6, 24, 6, 6, 11, 37, 43, 10, 123, 74, 41, 46, 6, 4, 6, 6, 34, 14, 14, 8, 9, 29, 6, 48, 15, 26, 20, 29, 53, 6, 6, 30, 38, 10, 6, 6, 6, 43, 6, 60, 11, 31, 20, 76, 1, 6, 6, 8, 38, 80, 26, 6, 26, 6, 44, 9, 32, 9, 26, 53, 22, 6, 6, 16, 79, 8, 61, 9, 6, 60, 41, 18, 62, 10, 6, 77, 18, 6, 6, 68, 30, 37, 74, 22, 11, 20, 37, 36, 15, 19, 15, 35, 29, 22, 7, 70, 81, 49, 32, 123, 13, 11, 44, 67, 6, 85, 45, 61, 6, 55, 76, 9, 6, 26, 46, 6]\n"
          ]
        }
      ]
    },
    {
      "cell_type": "code",
      "source": [
        "indices = []\n",
        "\n",
        "for i in range(len(categories)):\n",
        "  if categories[i] == \"Manager\" or categories[i] == \"Pioneer/Executive\":\n",
        "    indices.append(i)\n",
        "\n",
        "for indice in indices[::-1]:\n",
        "  del names[indice]\n",
        "  del links[indice]\n",
        "  del porcents[indice]\n",
        "  del categories[indice]\n",
        "\n",
        "\n",
        "\n",
        "\n"
      ],
      "metadata": {
        "id": "3-ys-EBbDBbI"
      },
      "execution_count": 72,
      "outputs": []
    },
    {
      "cell_type": "code",
      "source": [
        "print(len(names_batting))"
      ],
      "metadata": {
        "colab": {
          "base_uri": "https://localhost:8080/"
        },
        "id": "NMXMiVDXgeUL",
        "outputId": "076abccc-19b4-4c91-95a4-09476bd877e8"
      },
      "execution_count": 99,
      "outputs": [
        {
          "output_type": "stream",
          "name": "stdout",
          "text": [
            "280\n"
          ]
        }
      ]
    },
    {
      "cell_type": "code",
      "source": [
        "contador = 0\n",
        "\n",
        "for title in names:\n",
        "  if title not in names_batting:\n",
        "    contador += 1\n",
        "\n",
        "print(contador)\n",
        "\n",
        "\n",
        "\n"
      ],
      "metadata": {
        "colab": {
          "base_uri": "https://localhost:8080/"
        },
        "id": "idbGGTN7S8aG",
        "outputId": "f7321efc-7d2d-4773-9816-4feeb66b5850"
      },
      "execution_count": 82,
      "outputs": [
        {
          "output_type": "stream",
          "name": "stdout",
          "text": [
            "8\n"
          ]
        }
      ]
    },
    {
      "cell_type": "code",
      "source": [],
      "metadata": {
        "colab": {
          "base_uri": "https://localhost:8080/"
        },
        "id": "xNOS6mjJGo8p",
        "outputId": "b8465d24-de98-44e3-fd6e-db77ea99339a"
      },
      "execution_count": 100,
      "outputs": [
        {
          "output_type": "stream",
          "name": "stdout",
          "text": [
            "285\n"
          ]
        }
      ]
    },
    {
      "cell_type": "code",
      "source": [
        "\n"
      ],
      "metadata": {
        "id": "TewVuIFWBmCB"
      },
      "execution_count": 99,
      "outputs": []
    },
    {
      "cell_type": "code",
      "source": [],
      "metadata": {
        "colab": {
          "base_uri": "https://localhost:8080/"
        },
        "id": "Y1XJee668KFi",
        "outputId": "a2c07380-eaa8-4db9-b1b9-cf30efe9ae24"
      },
      "execution_count": 75,
      "outputs": [
        {
          "output_type": "stream",
          "name": "stdout",
          "text": [
            "288\n",
            "281\n"
          ]
        }
      ]
    },
    {
      "cell_type": "code",
      "source": [
        "import pandas as pd\n",
        "import numpy as np\n",
        "from sklearn.model_selection import train_test_split\n",
        "from sklearn.linear_model import LinearRegression\n",
        "from sklearn.metrics import mean_squared_error\n",
        "\n",
        "# Crear un DataFrame de ejemplo\n",
        "data = {\n",
        "    \"X1\": [1, 2, 3, 4, 5],\n",
        "    \"X2\": [2, 4, 6, 8, 10],\n",
        "    \"Y\": [3, 6, 9, 12, 15]\n",
        "}\n",
        "df = pd.DataFrame(data)\n",
        "\n",
        "# Definir variables independientes (X) y dependiente (Y)\n",
        "X = df[[\"X1\", \"X2\"]]  # Variables predictoras\n",
        "Y = df[\"Y\"]  # Variable objetivo\n",
        "\n",
        "# Dividir datos en entrenamiento y prueba\n",
        "X_train, X_test, Y_train, Y_test = train_test_split(X, Y, test_size=0.2, random_state=42)\n",
        "\n",
        "# Crear y entrenar el modelo\n",
        "modelo = LinearRegression()\n",
        "modelo.fit(X_train, Y_train)\n",
        "\n",
        "# Predicciones\n",
        "Y_pred = modelo.predict(X_test)\n",
        "\n",
        "# Evaluación del modelo\n",
        "error = mean_squared_error(Y_test, Y_pred)\n",
        "print(f\"Error cuadrático medio: {error}\")\n",
        "print(f\"Coeficientes: {modelo.coef_}\")\n",
        "print(f\"Intercepto: {modelo.intercept_}\")\n",
        "\n"
      ],
      "metadata": {
        "colab": {
          "base_uri": "https://localhost:8080/"
        },
        "id": "w1B_N2mcA8hg",
        "outputId": "79d0ec6b-2d4e-4364-dfb2-60545f80849d"
      },
      "execution_count": 76,
      "outputs": [
        {
          "output_type": "stream",
          "name": "stdout",
          "text": [
            "Error cuadrático medio: 7.888609052210118e-31\n",
            "Coeficientes: [0.6 1.2]\n",
            "Intercepto: 0.0\n"
          ]
        }
      ]
    },
    {
      "cell_type": "code",
      "source": [
        "import numpy as np\n",
        "import pandas as pd\n",
        "import matplotlib.pyplot as plt\n",
        "from sklearn.linear_model import LinearRegression\n",
        "\n",
        "# Datos de ejemplo (dos variables independientes)\n",
        "X = np.array([[1, 2], [2, 3], [3, 5], [4, 7], [5, 8]])  # Variables predictoras\n",
        "y = np.array([2, 3, 5, 6, 8])  # Variable dependiente\n",
        "\n",
        "# Crear y entrenar el modelo\n",
        "modelo = LinearRegression()\n",
        "modelo.fit(X, y)\n",
        "\n",
        "# Predicciones\n",
        "y_pred = modelo.predict(X)\n",
        "\n",
        "# Mostrar coeficientes\n",
        "print(\"Coeficientes:\", modelo.coef_)\n",
        "print(\"Intercepto:\", modelo.intercept_)\n",
        "\n",
        "# Visualización (solo posible si una variable independiente se mantiene fija)\n",
        "plt.scatter(X[:, 0], y, color=\"blue\", label=\"Datos reales\")\n",
        "plt.plot(X[:, 0], y_pred, color=\"red\", label=\"Predicción\")\n",
        "plt.legend()\n",
        "plt.show()\n"
      ],
      "metadata": {
        "colab": {
          "base_uri": "https://localhost:8080/",
          "height": 466
        },
        "id": "j7cDMOOUa4j2",
        "outputId": "8c52934d-182e-41a3-ec3f-f307467934a2"
      },
      "execution_count": 77,
      "outputs": [
        {
          "output_type": "stream",
          "name": "stdout",
          "text": [
            "Coeficientes: [1.50000000e+00 5.01740568e-16]\n",
            "Intercepto: 0.3000000000000007\n"
          ]
        },
        {
          "output_type": "display_data",
          "data": {
            "text/plain": [
              "<Figure size 640x480 with 1 Axes>"
            ],
            "image/png": "[encoded data removed]"
          },
          "metadata": {}
        }
      ]
    }
  ],
  "metadata": {
    "colab": {
      "provenance": []
    },
    "kernelspec": {
      "display_name": "Python 3",
      "name": "python3"
    },
    "language_info": {
      "name": "python"
    }
  },
  "nbformat": 4,
  "nbformat_minor": 0
}